{
 "cells": [
  {
   "cell_type": "markdown",
   "metadata": {},
   "source": [
    "# Multi-window terminal"
   ]
  },
  {
   "cell_type": "code",
   "execution_count": null,
   "metadata": {},
   "outputs": [],
   "source": [
    "# go back to previous sitting directory\n",
    "cd -\n",
    "\n",
    "# go to home directory (~)\n",
    "cd\n",
    "\n",
    "#list the processes running along with the consumed cpu and memory\n",
    "htop\n",
    "\n",
    "#yet another git interface\n",
    "tig\n",
    "\n",
    "#list files in the current directory, output as a list and display hidden files (having a name starting by a .)\n",
    "ls -la\n",
    "\n",
    "#copy recursively source directory (or file) to target destination\n",
    "cp -rf <source> <destination>\n",
    "\n",
    "#move source file or directory to target destination\n",
    "mv <source> <destination>"
   ]
  }
 ],
 "metadata": {
  "kernelspec": {
   "display_name": "Python 3",
   "language": "python",
   "name": "python3"
  },
  "language_info": {
   "codemirror_mode": {
    "name": "ipython",
    "version": 3
   },
   "file_extension": ".py",
   "mimetype": "text/x-python",
   "name": "python",
   "nbconvert_exporter": "python",
   "pygments_lexer": "ipython3",
   "version": "3.7.7"
  }
 },
 "nbformat": 4,
 "nbformat_minor": 4
}
