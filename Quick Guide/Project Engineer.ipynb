{
 "cells": [
  {
   "cell_type": "markdown",
   "metadata": {},
   "source": [
    "# ML Flow"
   ]
  },
  {
   "cell_type": "markdown",
   "metadata": {},
   "source": [
    "### Record the performance of your training locally"
   ]
  },
  {
   "cell_type": "code",
   "execution_count": null,
   "metadata": {},
   "outputs": [],
   "source": [
    "from  mlflow.tracking import MlflowClient\n",
    "EXPERIMENT_NAME = \"model_experiment\"\n",
    "client = MlflowClient()\n",
    "experiment_id = client.create_experiment(EXPERIMENT_NAME)\n",
    "\n",
    "for model in [\"linear\", \"Randomforest\"]:\n",
    "    run = client.create_run(experiment_id)\n",
    "    client.log_metric(run.info.run_id, \"rmse\", 4.5)\n",
    "    client.log_param(run.info.run_id, \"model\", model)"
   ]
  },
  {
   "cell_type": "markdown",
   "metadata": {},
   "source": [
    "### Le Wagon hosted MLflow server\n",
    "https://mlflow.lewagon.co/"
   ]
  },
  {
   "cell_type": "code",
   "execution_count": null,
   "metadata": {},
   "outputs": [],
   "source": [
    "# EXPERIMENT_NAME = \"[FR] [Paris] [gmanchon] taxifare v1\"\n",
    "EXPERIMENT_NAME = \"[country initials] [city] [login] model name + version"
   ]
  },
  {
   "cell_type": "code",
   "execution_count": null,
   "metadata": {},
   "outputs": [],
   "source": [
    "mport mlflow\n",
    "from  mlflow.tracking import MlflowClient\n",
    "mlflow.set_tracking_uri(\"https://mlflow.lewagon.co/\")\n",
    "EXPERIMENT_NAME = \"[country initials] [city] [login] model name + version\"\n",
    "\n",
    "client = MlflowClient()\n",
    "experiment_id = client.create_experiment(EXPERIMENT_NAME)\n",
    "\n",
    "for model in [\"linear\", \"Randomforest\"]:\n",
    "    run = client.create_run(experiment_id)\n",
    "    client.log_metric(run.info.run_id, \"rmse\", 4.5)\n",
    "    client.log_param(run.info.run_id, \"model\", model)"
   ]
  },
  {
   "cell_type": "markdown",
   "metadata": {},
   "source": [
    "### Structure your Code"
   ]
  },
  {
   "cell_type": "code",
   "execution_count": null,
   "metadata": {},
   "outputs": [],
   "source": [
    "class Trainer(object):\n",
    "\n",
    "    def __init__(self, X, y, **kwargs):\n",
    "        self.pipeline = None\n",
    "        self.kwargs = kwargs\n",
    "        self.dist = self.kwargs.get(\"distance_type\", \"euclidian\")\n",
    "        self.X_train, self.X_val, self.y_train, self.y_val = \\\n",
    "            train_test_split(X, y, test_size=0.15)\n",
    "        self.nrows = self.X_train.shape[0]\n",
    "\n",
    "    def get_estimator(self):\n",
    "        estimator = self.kwargs.get(\"estimator\", \"RandomForest\")\n",
    "        if estimator == \"RandomForest\":\n",
    "            model = RandomForestRegressor()\n",
    "        return model"
   ]
  },
  {
   "cell_type": "code",
   "execution_count": null,
   "metadata": {},
   "outputs": [],
   "source": [
    "    def set_pipeline(self):\n",
    "        # Define feature engineering pipeline blocks here\n",
    "        pipe_tf = make_pipeline(TimeEncoder(),\n",
    "                                OneHotEncoder())\n",
    "        pipe_dist = make_pipeline(DistTransformer(distance_type=self.dist), \n",
    "                                      StandardScaler())\n",
    "        pipe_d2center = make_pipeline(DistToCenter(), \n",
    "                                      StandardScaler())\n",
    "\n",
    "        # Define default feature engineering blocs\n",
    "        distance_columns = list(DIST_ARGS.values())\n",
    "        feateng_blocks = [\n",
    "            ('distance', pipe_dist, distance_columns),\n",
    "            ('time_features', pipe_tf, ['pickup_datetime']),\n",
    "            ('distance_to_center', pipe_d2center, distance_columns)]\n",
    "\n",
    "        features_encoder = ColumnTransformer(feateng_blocks,\n",
    "                                             n_jobs=None,\n",
    "                                             remainder=\"drop\")\n",
    "\n",
    "        regressor = self.get_estimator()\n",
    "\n",
    "        self.pipeline = Pipeline(steps=[\n",
    "                    ('features', features_encoder),\n",
    "                    ('rgs', regressor)])"
   ]
  },
  {
   "cell_type": "code",
   "execution_count": null,
   "metadata": {},
   "outputs": [],
   "source": [
    "     def train(self):\n",
    "        self.set_pipeline()\n",
    "        self.pipeline.fit(self.X_train, self.y_train)\n",
    "\n",
    "    def evaluate(self):\n",
    "        rmse_train = self.compute_rmse(self.X_train, self.y_train)\n",
    "        rmse_val = self.compute_rmse(self.X_val, self.y_val, show=True)\n",
    "        output_print = f\"rmse train: {rmse_train} || rmse val: {rmse_val}\"\n",
    "        print(colored(output_print, \"blue\"))\n",
    "\n",
    "    def compute_rmse(self, X_test, y_test, show=False):\n",
    "        y_pred = self.pipeline.predict(X_test)\n",
    "        rmse = compute_rmse(y_pred, y_test)\n",
    "        return round(rmse, 3)\n",
    "\n",
    "    def save_model(self):\n",
    "        \"\"\"Save the model into a .joblib format\"\"\"\n",
    "        joblib.dump(self.pipeline, 'model.joblib')\n",
    "        print(colored(\"model.joblib saved locally\", \"green\"))"
   ]
  },
  {
   "cell_type": "code",
   "execution_count": null,
   "metadata": {},
   "outputs": [],
   "source": [
    "params = dict(estimator='RandomForest',\n",
    "              distance_type='haversine',)\n",
    "\n",
    "trainer = Trainer(X, y, **params)\n",
    "trainer.train()\n",
    "trainer.evaluate()\n",
    "trainer.save_model()"
   ]
  },
  {
   "cell_type": "code",
   "execution_count": null,
   "metadata": {},
   "outputs": [],
   "source": []
  }
 ],
 "metadata": {
  "kernelspec": {
   "display_name": "Python 3",
   "language": "python",
   "name": "python3"
  },
  "language_info": {
   "codemirror_mode": {
    "name": "ipython",
    "version": 3
   },
   "file_extension": ".py",
   "mimetype": "text/x-python",
   "name": "python",
   "nbconvert_exporter": "python",
   "pygments_lexer": "ipython3",
   "version": "3.7.7"
  }
 },
 "nbformat": 4,
 "nbformat_minor": 4
}
