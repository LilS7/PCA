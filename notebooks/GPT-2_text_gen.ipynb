{
 "cells": [
  {
   "cell_type": "code",
   "execution_count": 199,
   "metadata": {},
   "outputs": [],
   "source": [
    "import numpy as np\n",
    "import pandas as pd\n",
    "from simpletransformers.language_modeling import LanguageModelingModel\n",
    "from simpletransformers.language_generation import LanguageGenerationModel\n",
    "import warnings\n",
    "import pickle\n",
    "import re\n",
    "warnings.filterwarnings('ignore')"
   ]
  },
  {
   "cell_type": "code",
   "execution_count": 200,
   "metadata": {},
   "outputs": [],
   "source": [
    "def clean(post):\n",
    "    post_split = post.split('|||')\n",
    "    # split the kaggle data set posts by |||\n",
    "    post_split_split = [x.split(' ') for x in post_split]\n",
    "    \n",
    "    # removes any 'words' that have http:// or https:// in them\n",
    "    return_list = [[item for item in sentence if ('http://' not in item and 'https://' not in item)] for sentence in post_split_split]\n",
    "    \n",
    "    # returns a list of posts if they are not empty after removing the links\n",
    "    return [' '.join(sentence) for sentence in return_list if sentence]"
   ]
  },
  {
   "cell_type": "code",
   "execution_count": 230,
   "metadata": {},
   "outputs": [],
   "source": [
    "df = pd.read_csv('../data/mbti_1.csv')"
   ]
  },
  {
   "cell_type": "code",
   "execution_count": 231,
   "metadata": {},
   "outputs": [],
   "source": [
    "df_dict = {'INTJ':0, 'INTP':0, 'ENTJ':1, 'ENTP':1, \n",
    "           'INFJ':0, 'INFP':0, 'ENFJ':1, 'ENFP':1, \n",
    "           'ISTJ':0, 'ISFJ':0, 'ESTJ':1, 'ESFJ':1, \n",
    "           'ISTP':0, 'ISFP':0, 'ESTP':1, 'ESFP':1}"
   ]
  },
  {
   "cell_type": "code",
   "execution_count": 232,
   "metadata": {},
   "outputs": [
    {
     "name": "stdout",
     "output_type": "stream",
     "text": [
      "INTJ (200, 2)\n",
      "INTP (200, 2)\n",
      "ENTJ (200, 2)\n",
      "ENTP (200, 2)\n",
      "INFJ (200, 2)\n",
      "INFP (200, 2)\n",
      "ENFJ (190, 2)\n",
      "ENFP (200, 2)\n",
      "ISTJ (200, 2)\n",
      "ISFJ (166, 2)\n",
      "ESTJ (39, 2)\n",
      "ESFJ (42, 2)\n",
      "ISTP (200, 2)\n",
      "ISFP (200, 2)\n",
      "ESTP (89, 2)\n",
      "ESFP (48, 2)\n"
     ]
    }
   ],
   "source": [
    "for dataframe in df_dict.keys():\n",
    "    if(df[df['type'] == dataframe].shape[0] < 200):\n",
    "        df_dict[dataframe] = df[df['type'] == dataframe]\n",
    "    else:\n",
    "        df_dict[dataframe] = df[df['type'] == dataframe].sample(n=200)\n",
    "    df_dict[dataframe]['post_split'] = df_dict[dataframe].posts.apply(clean)\n",
    "    print(dataframe, df_dict[dataframe].shape)"
   ]
  },
  {
   "cell_type": "code",
   "execution_count": 234,
   "metadata": {},
   "outputs": [
    {
     "data": {
      "text/html": [
       "<div>\n",
       "<style scoped>\n",
       "    .dataframe tbody tr th:only-of-type {\n",
       "        vertical-align: middle;\n",
       "    }\n",
       "\n",
       "    .dataframe tbody tr th {\n",
       "        vertical-align: top;\n",
       "    }\n",
       "\n",
       "    .dataframe thead th {\n",
       "        text-align: right;\n",
       "    }\n",
       "</style>\n",
       "<table border=\"1\" class=\"dataframe\">\n",
       "  <thead>\n",
       "    <tr style=\"text-align: right;\">\n",
       "      <th></th>\n",
       "      <th>type</th>\n",
       "      <th>posts</th>\n",
       "      <th>post_split</th>\n",
       "    </tr>\n",
       "  </thead>\n",
       "  <tbody>\n",
       "    <tr>\n",
       "      <th>167</th>\n",
       "      <td>INTJ</td>\n",
       "      <td>'Hi, are you really manic?|||greetings.|||Yes,...</td>\n",
       "      <td>['Hi, are you really manic?, greetings., Yes, ...</td>\n",
       "    </tr>\n",
       "    <tr>\n",
       "      <th>7500</th>\n",
       "      <td>INTJ</td>\n",
       "      <td>This is good...I was asking for a group analys...</td>\n",
       "      <td>[This is good...I was asking for a group analy...</td>\n",
       "    </tr>\n",
       "    <tr>\n",
       "      <th>790</th>\n",
       "      <td>INTJ</td>\n",
       "      <td>'throughtheroses  I cannot help you with this,...</td>\n",
       "      <td>['throughtheroses  I cannot help you with this...</td>\n",
       "    </tr>\n",
       "    <tr>\n",
       "      <th>4514</th>\n",
       "      <td>INTJ</td>\n",
       "      <td>'I got 23|||YAYYYY!! XD Can I have a cookie in...</td>\n",
       "      <td>['I got 23, YAYYYY!! XD Can I have a cookie in...</td>\n",
       "    </tr>\n",
       "    <tr>\n",
       "      <th>6810</th>\n",
       "      <td>INTJ</td>\n",
       "      <td>'Psychology is a science. You probably feel un...</td>\n",
       "      <td>['Psychology is a science. You probably feel u...</td>\n",
       "    </tr>\n",
       "  </tbody>\n",
       "</table>\n",
       "</div>"
      ],
      "text/plain": [
       "      type                                              posts  \\\n",
       "167   INTJ  'Hi, are you really manic?|||greetings.|||Yes,...   \n",
       "7500  INTJ  This is good...I was asking for a group analys...   \n",
       "790   INTJ  'throughtheroses  I cannot help you with this,...   \n",
       "4514  INTJ  'I got 23|||YAYYYY!! XD Can I have a cookie in...   \n",
       "6810  INTJ  'Psychology is a science. You probably feel un...   \n",
       "\n",
       "                                             post_split  \n",
       "167   ['Hi, are you really manic?, greetings., Yes, ...  \n",
       "7500  [This is good...I was asking for a group analy...  \n",
       "790   ['throughtheroses  I cannot help you with this...  \n",
       "4514  ['I got 23, YAYYYY!! XD Can I have a cookie in...  \n",
       "6810  ['Psychology is a science. You probably feel u...  "
      ]
     },
     "execution_count": 234,
     "metadata": {},
     "output_type": "execute_result"
    }
   ],
   "source": [
    "df_dict['INTJ'].head()"
   ]
  },
  {
   "cell_type": "code",
   "execution_count": 235,
   "metadata": {},
   "outputs": [],
   "source": [
    "for dataframe in df_dict.keys():\n",
    "    df_dict[dataframe] = df_dict[dataframe].post_split.tolist()"
   ]
  },
  {
   "cell_type": "code",
   "execution_count": 270,
   "metadata": {},
   "outputs": [],
   "source": [
    "def write_posts_to_file(posts, file):\n",
    "    for post in posts:\n",
    "        for ind_post in post:\n",
    "            if(re.search('[a-zA-Z]', ind_post)):\n",
    "                if(ind_post.endswith('...')or ind_post.endswith(\"...'\")):\n",
    "                    if(re.search('.*[\\.?!]\\s', ind_post)):\n",
    "                        file.writelines(re.search('.*[\\.?!]\\s', ind_post).group(0).strip() + \"\\n\")\n",
    "                else:\n",
    "                    file.writelines(ind_post)"
   ]
  },
  {
   "cell_type": "code",
   "execution_count": 237,
   "metadata": {},
   "outputs": [],
   "source": [
    "for type_ in df_dict.keys():\n",
    "    with open(f\"../data/2.0_GPT-2_text_gen_posts/{type_}_posts_train.txt\", \"w\") as f:\n",
    "        write_posts_to_file(df_dict[type_][:-15], f)\n",
    "\n",
    "    with open(f\"../data/2.0_GPT-2_text_gen_posts/{type_}_posts_test.txt\", \"w\") as f:\n",
    "        write_posts_to_file(df_dict[type_][-15:], f)"
   ]
  },
  {
   "cell_type": "code",
   "execution_count": 238,
   "metadata": {},
   "outputs": [],
   "source": [
    "train_args = {\n",
    "    \"reprocess_input_data\": True,\n",
    "    \"overwrite_output_dir\": True,\n",
    "    \"train_batch_size\": 64,\n",
    "    \"num_train_epochs\": 3,\n",
    "    \"mlm\": False,\n",
    "}\n",
    "\n",
    "results = []"
   ]
  },
  {
   "cell_type": "code",
   "execution_count": 306,
   "metadata": {},
   "outputs": [
    {
     "data": {
      "application/vnd.jupyter.widget-view+json": {
       "model_id": "02ebd9f01f124a76a5b4c40336f76460",
       "version_major": 2,
       "version_minor": 0
      },
      "text/plain": [
       "HBox(children=(HTML(value=''), FloatProgress(value=0.0, max=3820.0), HTML(value='')))"
      ]
     },
     "metadata": {},
     "output_type": "display_data"
    },
    {
     "name": "stdout",
     "output_type": "stream",
     "text": [
      "\n"
     ]
    },
    {
     "data": {
      "application/vnd.jupyter.widget-view+json": {
       "model_id": "8cf0ef6d824b43fc92a6f9b3a86f59f4",
       "version_major": 2,
       "version_minor": 0
      },
      "text/plain": [
       "HBox(children=(HTML(value=''), FloatProgress(value=0.0, max=1713.0), HTML(value='')))"
      ]
     },
     "metadata": {},
     "output_type": "display_data"
    },
    {
     "name": "stdout",
     "output_type": "stream",
     "text": [
      "\n"
     ]
    },
    {
     "data": {
      "application/vnd.jupyter.widget-view+json": {
       "model_id": "5516b1eeff0545fe88c0a1533d6d0e4b",
       "version_major": 2,
       "version_minor": 0
      },
      "text/plain": [
       "HBox(children=(HTML(value='Epoch'), FloatProgress(value=0.0, max=3.0), HTML(value='')))"
      ]
     },
     "metadata": {},
     "output_type": "display_data"
    },
    {
     "data": {
      "application/vnd.jupyter.widget-view+json": {
       "model_id": "0ffabfd5122c4289a5315a97815ab262",
       "version_major": 2,
       "version_minor": 0
      },
      "text/plain": [
       "HBox(children=(HTML(value='Running Epoch 0 of 3'), FloatProgress(value=0.0, max=27.0), HTML(value='')))"
      ]
     },
     "metadata": {},
     "output_type": "display_data"
    },
    {
     "name": "stdout",
     "output_type": "stream",
     "text": [
      "\n"
     ]
    },
    {
     "data": {
      "application/vnd.jupyter.widget-view+json": {
       "model_id": "c294ec3aa8fe48acaeac024a0b03de3b",
       "version_major": 2,
       "version_minor": 0
      },
      "text/plain": [
       "HBox(children=(HTML(value='Running Epoch 1 of 3'), FloatProgress(value=0.0, max=27.0), HTML(value='')))"
      ]
     },
     "metadata": {},
     "output_type": "display_data"
    },
    {
     "name": "stdout",
     "output_type": "stream",
     "text": [
      "\n"
     ]
    },
    {
     "data": {
      "application/vnd.jupyter.widget-view+json": {
       "model_id": "bd05beeba21546af885da009c783b0da",
       "version_major": 2,
       "version_minor": 0
      },
      "text/plain": [
       "HBox(children=(HTML(value='Running Epoch 2 of 3'), FloatProgress(value=0.0, max=27.0), HTML(value='')))"
      ]
     },
     "metadata": {},
     "output_type": "display_data"
    },
    {
     "name": "stdout",
     "output_type": "stream",
     "text": [
      "\n",
      "\n"
     ]
    },
    {
     "data": {
      "text/plain": [
       "(81, 4.000250972347495)"
      ]
     },
     "execution_count": 306,
     "metadata": {},
     "output_type": "execute_result"
    }
   ],
   "source": [
    "type_ = 'ISFP'\n",
    "model = LanguageModelingModel('gpt2', 'gpt2', args=train_args, use_cuda=False)\n",
    "\n",
    "model.train_model(train_file = f\"../data/2.0_GPT-2_text_gen_posts/{type_}_posts_train.txt\", \n",
    "                  eval_file = f\"../data/2.0_GPT-2_text_gen_posts/{type_}_posts_test.txt\", \n",
    "                  output_dir = f\"2.0_gen_lang_models/{type_}_lang_model/\")\n",
    "\n",
    "# pickle.dump(model, open(f'models/{type_}_lang_model', 'wb'))"
   ]
  },
  {
   "cell_type": "code",
   "execution_count": 263,
   "metadata": {},
   "outputs": [
    {
     "data": {
      "application/vnd.jupyter.widget-view+json": {
       "model_id": "a7df76d24df04a5b842237654f1311c3",
       "version_major": 2,
       "version_minor": 0
      },
      "text/plain": [
       "HBox(children=(HTML(value=''), FloatProgress(value=0.0, max=260.0), HTML(value='')))"
      ]
     },
     "metadata": {},
     "output_type": "display_data"
    },
    {
     "name": "stdout",
     "output_type": "stream",
     "text": [
      "\n"
     ]
    },
    {
     "data": {
      "application/vnd.jupyter.widget-view+json": {
       "model_id": "3eaeee54b3f649e18bce4ca3a06fba84",
       "version_major": 2,
       "version_minor": 0
      },
      "text/plain": [
       "HBox(children=(HTML(value=''), FloatProgress(value=0.0, max=142.0), HTML(value='')))"
      ]
     },
     "metadata": {},
     "output_type": "display_data"
    },
    {
     "name": "stdout",
     "output_type": "stream",
     "text": [
      "\n"
     ]
    },
    {
     "data": {
      "application/vnd.jupyter.widget-view+json": {
       "model_id": "da2eeddb11b240d3a991d8a18494d9af",
       "version_major": 2,
       "version_minor": 0
      },
      "text/plain": [
       "HBox(children=(HTML(value='Running Evaluation'), FloatProgress(value=0.0, max=18.0), HTML(value='')))"
      ]
     },
     "metadata": {},
     "output_type": "display_data"
    },
    {
     "name": "stdout",
     "output_type": "stream",
     "text": [
      "\n"
     ]
    }
   ],
   "source": [
    "results.append((type_, model.eval_model(f\"../data/2.0_GPT-2_text_gen_posts/{type_}_posts_test.txt\")))"
   ]
  },
  {
   "cell_type": "code",
   "execution_count": 264,
   "metadata": {},
   "outputs": [
    {
     "data": {
      "text/plain": [
       "[('ESFP', {'eval_loss': 4.146227061748505, 'perplexity': tensor(63.1951)}),\n",
       " ('ESTP', {'eval_loss': 4.114682740635342, 'perplexity': tensor(61.2328)})]"
      ]
     },
     "execution_count": 264,
     "metadata": {},
     "output_type": "execute_result"
    }
   ],
   "source": [
    "results"
   ]
  },
  {
   "cell_type": "code",
   "execution_count": 283,
   "metadata": {},
   "outputs": [],
   "source": [
    "gen_model_ESFP = LanguageGenerationModel(\"gpt2\", f\"2.0_gen_lang_models/ESFP_lang_model/\", args={\"max_length\": 16}, use_cuda=False)"
   ]
  },
  {
   "cell_type": "code",
   "execution_count": 284,
   "metadata": {},
   "outputs": [],
   "source": [
    "gen_model_ESTP = LanguageGenerationModel(\"gpt2\", f\"2.0_gen_lang_models/ESTP_lang_model/\", args={\"max_length\": 16}, use_cuda=False)"
   ]
  },
  {
   "cell_type": "code",
   "execution_count": 301,
   "metadata": {},
   "outputs": [],
   "source": [
    "prompts = [\n",
    "    \"My outlook on the world is\",\n",
    "    \"When I think back on my youth, overwhelming feeling is\",\n",
    "    \"Other people in general make me feel\"\n",
    "]"
   ]
  },
  {
   "cell_type": "code",
   "execution_count": 305,
   "metadata": {},
   "outputs": [
    {
     "name": "stderr",
     "output_type": "stream",
     "text": [
      "Setting `pad_token_id` to `eos_token_id`:50256 for open-end generation.\n",
      "Setting `pad_token_id` to `eos_token_id`:50256 for open-end generation.\n"
     ]
    },
    {
     "name": "stdout",
     "output_type": "stream",
     "text": [
      "My outlook on the world is uncertain as well.\n"
     ]
    },
    {
     "name": "stderr",
     "output_type": "stream",
     "text": [
      "Setting `pad_token_id` to `eos_token_id`:50256 for open-end generation.\n",
      "Setting `pad_token_id` to `eos_token_id`:50256 for open-end generation.\n"
     ]
    },
    {
     "name": "stdout",
     "output_type": "stream",
     "text": [
      "When I think back on my youth, overwhelming feeling is the most difficult thing for me.\n"
     ]
    },
    {
     "name": "stderr",
     "output_type": "stream",
     "text": [
      "Setting `pad_token_id` to `eos_token_id`:50256 for open-end generation.\n"
     ]
    },
    {
     "name": "stdout",
     "output_type": "stream",
     "text": [
      "Other people in general make me feel terrible and I have to make choices because I am trying to make them.\n"
     ]
    },
    {
     "name": "stderr",
     "output_type": "stream",
     "text": [
      "Setting `pad_token_id` to `eos_token_id`:50256 for open-end generation.\n"
     ]
    },
    {
     "name": "stdout",
     "output_type": "stream",
     "text": [
      "My outlook on the world is very good and it's the best place for me to be.\n"
     ]
    },
    {
     "name": "stderr",
     "output_type": "stream",
     "text": [
      "Setting `pad_token_id` to `eos_token_id`:50256 for open-end generation.\n"
     ]
    },
    {
     "name": "stdout",
     "output_type": "stream",
     "text": [
      "When I think back on my youth, overwhelming feeling is just something that I've been doing in the past.\n"
     ]
    },
    {
     "name": "stderr",
     "output_type": "stream",
     "text": [
      "Setting `pad_token_id` to `eos_token_id`:50256 for open-end generation.\n",
      "Setting `pad_token_id` to `eos_token_id`:50256 for open-end generation.\n"
     ]
    },
    {
     "name": "stdout",
     "output_type": "stream",
     "text": [
      "Other people in general make me feel more positive when people think we're good.\n"
     ]
    },
    {
     "name": "stderr",
     "output_type": "stream",
     "text": [
      "Setting `pad_token_id` to `eos_token_id`:50256 for open-end generation.\n"
     ]
    },
    {
     "name": "stdout",
     "output_type": "stream",
     "text": [
      "My outlook on the world is not just uncertain, but more uncertain as well.\n"
     ]
    },
    {
     "name": "stderr",
     "output_type": "stream",
     "text": [
      "Setting `pad_token_id` to `eos_token_id`:50256 for open-end generation.\n"
     ]
    },
    {
     "name": "stdout",
     "output_type": "stream",
     "text": [
      "When I think back on my youth, overwhelming feeling is what has made me happiest.\n"
     ]
    },
    {
     "name": "stderr",
     "output_type": "stream",
     "text": [
      "Setting `pad_token_id` to `eos_token_id`:50256 for open-end generation.\n"
     ]
    },
    {
     "name": "stdout",
     "output_type": "stream",
     "text": [
      "Other people in general make me feel a little bit nervous and I'm always trying to prove them wrong.\n"
     ]
    },
    {
     "name": "stderr",
     "output_type": "stream",
     "text": [
      "Setting `pad_token_id` to `eos_token_id`:50256 for open-end generation.\n",
      "Setting `pad_token_id` to `eos_token_id`:50256 for open-end generation.\n"
     ]
    },
    {
     "name": "stdout",
     "output_type": "stream",
     "text": [
      "My outlook on the world is more pessimistic.  I'm much more interested in the past than the future.\n"
     ]
    },
    {
     "name": "stderr",
     "output_type": "stream",
     "text": [
      "Setting `pad_token_id` to `eos_token_id`:50256 for open-end generation.\n"
     ]
    },
    {
     "name": "stdout",
     "output_type": "stream",
     "text": [
      "When I think back on my youth, overwhelming feeling is what I have. I feel happy and strong.\n"
     ]
    },
    {
     "name": "stderr",
     "output_type": "stream",
     "text": [
      "Setting `pad_token_id` to `eos_token_id`:50256 for open-end generation.\n",
      "Setting `pad_token_id` to `eos_token_id`:50256 for open-end generation.\n"
     ]
    },
    {
     "name": "stdout",
     "output_type": "stream",
     "text": [
      "Other people in general make me feel like the one who is too stupid for my taste to understand.\n"
     ]
    },
    {
     "name": "stderr",
     "output_type": "stream",
     "text": [
      "Setting `pad_token_id` to `eos_token_id`:50256 for open-end generation.\n"
     ]
    },
    {
     "name": "stdout",
     "output_type": "stream",
     "text": [
      "My outlook on the world is changing all of a sudden, and I am quite excited about it.\n"
     ]
    },
    {
     "name": "stderr",
     "output_type": "stream",
     "text": [
      "Setting `pad_token_id` to `eos_token_id`:50256 for open-end generation.\n",
      "Setting `pad_token_id` to `eos_token_id`:50256 for open-end generation.\n"
     ]
    },
    {
     "name": "stdout",
     "output_type": "stream",
     "text": [
      "When I think back on my youth, overwhelming feeling is never good and not good at all, it's a terrible mistake to make.\n"
     ]
    },
    {
     "name": "stderr",
     "output_type": "stream",
     "text": [
      "Setting `pad_token_id` to `eos_token_id`:50256 for open-end generation.\n"
     ]
    },
    {
     "name": "stdout",
     "output_type": "stream",
     "text": [
      "Other people in general make me feel like that.\n"
     ]
    },
    {
     "name": "stderr",
     "output_type": "stream",
     "text": [
      "Setting `pad_token_id` to `eos_token_id`:50256 for open-end generation.\n"
     ]
    },
    {
     "name": "stdout",
     "output_type": "stream",
     "text": [
      "My outlook on the world is going to change.\n"
     ]
    },
    {
     "name": "stderr",
     "output_type": "stream",
     "text": [
      "Setting `pad_token_id` to `eos_token_id`:50256 for open-end generation.\n"
     ]
    },
    {
     "name": "stdout",
     "output_type": "stream",
     "text": [
      "When I think back on my youth, overwhelming feeling is always a little bit of a challenge.\n"
     ]
    },
    {
     "name": "stderr",
     "output_type": "stream",
     "text": [
      "Setting `pad_token_id` to `eos_token_id`:50256 for open-end generation.\n"
     ]
    },
    {
     "name": "stdout",
     "output_type": "stream",
     "text": [
      "Other people in general make me feel bad, or are too quick to blame people when I've gone wrong.\n"
     ]
    },
    {
     "name": "stderr",
     "output_type": "stream",
     "text": [
      "Setting `pad_token_id` to `eos_token_id`:50256 for open-end generation.\n"
     ]
    },
    {
     "name": "stdout",
     "output_type": "stream",
     "text": [
      "My outlook on the world is in danger and we must keep our heads down.\n"
     ]
    },
    {
     "name": "stderr",
     "output_type": "stream",
     "text": [
      "Setting `pad_token_id` to `eos_token_id`:50256 for open-end generation.\n"
     ]
    },
    {
     "name": "stdout",
     "output_type": "stream",
     "text": [
      "When I think back on my youth, overwhelming feeling is pretty much what I'm always going to feel.\n"
     ]
    },
    {
     "name": "stderr",
     "output_type": "stream",
     "text": [
      "Setting `pad_token_id` to `eos_token_id`:50256 for open-end generation.\n"
     ]
    },
    {
     "name": "stdout",
     "output_type": "stream",
     "text": [
      "Other people in general make me feel like they're making something for me.\n"
     ]
    },
    {
     "name": "stderr",
     "output_type": "stream",
     "text": [
      "Setting `pad_token_id` to `eos_token_id`:50256 for open-end generation.\n"
     ]
    },
    {
     "name": "stdout",
     "output_type": "stream",
     "text": [
      "My outlook on the world is just that of me.\n"
     ]
    },
    {
     "name": "stderr",
     "output_type": "stream",
     "text": [
      "Setting `pad_token_id` to `eos_token_id`:50256 for open-end generation.\n"
     ]
    },
    {
     "name": "stdout",
     "output_type": "stream",
     "text": [
      "When I think back on my youth, overwhelming feeling is something I've known all my life.\n"
     ]
    },
    {
     "name": "stderr",
     "output_type": "stream",
     "text": [
      "Setting `pad_token_id` to `eos_token_id`:50256 for open-end generation.\n"
     ]
    },
    {
     "name": "stdout",
     "output_type": "stream",
     "text": [
      "Other people in general make me feel uncomfortable.I would like to think that my behavior is okay.\n"
     ]
    },
    {
     "name": "stderr",
     "output_type": "stream",
     "text": [
      "Setting `pad_token_id` to `eos_token_id`:50256 for open-end generation.\n"
     ]
    },
    {
     "name": "stdout",
     "output_type": "stream",
     "text": [
      "My outlook on the world is a little different than I actually would have been if I were a guy.\n"
     ]
    },
    {
     "name": "stderr",
     "output_type": "stream",
     "text": [
      "Setting `pad_token_id` to `eos_token_id`:50256 for open-end generation.\n",
      "Setting `pad_token_id` to `eos_token_id`:50256 for open-end generation.\n"
     ]
    },
    {
     "name": "stdout",
     "output_type": "stream",
     "text": [
      "When I think back on my youth, overwhelming feeling is something I never experienced before.\n"
     ]
    },
    {
     "name": "stderr",
     "output_type": "stream",
     "text": [
      "Setting `pad_token_id` to `eos_token_id`:50256 for open-end generation.\n"
     ]
    },
    {
     "name": "stdout",
     "output_type": "stream",
     "text": [
      "Other people in general make me feel sorry for myself.\n"
     ]
    },
    {
     "name": "stderr",
     "output_type": "stream",
     "text": [
      "Setting `pad_token_id` to `eos_token_id`:50256 for open-end generation.\n"
     ]
    },
    {
     "name": "stdout",
     "output_type": "stream",
     "text": [
      "My outlook on the world is much better than for myself as well.\n"
     ]
    },
    {
     "name": "stderr",
     "output_type": "stream",
     "text": [
      "Setting `pad_token_id` to `eos_token_id`:50256 for open-end generation.\n"
     ]
    },
    {
     "name": "stdout",
     "output_type": "stream",
     "text": [
      "When I think back on my youth, overwhelming feeling is what I want or need to feel.\n"
     ]
    },
    {
     "name": "stderr",
     "output_type": "stream",
     "text": [
      "Setting `pad_token_id` to `eos_token_id`:50256 for open-end generation.\n"
     ]
    },
    {
     "name": "stdout",
     "output_type": "stream",
     "text": [
      "Other people in general make me feel better knowing that they were actually interested in me for a while.\n"
     ]
    },
    {
     "name": "stderr",
     "output_type": "stream",
     "text": [
      "Setting `pad_token_id` to `eos_token_id`:50256 for open-end generation.\n"
     ]
    },
    {
     "name": "stdout",
     "output_type": "stream",
     "text": [
      "My outlook on the world is going to change when I see where I've done the worst of things.\n"
     ]
    },
    {
     "name": "stderr",
     "output_type": "stream",
     "text": [
      "Setting `pad_token_id` to `eos_token_id`:50256 for open-end generation.\n"
     ]
    },
    {
     "name": "stdout",
     "output_type": "stream",
     "text": [
      "When I think back on my youth, overwhelming feeling is what made me strong enough to make it.\n"
     ]
    },
    {
     "name": "stderr",
     "output_type": "stream",
     "text": [
      "Setting `pad_token_id` to `eos_token_id`:50256 for open-end generation.\n",
      "Setting `pad_token_id` to `eos_token_id`:50256 for open-end generation.\n"
     ]
    },
    {
     "name": "stdout",
     "output_type": "stream",
     "text": [
      "Other people in general make me feel like a douchebag.I don't feel ashamed for being stupid.\n"
     ]
    },
    {
     "name": "stderr",
     "output_type": "stream",
     "text": [
      "Setting `pad_token_id` to `eos_token_id`:50256 for open-end generation.\n"
     ]
    },
    {
     "name": "stdout",
     "output_type": "stream",
     "text": [
      "My outlook on the world is not bad.\n"
     ]
    },
    {
     "name": "stderr",
     "output_type": "stream",
     "text": [
      "Setting `pad_token_id` to `eos_token_id`:50256 for open-end generation.\n"
     ]
    },
    {
     "name": "stdout",
     "output_type": "stream",
     "text": [
      "When I think back on my youth, overwhelming feeling is the strongest emotion I have about life.\n"
     ]
    },
    {
     "name": "stderr",
     "output_type": "stream",
     "text": [
      "Setting `pad_token_id` to `eos_token_id`:50256 for open-end generation.\n"
     ]
    },
    {
     "name": "stdout",
     "output_type": "stream",
     "text": [
      "Other people in general make me feel extremely lucky to be alive.\n"
     ]
    },
    {
     "name": "stderr",
     "output_type": "stream",
     "text": [
      "Setting `pad_token_id` to `eos_token_id`:50256 for open-end generation.\n"
     ]
    },
    {
     "name": "stdout",
     "output_type": "stream",
     "text": [
      "My outlook on the world is the same.\n"
     ]
    },
    {
     "name": "stderr",
     "output_type": "stream",
     "text": [
      "Setting `pad_token_id` to `eos_token_id`:50256 for open-end generation.\n"
     ]
    },
    {
     "name": "stdout",
     "output_type": "stream",
     "text": [
      "When I think back on my youth, overwhelming feeling is how I got into a school.\n"
     ]
    },
    {
     "name": "stderr",
     "output_type": "stream",
     "text": [
      "Setting `pad_token_id` to `eos_token_id`:50256 for open-end generation.\n",
      "Setting `pad_token_id` to `eos_token_id`:50256 for open-end generation.\n"
     ]
    },
    {
     "name": "stdout",
     "output_type": "stream",
     "text": [
      "Other people in general make me feel bad about myself because I'm a victim. I'm usually just the victim.\n"
     ]
    },
    {
     "name": "stderr",
     "output_type": "stream",
     "text": [
      "Setting `pad_token_id` to `eos_token_id`:50256 for open-end generation.\n",
      "Setting `pad_token_id` to `eos_token_id`:50256 for open-end generation.\n"
     ]
    },
    {
     "name": "stdout",
     "output_type": "stream",
     "text": [
      "My outlook on the world is very bleak.\n"
     ]
    },
    {
     "name": "stderr",
     "output_type": "stream",
     "text": [
      "Setting `pad_token_id` to `eos_token_id`:50256 for open-end generation.\n"
     ]
    },
    {
     "name": "stdout",
     "output_type": "stream",
     "text": [
      "When I think back on my youth, overwhelming feeling is hard to come by, no matter how nice you think that sounds.\n"
     ]
    },
    {
     "name": "stderr",
     "output_type": "stream",
     "text": [
      "Setting `pad_token_id` to `eos_token_id`:50256 for open-end generation.\n",
      "Setting `pad_token_id` to `eos_token_id`:50256 for open-end generation.\n"
     ]
    },
    {
     "name": "stdout",
     "output_type": "stream",
     "text": [
      "Other people in general make me feel a certain way when I see people using an image to explain how things are.\n"
     ]
    },
    {
     "name": "stderr",
     "output_type": "stream",
     "text": [
      "Setting `pad_token_id` to `eos_token_id`:50256 for open-end generation.\n"
     ]
    },
    {
     "name": "stdout",
     "output_type": "stream",
     "text": [
      "My outlook on the world is getting worse.\n"
     ]
    },
    {
     "name": "stderr",
     "output_type": "stream",
     "text": [
      "Setting `pad_token_id` to `eos_token_id`:50256 for open-end generation.\n"
     ]
    },
    {
     "name": "stdout",
     "output_type": "stream",
     "text": [
      "When I think back on my youth, overwhelming feeling is a good thing. So I think that was the lesson I learned.\n"
     ]
    },
    {
     "name": "stderr",
     "output_type": "stream",
     "text": [
      "Setting `pad_token_id` to `eos_token_id`:50256 for open-end generation.\n"
     ]
    },
    {
     "name": "stdout",
     "output_type": "stream",
     "text": [
      "Other people in general make me feel like I am stupid or something (or worse that).\n"
     ]
    },
    {
     "name": "stderr",
     "output_type": "stream",
     "text": [
      "Setting `pad_token_id` to `eos_token_id`:50256 for open-end generation.\n",
      "Setting `pad_token_id` to `eos_token_id`:50256 for open-end generation.\n"
     ]
    },
    {
     "name": "stdout",
     "output_type": "stream",
     "text": [
      "My outlook on the world is different than my real life. I just thought I had a different mindset.\n"
     ]
    },
    {
     "name": "stderr",
     "output_type": "stream",
     "text": [
      "Setting `pad_token_id` to `eos_token_id`:50256 for open-end generation.\n",
      "Setting `pad_token_id` to `eos_token_id`:50256 for open-end generation.\n"
     ]
    },
    {
     "name": "stdout",
     "output_type": "stream",
     "text": [
      "When I think back on my youth, overwhelming feeling is a huge part of life.\n",
      "\n",
      "I grew up in the Bronx.\n"
     ]
    },
    {
     "name": "stderr",
     "output_type": "stream",
     "text": [
      "Setting `pad_token_id` to `eos_token_id`:50256 for open-end generation.\n"
     ]
    },
    {
     "name": "stdout",
     "output_type": "stream",
     "text": [
      "Other people in general make me feel good.\n"
     ]
    },
    {
     "name": "stderr",
     "output_type": "stream",
     "text": [
      "Setting `pad_token_id` to `eos_token_id`:50256 for open-end generation.\n"
     ]
    },
    {
     "name": "stdout",
     "output_type": "stream",
     "text": [
      "My outlook on the world is pretty much the same.\n"
     ]
    },
    {
     "name": "stderr",
     "output_type": "stream",
     "text": [
      "Setting `pad_token_id` to `eos_token_id`:50256 for open-end generation.\n"
     ]
    },
    {
     "name": "stdout",
     "output_type": "stream",
     "text": [
      "When I think back on my youth, overwhelming feeling is the most important thing.\n"
     ]
    },
    {
     "name": "stderr",
     "output_type": "stream",
     "text": [
      "Setting `pad_token_id` to `eos_token_id`:50256 for open-end generation.\n"
     ]
    },
    {
     "name": "stdout",
     "output_type": "stream",
     "text": [
      "Other people in general make me feel bad.\n"
     ]
    },
    {
     "name": "stderr",
     "output_type": "stream",
     "text": [
      "Setting `pad_token_id` to `eos_token_id`:50256 for open-end generation.\n"
     ]
    },
    {
     "name": "stdout",
     "output_type": "stream",
     "text": [
      "My outlook on the world is completely different from being in school.\n"
     ]
    },
    {
     "name": "stderr",
     "output_type": "stream",
     "text": [
      "Setting `pad_token_id` to `eos_token_id`:50256 for open-end generation.\n",
      "Setting `pad_token_id` to `eos_token_id`:50256 for open-end generation.\n"
     ]
    },
    {
     "name": "stdout",
     "output_type": "stream",
     "text": [
      "When I think back on my youth, overwhelming feeling is one of the most valuable things that a human being can have.\n"
     ]
    },
    {
     "name": "stderr",
     "output_type": "stream",
     "text": [
      "Setting `pad_token_id` to `eos_token_id`:50256 for open-end generation.\n"
     ]
    },
    {
     "name": "stdout",
     "output_type": "stream",
     "text": [
      "Other people in general make me feel good with my body/soul.\n"
     ]
    },
    {
     "name": "stderr",
     "output_type": "stream",
     "text": [
      "Setting `pad_token_id` to `eos_token_id`:50256 for open-end generation.\n"
     ]
    },
    {
     "name": "stdout",
     "output_type": "stream",
     "text": [
      "My outlook on the world is generally not positive as I often look at things from a foreign perspective.\n"
     ]
    },
    {
     "name": "stderr",
     "output_type": "stream",
     "text": [
      "Setting `pad_token_id` to `eos_token_id`:50256 for open-end generation.\n"
     ]
    },
    {
     "name": "stdout",
     "output_type": "stream",
     "text": [
      "When I think back on my youth, overwhelming feeling is like a tsunami.\n"
     ]
    },
    {
     "name": "stderr",
     "output_type": "stream",
     "text": [
      "Setting `pad_token_id` to `eos_token_id`:50256 for open-end generation.\n"
     ]
    },
    {
     "name": "stdout",
     "output_type": "stream",
     "text": [
      "Other people in general make me feel awkward about it.\n"
     ]
    },
    {
     "name": "stderr",
     "output_type": "stream",
     "text": [
      "Setting `pad_token_id` to `eos_token_id`:50256 for open-end generation.\n"
     ]
    },
    {
     "name": "stdout",
     "output_type": "stream",
     "text": [
      "My outlook on the world is different now. The old generation of people are happy.\n"
     ]
    },
    {
     "name": "stderr",
     "output_type": "stream",
     "text": [
      "Setting `pad_token_id` to `eos_token_id`:50256 for open-end generation.\n"
     ]
    },
    {
     "name": "stdout",
     "output_type": "stream",
     "text": [
      "When I think back on my youth, overwhelming feeling is more like a loss than positive feedback.\n"
     ]
    },
    {
     "name": "stderr",
     "output_type": "stream",
     "text": [
      "Setting `pad_token_id` to `eos_token_id`:50256 for open-end generation.\n"
     ]
    },
    {
     "name": "stdout",
     "output_type": "stream",
     "text": [
      "Other people in general make me feel like I am in jail for being an asshole.\n"
     ]
    }
   ],
   "source": [
    "ESFP_words= []\n",
    "ESTP_words = []\n",
    "\n",
    "for _ in range(20):\n",
    "    for prompt in prompts:\n",
    "        # Generate text using the model. Verbose set to False to prevent logging generated sequences.\n",
    "        generated = ''\n",
    "        while len(generated) <= len(prompt):\n",
    "            generated = gen_model_ESFP.generate(prompt, verbose=False, args={\"max_length\": 16})\n",
    "            generated = '.'.join(generated[0].split('.')[:-1]) + '.'\n",
    "#         ESFP_words.append(generated[len(prompt):])\n",
    "        print(generated)\n",
    "\n",
    "#         generated = '' \n",
    "#         while len(generated) <= len(prompt):\n",
    "#             generated = gen_model_ESTP.generate(prompt, verbose=False, args={\"max_length\": 16})\n",
    "#             generated = '.'.join(generated[0].split('.')[:-1]) + '.'\n",
    "#         ESTP_words.append(generated[len(prompt):])\n",
    "#         print(generated)"
   ]
  },
  {
   "cell_type": "code",
   "execution_count": 303,
   "metadata": {},
   "outputs": [
    {
     "data": {
      "text/plain": [
       "[' more favorable, as far as I could tell.',\n",
       " ' always a good thing.',\n",
       " ' comfortable talking to them.',\n",
       " \" somewhat bleak, but I'm pretty sure I won't get a job.\",\n",
       " ' the only thing that keeps me stuck.',\n",
       " \" like they really don't care.\",\n",
       " ' one of optimism, uncertainty, hope and hope.',\n",
       " ' very powerful,\" says Caine.',\n",
       " ' bad for saying this, though.',\n",
       " ' pretty bleak.',\n",
       " \" very good. It's not that my life changes. I never have.\",\n",
       " ' that I need a lot more in order to cope.',\n",
       " ' less clear,\" he says.',\n",
       " \" that I didn't have any right to be this way.\",\n",
       " ' bad for them.',\n",
       " ' very positive. I can accept things more easily than I can admit I feel.',\n",
       " \" when you are tired and you can't move on.\",\n",
       " ' uncomfortable, or at the very least uncomfortable.',\n",
       " ' completely different from what I think it is.',\n",
       " ' the only thing I can feel.',\n",
       " ' horrible.',\n",
       " ' much closer to normal.',\n",
       " ' something which I can relate to.',\n",
       " ' guilty for doing that. It was just a really stupid comment.',\n",
       " ' pretty simple.',\n",
       " ' the best way to convey the emotion in person. \"Good night, everyone.',\n",
       " ' bad for taking an anti-vaccine stance.',\n",
       " ' very different.',\n",
       " \" always there, and I'm really proud of what you've accomplished.\",\n",
       " \" weird and maybe that's ok.\",\n",
       " ' getting better.',\n",
       " ' almost always a bad thing in itself.',\n",
       " ' bad about my decisions as a husband and wife.',\n",
       " ' now less than tenable. I just want to be a normal person.',\n",
       " ' a huge factor.',\n",
       " \" bad sometimes, but then again, that's pretty much what people say.\",\n",
       " ' very different.',\n",
       " \" more like someone's ego than it is real.\",\n",
       " \" like a coward. I'm not.\",\n",
       " ' definitely not happy.',\n",
       " ' one of the greatest strength I have.',\n",
       " ' guilty about how I feel.',\n",
       " \" very grim. I want to believe that we're going to find a savior.\",\n",
       " \" the only way you're going to find peace.\",\n",
       " ' bad.',\n",
       " ' not exactly clear, though, and I do have my own views.',\n",
       " ' overwhelming.',\n",
       " \" like I'm getting bored of learning stuff.\",\n",
       " ' always changing and always changing.',\n",
       " \" the best way to describe my personality. And sometimes I'm the worst.\",\n",
       " ' angry.',\n",
       " ' very different than I would like it to be.',\n",
       " ' just not enough. No one understands what has come before.',\n",
       " ' like an alien.',\n",
       " \" getting better, the problem isn't just with me but with the world.\",\n",
       " ' definitely more important than the ability to write lyrics and music.',\n",
       " ' awkward. That does not mean I am just stupid.',\n",
       " ' not just clear cut.',\n",
       " ' a huge part of being here in the world,\" he said.',\n",
       " ' so guilty for my words.']"
      ]
     },
     "execution_count": 303,
     "metadata": {},
     "output_type": "execute_result"
    }
   ],
   "source": [
    "ESFP_words"
   ]
  },
  {
   "cell_type": "code",
   "execution_count": 304,
   "metadata": {},
   "outputs": [
    {
     "data": {
      "text/plain": [
       "[' somewhat different from those I had before.',\n",
       " ' always present to me.',\n",
       " ' good and happy I guess.',\n",
       " ' very different.',\n",
       " \" a good thing, it's not just about feeling happy.\",\n",
       " ' sorry for myself.',\n",
       " \" one that might change drastically. Maybe my views won't change.\",\n",
       " ' always the one that keeps me sane.',\n",
       " ' good about myself. No real problems.',\n",
       " ' very pessimistic.',\n",
       " ' a thing.',\n",
       " \" bad for being an adult in my early 20's.\",\n",
       " ' one of fearlessness and uncertainty.',\n",
       " ' what I do when I have a stressful experience or something.',\n",
       " ' bad about that.',\n",
       " ' still pretty murky at best.',\n",
       " ' always a good thing and my parents were so good.',\n",
       " \" angry and sad. Well I'm trying to get out of it.\",\n",
       " ' very bleak, mostly to put into words.',\n",
       " \" like I don't have enough.\",\n",
       " ' sorry for her and you are the only one who feels that way.',\n",
       " ' extremely different. I would say my focus is definitely on being a successful programmer.',\n",
       " ' always an indication of mental health issues.',\n",
       " ' sorry for them.',\n",
       " ' not one I can share with you today.',\n",
       " ' the same, even when I have a normal life.',\n",
       " ' a little bad.',\n",
       " ' one of uncertainty and uncertainty.',\n",
       " ' that everything I do is a success.',\n",
       " ' bad for them and that you have no respect for them.',\n",
       " \" the same when we're playing in the sandbox.\",\n",
       " ' a necessity. I would describe this as my strong desire for perfection.',\n",
       " ' sad and lonely.',\n",
       " \" changing very rapidly.It's about time I got something good to work on.\",\n",
       " ' pretty good.',\n",
       " ' bad.',\n",
       " ' quite bleak, I just see people as just a tool of the market...',\n",
       " ' what it is.',\n",
       " ' weird.',\n",
       " ' generally very positive.',\n",
       " ' usually a good sign.',\n",
       " ' bad.',\n",
       " ' different from the picture, as it was in my first experience.',\n",
       " ' the best way to remember those memories that came my way.',\n",
       " \" awkward and insecure, but there's no way I can tell the difference.\",\n",
       " ' clear.',\n",
       " ' what kept me from playing.',\n",
       " ' insecure. Not sure where the real issue lies.',\n",
       " ' going to change when we get older.',\n",
       " ' the best thing I can do to make an effective decision.',\n",
       " \" like I'm the dumbest person in the world.\",\n",
       " ' a good one.',\n",
       " ' one thing, even though it usually means the opposite.',\n",
       " \" bad for being so self conscious for the first time. That's weird.\",\n",
       " ' getting brighter.',\n",
       " ' the best form of expression I can come up with.',\n",
       " \" better, but if I'm feeling stressed out, irritable, etc.\",\n",
       " ' very good,\" he added.',\n",
       " ' the root cause.',\n",
       " ' good sometimes.']"
      ]
     },
     "execution_count": 304,
     "metadata": {},
     "output_type": "execute_result"
    }
   ],
   "source": [
    "ESTP_words"
   ]
  },
  {
   "cell_type": "code",
   "execution_count": null,
   "metadata": {},
   "outputs": [],
   "source": []
  }
 ],
 "metadata": {
  "kernelspec": {
   "display_name": "Python 3",
   "language": "python",
   "name": "python3"
  },
  "language_info": {
   "codemirror_mode": {
    "name": "ipython",
    "version": 3
   },
   "file_extension": ".py",
   "mimetype": "text/x-python",
   "name": "python",
   "nbconvert_exporter": "python",
   "pygments_lexer": "ipython3",
   "version": "3.7.7"
  }
 },
 "nbformat": 4,
 "nbformat_minor": 4
}
