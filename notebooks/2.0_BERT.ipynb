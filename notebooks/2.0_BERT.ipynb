{
 "cells": [
  {
   "cell_type": "code",
   "execution_count": 129,
   "metadata": {},
   "outputs": [],
   "source": [
    "import numpy as np\n",
    "import pandas as pd\n",
    "from simpletransformers.classification import ClassificationModel, ClassificationArgs\n",
    "import warnings\n",
    "import pickle\n",
    "import re\n",
    "from sklearn.preprocessing import LabelEncoder\n",
    "from sklearn.model_selection import train_test_split\n",
    "warnings.filterwarnings('ignore')"
   ]
  },
  {
   "cell_type": "code",
   "execution_count": 46,
   "metadata": {},
   "outputs": [],
   "source": [
    "df = pd.read_csv('../data/mbti_1.csv')"
   ]
  },
  {
   "cell_type": "code",
   "execution_count": 47,
   "metadata": {},
   "outputs": [],
   "source": [
    "def clean(post):\n",
    "    post_split = post.split('|||')\n",
    "    post_split = [clean_dots(ind_post) for ind_post in post_split if clean_dots(ind_post)]\n",
    "    # split the kaggle data set posts by |||\n",
    "    post_split_split = [x.split(' ') for x in post_split]\n",
    "    \n",
    "    # removes any 'words' that have http:// or https:// in them\n",
    "    return_list = [[item for item in sentence if ('http://' not in item and 'https://' not in item)] for sentence in post_split_split]\n",
    "    \n",
    "    # returns a list of posts if they are not empty after removing the links\n",
    "    return [' '.join(sentence) for sentence in return_list if sentence]"
   ]
  },
  {
   "cell_type": "code",
   "execution_count": 48,
   "metadata": {},
   "outputs": [],
   "source": [
    "def clean_dots(ind_post):\n",
    "    if(re.search('[a-zA-Z]', ind_post)):\n",
    "        if(ind_post.endswith('...') or ind_post.endswith(\"...'\")):\n",
    "            if(re.search('.*[\\.?!]\\s', ind_post)):\n",
    "                return(re.search('.*[\\.?!]\\s', ind_post).group(0).strip())\n",
    "            else:\n",
    "                return(ind_post)\n",
    "    return ''"
   ]
  },
  {
   "cell_type": "code",
   "execution_count": 108,
   "metadata": {},
   "outputs": [],
   "source": [
    "df_dict = {'INTJ':0, 'INTP':0, 'ENTJ':1, 'ENTP':1, \n",
    "           'INFJ':0, 'INFP':0, 'ENFJ':1, 'ENFP':1, \n",
    "           'ISTJ':0, 'ISFJ':0, 'ESTJ':1, 'ESFJ':1, \n",
    "           'ISTP':0, 'ISFP':0, 'ESTP':1, 'ESFP':1}"
   ]
  },
  {
   "cell_type": "code",
   "execution_count": 109,
   "metadata": {},
   "outputs": [],
   "source": [
    "df_split = {'INTJ':[], 'INTP':[], 'ENTJ':[], 'ENTP':[], \n",
    "           'INFJ':[], 'INFP':[], 'ENFJ':[], 'ENFP':[], \n",
    "           'ISTJ':[], 'ISFJ':[], 'ESTJ':[], 'ESFJ':[], \n",
    "           'ISTP':[], 'ISFP':[], 'ESTP':[], 'ESFP':[]}"
   ]
  },
  {
   "cell_type": "code",
   "execution_count": 110,
   "metadata": {},
   "outputs": [],
   "source": [
    "def extract(mbti, post, list_):\n",
    "    for ind_post in post:\n",
    "        list_.append((ind_post, mbti))"
   ]
  },
  {
   "cell_type": "code",
   "execution_count": 111,
   "metadata": {},
   "outputs": [
    {
     "name": "stdout",
     "output_type": "stream",
     "text": [
      "INTJ (200, 3)\n",
      "INTP (200, 3)\n",
      "ENTJ (200, 3)\n",
      "ENTP (200, 3)\n",
      "INFJ (200, 3)\n",
      "INFP (200, 3)\n",
      "ENFJ (190, 3)\n",
      "ENFP (200, 3)\n",
      "ISTJ (200, 3)\n",
      "ISFJ (166, 3)\n",
      "ESTJ (39, 3)\n",
      "ESFJ (42, 3)\n",
      "ISTP (200, 3)\n",
      "ISFP (200, 3)\n",
      "ESTP (89, 3)\n",
      "ESFP (48, 3)\n"
     ]
    }
   ],
   "source": [
    "for mbti in df_dict.keys():\n",
    "    if(df[df['type'] == mbti].shape[0] < 200):\n",
    "        df_dict[mbti] = df[df['type'] == mbti]\n",
    "    else:\n",
    "        df_dict[mbti] = df[df['type'] == mbti].sample(n=200)\n",
    "    \n",
    "    df_dict[mbti]['post_split'] = df_dict[mbti].posts.apply(clean)\n",
    "    \n",
    "    df_dict[mbti].post_split.apply(lambda x: extract(mbti, x, df_split[mbti]))\n",
    "    print(mbti, df_dict[mbti].shape)"
   ]
  },
  {
   "cell_type": "code",
   "execution_count": 112,
   "metadata": {},
   "outputs": [
    {
     "name": "stdout",
     "output_type": "stream",
     "text": [
      "INTJ 5290\n",
      "INTP 5436\n",
      "ENTJ 5183\n",
      "ENTP 5197\n",
      "INFJ 5757\n",
      "INFP 5512\n",
      "ENFJ 5461\n",
      "ENFP 5557\n",
      "ISTJ 5117\n",
      "ISFJ 4491\n",
      "ESTJ 1017\n",
      "ESFJ 1190\n",
      "ISTP 4694\n",
      "ISFP 4719\n",
      "ESTP 2079\n",
      "ESFP 973\n"
     ]
    },
    {
     "data": {
      "text/plain": [
       "67673"
      ]
     },
     "execution_count": 112,
     "metadata": {},
     "output_type": "execute_result"
    }
   ],
   "source": [
    "total_posts = 0\n",
    "for mbti in df_split:\n",
    "    print(mbti,len(df_split[mbti]))\n",
    "    total_posts += len(df_split[mbti])\n",
    "total_posts"
   ]
  },
  {
   "cell_type": "code",
   "execution_count": 113,
   "metadata": {},
   "outputs": [
    {
     "data": {
      "text/plain": [
       "('wow, i used to LOVE this book when i read it in highschool. the girl who gave it to me to read said that she always thought of me as being just like Charlie... with less crying.',\n",
       " 'INFP')"
      ]
     },
     "execution_count": 113,
     "metadata": {},
     "output_type": "execute_result"
    }
   ],
   "source": [
    "df_split['INFP'][0]"
   ]
  },
  {
   "cell_type": "code",
   "execution_count": 114,
   "metadata": {
    "collapsed": true,
    "jupyter": {
     "outputs_hidden": true
    }
   },
   "outputs": [
    {
     "data": {
      "text/plain": [
       "['wow, i used to LOVE this book when i read it in highschool. the girl who gave it to me to read said that she always thought of me as being just like Charlie... with less crying.',\n",
       " \"wow, before reading this thread i had no idea i was that hard to find, but now that it's been mentioned, if someone wanted to find someone like me it would be really difficult.\",\n",
       " \"I get drunk a few nights a week, and i generally go one of two ways. I'll either be sad and moody as all hell or an angry and cynical, embittered asshole, generally both in the same night.\",\n",
       " 'The worst nightmare i ever had was when i was about ten.',\n",
       " \"At the moment i'm tossing up between type 4 or type 9. but i can't really decide on either one.\",\n",
       " \"Okay, so lately i've come to the realisation that my perception of myself so far has been an idealised fantasy - that of a fun loving extrovert (ENFP)- and after some deep and genuine introspection...\",\n",
       " 'Attention span? What attention spa...',\n",
       " 'My best mate is an intp. He hates a lot of people (or at least pretends to?) and even though he likes to make fun of my ne, i know he likes me more than most.',\n",
       " \"I wasn't the most popular guy in highschool, but the people who new me liked me a lot.\",\n",
       " 'okay, so the first test said i was a 9  the first test of the second link said these were my scores on each type, then with wings:  Type 9 - 9.7 Type 6 - 8 Type 7 - 8 Type 4 - 7.3 Type 5 -...',\n",
       " \"I'm a relatively tall guy, maybe 6 foot 2, 6 foot 3 (at a guess, i'm not entirely sure) so i'm taller than most people i know. I have a bad habit of slouching and hunching over.\",\n",
       " 'The Brooding Poet  Sexy, Dark, but neither Arsty nor Stylish, the Brooding Poet has her lips constantly pursed in an infinitely kissable pout. She would dress up, maybe, but why bother?',\n",
       " \"I'm not an INFP, so i hope you don't mind me posting...\",\n",
       " \"I want to see it, but all my friends either aren't interested in it or have already seen it, and i can't go alone, so i'm not liking my chances...\",\n",
       " 'EXACTLY!  I mean, take the feeler stereotypes, add the E__P tendencies and you have a very female person.',\n",
       " \"I've both read the book and seen the movie of clockwork orange. I prefer the book to the movie because i really enjoy trying to figure what the hell i'm reading.\",\n",
       " \"I'm not sure I know what you mean by male feminists. a 'feminist' simply being a supporter of feminism.\",\n",
       " \"lol Roland787 I'm pretty much the exact opposite! except i didn't really like school either, too much of a reppressive environment for my taste.  least favorite: maths.\",\n",
       " 'Thinking about it more, my confusion most probably arises from being a male enfp, who has suppressed his traits to try to fit in with societies expectations of men...:sad: more than actually not...',\n",
       " \"Nyx: Yeah, so i read that and i was like woah, I am SO an enneagram type 4. And i suppose that explains me worrying over my type, because 4's are so concerned with identity?\",\n",
       " \"So lately i've been putting a lot of thought into my personality type, and i'm pretty sure that i'm not an enfp as i first tested. I'm certain i'm an xnxp, but beyond that i'm not sure.\"]"
      ]
     },
     "execution_count": 114,
     "metadata": {},
     "output_type": "execute_result"
    }
   ],
   "source": [
    "df_dict['INFP'].post_split.iloc[0]"
   ]
  },
  {
   "cell_type": "code",
   "execution_count": 137,
   "metadata": {},
   "outputs": [
    {
     "data": {
      "text/html": [
       "<div>\n",
       "<style scoped>\n",
       "    .dataframe tbody tr th:only-of-type {\n",
       "        vertical-align: middle;\n",
       "    }\n",
       "\n",
       "    .dataframe tbody tr th {\n",
       "        vertical-align: top;\n",
       "    }\n",
       "\n",
       "    .dataframe thead th {\n",
       "        text-align: right;\n",
       "    }\n",
       "</style>\n",
       "<table border=\"1\" class=\"dataframe\">\n",
       "  <thead>\n",
       "    <tr style=\"text-align: right;\">\n",
       "      <th></th>\n",
       "      <th>text</th>\n",
       "      <th>labels</th>\n",
       "    </tr>\n",
       "  </thead>\n",
       "  <tbody>\n",
       "  </tbody>\n",
       "</table>\n",
       "</div>"
      ],
      "text/plain": [
       "Empty DataFrame\n",
       "Columns: [text, labels]\n",
       "Index: []"
      ]
     },
     "execution_count": 137,
     "metadata": {},
     "output_type": "execute_result"
    }
   ],
   "source": [
    "df_final_train = pd.DataFrame(columns=[\"text\", \"labels\"])\n",
    "df_final_test = df_final_train.copy()\n",
    "df_final_train"
   ]
  },
  {
   "cell_type": "code",
   "execution_count": 138,
   "metadata": {},
   "outputs": [
    {
     "data": {
      "text/html": [
       "<div>\n",
       "<style scoped>\n",
       "    .dataframe tbody tr th:only-of-type {\n",
       "        vertical-align: middle;\n",
       "    }\n",
       "\n",
       "    .dataframe tbody tr th {\n",
       "        vertical-align: top;\n",
       "    }\n",
       "\n",
       "    .dataframe thead th {\n",
       "        text-align: right;\n",
       "    }\n",
       "</style>\n",
       "<table border=\"1\" class=\"dataframe\">\n",
       "  <thead>\n",
       "    <tr style=\"text-align: right;\">\n",
       "      <th></th>\n",
       "      <th>text</th>\n",
       "      <th>labels</th>\n",
       "    </tr>\n",
       "  </thead>\n",
       "  <tbody>\n",
       "  </tbody>\n",
       "</table>\n",
       "</div>"
      ],
      "text/plain": [
       "Empty DataFrame\n",
       "Columns: [text, labels]\n",
       "Index: []"
      ]
     },
     "execution_count": 138,
     "metadata": {},
     "output_type": "execute_result"
    }
   ],
   "source": [
    "df_final_test"
   ]
  },
  {
   "cell_type": "code",
   "execution_count": 139,
   "metadata": {},
   "outputs": [],
   "source": [
    "for mbti in df_split.keys():\n",
    "    test, train = train_test_split(pd.DataFrame(df_split[mbti], columns=[\"text\", \"labels\"]), test_size=0.9)\n",
    "    df_final_train = pd.concat([df_final_train, train])\n",
    "    df_final_test = pd.concat([df_final_test, test])"
   ]
  },
  {
   "cell_type": "code",
   "execution_count": 140,
   "metadata": {},
   "outputs": [
    {
     "data": {
      "text/html": [
       "<div>\n",
       "<style scoped>\n",
       "    .dataframe tbody tr th:only-of-type {\n",
       "        vertical-align: middle;\n",
       "    }\n",
       "\n",
       "    .dataframe tbody tr th {\n",
       "        vertical-align: top;\n",
       "    }\n",
       "\n",
       "    .dataframe thead th {\n",
       "        text-align: right;\n",
       "    }\n",
       "</style>\n",
       "<table border=\"1\" class=\"dataframe\">\n",
       "  <thead>\n",
       "    <tr style=\"text-align: right;\">\n",
       "      <th></th>\n",
       "      <th>text</th>\n",
       "      <th>labels</th>\n",
       "    </tr>\n",
       "  </thead>\n",
       "  <tbody>\n",
       "    <tr>\n",
       "      <th>557</th>\n",
       "      <td>I'm going to reply in a list format to this be...</td>\n",
       "      <td>INTJ</td>\n",
       "    </tr>\n",
       "    <tr>\n",
       "      <th>2279</th>\n",
       "      <td>For me, I smile and say thank you. Then, life ...</td>\n",
       "      <td>INTJ</td>\n",
       "    </tr>\n",
       "    <tr>\n",
       "      <th>2522</th>\n",
       "      <td>I'm an INTJ and a Christian. I'm also the firs...</td>\n",
       "      <td>INTJ</td>\n",
       "    </tr>\n",
       "    <tr>\n",
       "      <th>1627</th>\n",
       "      <td>Yeah,  this aspect gets me into trouble with m...</td>\n",
       "      <td>INTJ</td>\n",
       "    </tr>\n",
       "    <tr>\n",
       "      <th>3441</th>\n",
       "      <td>No, I don't blame the bed when I hit my toe.  ...</td>\n",
       "      <td>INTJ</td>\n",
       "    </tr>\n",
       "    <tr>\n",
       "      <th>...</th>\n",
       "      <td>...</td>\n",
       "      <td>...</td>\n",
       "    </tr>\n",
       "    <tr>\n",
       "      <th>748</th>\n",
       "      <td>Ah, that makes more sense. Just got out of a g...</td>\n",
       "      <td>ESFP</td>\n",
       "    </tr>\n",
       "    <tr>\n",
       "      <th>816</th>\n",
       "      <td>Thank you :).</td>\n",
       "      <td>ESFP</td>\n",
       "    </tr>\n",
       "    <tr>\n",
       "      <th>971</th>\n",
       "      <td>I have to be real with you here, I don't think...</td>\n",
       "      <td>ESFP</td>\n",
       "    </tr>\n",
       "    <tr>\n",
       "      <th>367</th>\n",
       "      <td>Free Personality Test - Highly Accurate | See ...</td>\n",
       "      <td>ESFP</td>\n",
       "    </tr>\n",
       "    <tr>\n",
       "      <th>341</th>\n",
       "      <td>Yeah I think you're right. I've come to see he...</td>\n",
       "      <td>ESFP</td>\n",
       "    </tr>\n",
       "  </tbody>\n",
       "</table>\n",
       "<p>6760 rows × 2 columns</p>\n",
       "</div>"
      ],
      "text/plain": [
       "                                                   text labels\n",
       "557   I'm going to reply in a list format to this be...   INTJ\n",
       "2279  For me, I smile and say thank you. Then, life ...   INTJ\n",
       "2522  I'm an INTJ and a Christian. I'm also the firs...   INTJ\n",
       "1627  Yeah,  this aspect gets me into trouble with m...   INTJ\n",
       "3441  No, I don't blame the bed when I hit my toe.  ...   INTJ\n",
       "...                                                 ...    ...\n",
       "748   Ah, that makes more sense. Just got out of a g...   ESFP\n",
       "816                                       Thank you :).   ESFP\n",
       "971   I have to be real with you here, I don't think...   ESFP\n",
       "367   Free Personality Test - Highly Accurate | See ...   ESFP\n",
       "341   Yeah I think you're right. I've come to see he...   ESFP\n",
       "\n",
       "[6760 rows x 2 columns]"
      ]
     },
     "execution_count": 140,
     "metadata": {},
     "output_type": "execute_result"
    }
   ],
   "source": [
    "df_final_test"
   ]
  },
  {
   "cell_type": "code",
   "execution_count": 141,
   "metadata": {},
   "outputs": [
    {
     "data": {
      "text/html": [
       "<div>\n",
       "<style scoped>\n",
       "    .dataframe tbody tr th:only-of-type {\n",
       "        vertical-align: middle;\n",
       "    }\n",
       "\n",
       "    .dataframe tbody tr th {\n",
       "        vertical-align: top;\n",
       "    }\n",
       "\n",
       "    .dataframe thead th {\n",
       "        text-align: right;\n",
       "    }\n",
       "</style>\n",
       "<table border=\"1\" class=\"dataframe\">\n",
       "  <thead>\n",
       "    <tr style=\"text-align: right;\">\n",
       "      <th></th>\n",
       "      <th>text</th>\n",
       "      <th>labels</th>\n",
       "    </tr>\n",
       "  </thead>\n",
       "  <tbody>\n",
       "    <tr>\n",
       "      <th>4736</th>\n",
       "      <td>The reason may be a certain lowered expectatio...</td>\n",
       "      <td>INTJ</td>\n",
       "    </tr>\n",
       "    <tr>\n",
       "      <th>2603</th>\n",
       "      <td>I'm terrified of being on stage, but yet I kee...</td>\n",
       "      <td>INTJ</td>\n",
       "    </tr>\n",
       "    <tr>\n",
       "      <th>922</th>\n",
       "      <td>I know that there are certain rules within the...</td>\n",
       "      <td>INTJ</td>\n",
       "    </tr>\n",
       "    <tr>\n",
       "      <th>548</th>\n",
       "      <td>Saami family :)  They are not real-life people...</td>\n",
       "      <td>INTJ</td>\n",
       "    </tr>\n",
       "    <tr>\n",
       "      <th>4484</th>\n",
       "      <td>I know, as an INTJ, that I'm highly attracted ...</td>\n",
       "      <td>INTJ</td>\n",
       "    </tr>\n",
       "    <tr>\n",
       "      <th>...</th>\n",
       "      <td>...</td>\n",
       "      <td>...</td>\n",
       "    </tr>\n",
       "    <tr>\n",
       "      <th>590</th>\n",
       "      <td>I don't read books, I hear them instead.</td>\n",
       "      <td>ESFP</td>\n",
       "    </tr>\n",
       "    <tr>\n",
       "      <th>320</th>\n",
       "      <td>You know, I didn't actually expect anyone to g...</td>\n",
       "      <td>ESFP</td>\n",
       "    </tr>\n",
       "    <tr>\n",
       "      <th>234</th>\n",
       "      <td>If anyone is curious to delve more into him, h...</td>\n",
       "      <td>ESFP</td>\n",
       "    </tr>\n",
       "    <tr>\n",
       "      <th>196</th>\n",
       "      <td>O_O. I did not expect these answers, at all. W...</td>\n",
       "      <td>ESFP</td>\n",
       "    </tr>\n",
       "    <tr>\n",
       "      <th>595</th>\n",
       "      <td>How do you exactly become a fitness or persona...</td>\n",
       "      <td>ESFP</td>\n",
       "    </tr>\n",
       "  </tbody>\n",
       "</table>\n",
       "<p>60913 rows × 2 columns</p>\n",
       "</div>"
      ],
      "text/plain": [
       "                                                   text labels\n",
       "4736  The reason may be a certain lowered expectatio...   INTJ\n",
       "2603  I'm terrified of being on stage, but yet I kee...   INTJ\n",
       "922   I know that there are certain rules within the...   INTJ\n",
       "548   Saami family :)  They are not real-life people...   INTJ\n",
       "4484  I know, as an INTJ, that I'm highly attracted ...   INTJ\n",
       "...                                                 ...    ...\n",
       "590            I don't read books, I hear them instead.   ESFP\n",
       "320   You know, I didn't actually expect anyone to g...   ESFP\n",
       "234   If anyone is curious to delve more into him, h...   ESFP\n",
       "196   O_O. I did not expect these answers, at all. W...   ESFP\n",
       "595   How do you exactly become a fitness or persona...   ESFP\n",
       "\n",
       "[60913 rows x 2 columns]"
      ]
     },
     "execution_count": 141,
     "metadata": {},
     "output_type": "execute_result"
    }
   ],
   "source": [
    "df_final_train"
   ]
  },
  {
   "cell_type": "code",
   "execution_count": 143,
   "metadata": {},
   "outputs": [
    {
     "data": {
      "text/html": [
       "<div>\n",
       "<style scoped>\n",
       "    .dataframe tbody tr th:only-of-type {\n",
       "        vertical-align: middle;\n",
       "    }\n",
       "\n",
       "    .dataframe tbody tr th {\n",
       "        vertical-align: top;\n",
       "    }\n",
       "\n",
       "    .dataframe thead th {\n",
       "        text-align: right;\n",
       "    }\n",
       "</style>\n",
       "<table border=\"1\" class=\"dataframe\">\n",
       "  <thead>\n",
       "    <tr style=\"text-align: right;\">\n",
       "      <th></th>\n",
       "      <th>text</th>\n",
       "      <th>labels</th>\n",
       "    </tr>\n",
       "  </thead>\n",
       "  <tbody>\n",
       "    <tr>\n",
       "      <th>4736</th>\n",
       "      <td>The reason may be a certain lowered expectatio...</td>\n",
       "      <td>10</td>\n",
       "    </tr>\n",
       "    <tr>\n",
       "      <th>2603</th>\n",
       "      <td>I'm terrified of being on stage, but yet I kee...</td>\n",
       "      <td>10</td>\n",
       "    </tr>\n",
       "    <tr>\n",
       "      <th>922</th>\n",
       "      <td>I know that there are certain rules within the...</td>\n",
       "      <td>10</td>\n",
       "    </tr>\n",
       "    <tr>\n",
       "      <th>548</th>\n",
       "      <td>Saami family :)  They are not real-life people...</td>\n",
       "      <td>10</td>\n",
       "    </tr>\n",
       "    <tr>\n",
       "      <th>4484</th>\n",
       "      <td>I know, as an INTJ, that I'm highly attracted ...</td>\n",
       "      <td>10</td>\n",
       "    </tr>\n",
       "  </tbody>\n",
       "</table>\n",
       "</div>"
      ],
      "text/plain": [
       "                                                   text  labels\n",
       "4736  The reason may be a certain lowered expectatio...      10\n",
       "2603  I'm terrified of being on stage, but yet I kee...      10\n",
       "922   I know that there are certain rules within the...      10\n",
       "548   Saami family :)  They are not real-life people...      10\n",
       "4484  I know, as an INTJ, that I'm highly attracted ...      10"
      ]
     },
     "execution_count": 143,
     "metadata": {},
     "output_type": "execute_result"
    }
   ],
   "source": [
    "le = LabelEncoder()\n",
    "df_final_train.labels = le.fit_transform(df_final_train.labels)\n",
    "df_final_train.head()"
   ]
  },
  {
   "cell_type": "code",
   "execution_count": 146,
   "metadata": {},
   "outputs": [],
   "source": [
    "df_final_test.labels = le.transform(df_final_test.labels)"
   ]
  },
  {
   "cell_type": "code",
   "execution_count": 147,
   "metadata": {},
   "outputs": [
    {
     "data": {
      "text/plain": [
       "array(['ENFJ', 'ENFP', 'ENTJ', 'ENTP', 'ESFJ', 'ESFP', 'ESTJ', 'ESTP',\n",
       "       'INFJ', 'INFP', 'INTJ', 'INTP', 'ISFJ', 'ISFP', 'ISTJ', 'ISTP'],\n",
       "      dtype=object)"
      ]
     },
     "execution_count": 147,
     "metadata": {},
     "output_type": "execute_result"
    }
   ],
   "source": [
    "le.inverse_transform(range(0,16))"
   ]
  },
  {
   "cell_type": "code",
   "execution_count": 148,
   "metadata": {},
   "outputs": [
    {
     "name": "stderr",
     "output_type": "stream",
     "text": [
      "Some weights of the model checkpoint at distilbert-base-uncased were not used when initializing DistilBertForSequenceClassification: ['vocab_transform.weight', 'vocab_transform.bias', 'vocab_layer_norm.weight', 'vocab_layer_norm.bias', 'vocab_projector.weight', 'vocab_projector.bias']\n",
      "- This IS expected if you are initializing DistilBertForSequenceClassification from the checkpoint of a model trained on another task or with another architecture (e.g. initializing a BertForSequenceClassification model from a BertForPreTraining model).\n",
      "- This IS NOT expected if you are initializing DistilBertForSequenceClassification from the checkpoint of a model that you expect to be exactly identical (initializing a BertForSequenceClassification model from a BertForSequenceClassification model).\n",
      "Some weights of DistilBertForSequenceClassification were not initialized from the model checkpoint at distilbert-base-uncased and are newly initialized: ['pre_classifier.weight', 'pre_classifier.bias', 'classifier.weight', 'classifier.bias']\n",
      "You should probably TRAIN this model on a down-stream task to be able to use it for predictions and inference.\n"
     ]
    }
   ],
   "source": [
    "model_args = ClassificationArgs(num_train_epochs=1)\n",
    "\n",
    "model = ClassificationModel(\n",
    "    'distilbert',\n",
    "    'distilbert-base-uncased',\n",
    "    num_labels=16,\n",
    "    args=model_args,\n",
    "    use_cuda=False\n",
    ") "
   ]
  },
  {
   "cell_type": "code",
   "execution_count": null,
   "metadata": {},
   "outputs": [],
   "source": [
    "model.train_model(df_final_train)"
   ]
  },
  {
   "cell_type": "code",
   "execution_count": null,
   "metadata": {},
   "outputs": [],
   "source": [
    "result, model_outputs, wrong_predictions = model.eval_model(df_final_test)"
   ]
  }
 ],
 "metadata": {
  "kernelspec": {
   "display_name": "Python 3",
   "language": "python",
   "name": "python3"
  },
  "language_info": {
   "codemirror_mode": {
    "name": "ipython",
    "version": 3
   },
   "file_extension": ".py",
   "mimetype": "text/x-python",
   "name": "python",
   "nbconvert_exporter": "python",
   "pygments_lexer": "ipython3",
   "version": "3.7.7"
  }
 },
 "nbformat": 4,
 "nbformat_minor": 4
}
