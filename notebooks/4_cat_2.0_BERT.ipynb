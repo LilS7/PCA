{
 "cells": [
  {
   "cell_type": "code",
   "execution_count": 3,
   "metadata": {},
   "outputs": [],
   "source": [
    "import numpy as np\n",
    "import pandas as pd\n",
    "from simpletransformers.classification import ClassificationModel, ClassificationArgs\n",
    "import warnings\n",
    "import pickle\n",
    "import re\n",
    "from sklearn.preprocessing import LabelEncoder\n",
    "from sklearn.model_selection import train_test_split\n",
    "warnings.filterwarnings('ignore')"
   ]
  },
  {
   "cell_type": "code",
   "execution_count": 4,
   "metadata": {},
   "outputs": [],
   "source": [
    "df = pd.read_csv('../data/mbti_1.csv')"
   ]
  },
  {
   "cell_type": "code",
   "execution_count": 5,
   "metadata": {},
   "outputs": [],
   "source": [
    "def clean(post):\n",
    "    post_split = post.split('|||')\n",
    "    post_split = [clean_dots(ind_post) for ind_post in post_split if clean_dots(ind_post)]\n",
    "    # split the kaggle data set posts by |||\n",
    "    post_split_split = [x.split(' ') for x in post_split]\n",
    "    \n",
    "    # removes any 'words' that have http:// or https:// in them\n",
    "    return_list = [[item for item in sentence if ('http://' not in item and 'https://' not in item)] for sentence in post_split_split]\n",
    "    \n",
    "    # returns a list of posts if they are not empty after removing the links\n",
    "    return [' '.join(sentence) for sentence in return_list if sentence]"
   ]
  },
  {
   "cell_type": "code",
   "execution_count": 6,
   "metadata": {},
   "outputs": [],
   "source": [
    "def clean_dots(ind_post):\n",
    "    if(re.search('[a-zA-Z]', ind_post)):\n",
    "        if(ind_post.endswith('...') or ind_post.endswith(\"...'\")):\n",
    "            if(re.search('.*[\\.?!]\\s', ind_post)):\n",
    "                return(re.search('.*[\\.?!]\\s', ind_post).group(0).strip())\n",
    "            else:\n",
    "                return(ind_post)\n",
    "    return ''"
   ]
  },
  {
   "cell_type": "code",
   "execution_count": 7,
   "metadata": {},
   "outputs": [],
   "source": [
    "df_dict = {'INTJ':0, 'INTP':0, 'ENTJ':1, 'ENTP':1, \n",
    "           'INFJ':0, 'INFP':0, 'ENFJ':1, 'ENFP':1, \n",
    "           'ISTJ':0, 'ISFJ':0, 'ESTJ':1, 'ESFJ':1, \n",
    "           'ISTP':0, 'ISFP':0, 'ESTP':1, 'ESFP':1}"
   ]
  },
  {
   "cell_type": "code",
   "execution_count": 8,
   "metadata": {},
   "outputs": [],
   "source": [
    "df_split = {'INTJ':[], 'INTP':[], 'ENTJ':[], 'ENTP':[], \n",
    "           'INFJ':[], 'INFP':[], 'ENFJ':[], 'ENFP':[], \n",
    "           'ISTJ':[], 'ISFJ':[], 'ESTJ':[], 'ESFJ':[], \n",
    "           'ISTP':[], 'ISFP':[], 'ESTP':[], 'ESFP':[]}"
   ]
  },
  {
   "cell_type": "code",
   "execution_count": 9,
   "metadata": {},
   "outputs": [],
   "source": [
    "def extract(mbti, post, list_):\n",
    "    for ind_post in post:\n",
    "        list_.append((ind_post, mbti))"
   ]
  },
  {
   "cell_type": "code",
   "execution_count": 10,
   "metadata": {},
   "outputs": [
    {
     "name": "stdout",
     "output_type": "stream",
     "text": [
      "INTJ (200, 3)\n",
      "INTP (200, 3)\n",
      "ENTJ (200, 3)\n",
      "ENTP (200, 3)\n",
      "INFJ (200, 3)\n",
      "INFP (200, 3)\n",
      "ENFJ (190, 3)\n",
      "ENFP (200, 3)\n",
      "ISTJ (200, 3)\n",
      "ISFJ (166, 3)\n",
      "ESTJ (39, 3)\n",
      "ESFJ (42, 3)\n",
      "ISTP (200, 3)\n",
      "ISFP (200, 3)\n",
      "ESTP (89, 3)\n",
      "ESFP (48, 3)\n"
     ]
    }
   ],
   "source": [
    "for mbti in df_dict.keys():\n",
    "    if(df[df['type'] == mbti].shape[0] < 200):\n",
    "        df_dict[mbti] = df[df['type'] == mbti]\n",
    "    else:\n",
    "        df_dict[mbti] = df[df['type'] == mbti].sample(n=200)\n",
    "    \n",
    "    df_dict[mbti]['post_split'] = df_dict[mbti].posts.apply(clean)\n",
    "    \n",
    "    df_dict[mbti].post_split.apply(lambda x: extract(mbti, x, df_split[mbti]))\n",
    "    print(mbti, df_dict[mbti].shape)"
   ]
  },
  {
   "cell_type": "code",
   "execution_count": 11,
   "metadata": {},
   "outputs": [
    {
     "name": "stdout",
     "output_type": "stream",
     "text": [
      "INTJ 4988\n",
      "INTP 5180\n",
      "ENTJ 5337\n",
      "ENTP 5130\n",
      "INFJ 5705\n",
      "INFP 5181\n",
      "ENFJ 5461\n",
      "ENFP 5645\n",
      "ISTJ 5149\n",
      "ISFJ 4491\n",
      "ESTJ 1017\n",
      "ESFJ 1190\n",
      "ISTP 4834\n",
      "ISFP 4732\n",
      "ESTP 2079\n",
      "ESFP 973\n"
     ]
    },
    {
     "data": {
      "text/plain": [
       "67092"
      ]
     },
     "execution_count": 11,
     "metadata": {},
     "output_type": "execute_result"
    }
   ],
   "source": [
    "total_posts = 0\n",
    "for mbti in df_split:\n",
    "    print(mbti,len(df_split[mbti]))\n",
    "    total_posts += len(df_split[mbti])\n",
    "total_posts"
   ]
  },
  {
   "cell_type": "code",
   "execution_count": 12,
   "metadata": {},
   "outputs": [
    {
     "data": {
      "text/plain": [
       "(\"Yes, it's such a good game! I love most RPGs, MMORPGs, come to think of it every other genre too but those are my favorites.\",\n",
       " 'INFP')"
      ]
     },
     "execution_count": 12,
     "metadata": {},
     "output_type": "execute_result"
    }
   ],
   "source": [
    "df_split['INFP'][0]"
   ]
  },
  {
   "cell_type": "code",
   "execution_count": 13,
   "metadata": {
    "collapsed": true,
    "jupyter": {
     "outputs_hidden": true
    }
   },
   "outputs": [
    {
     "data": {
      "text/plain": [
       "[\"Yes, it's such a good game! I love most RPGs, MMORPGs, come to think of it every other genre too but those are my favorites.\",\n",
       " \"Hello, I thought I should probably introduce myself since I've been here a couple of days, it isn't my first post but better late than never.  I love this site and the people here.\",\n",
       " 'All amazing suggestions!! Everyone has such a good point about each. Lots that I had never though of before.',\n",
       " 'Wow I think you have just re-accounted the story of my life, I honestly agree with every single thing you have said.',\n",
       " 'Definitely! really good points about the housing as well, and people are fairly friendly too unless you are brandishing a sword at them or god forbid your holding fire too close to them haha.',\n",
       " \"The sims that's such a good one!\",\n",
       " 'I completely understand where everyone is coming from, for me it is so easy to feel this way as well. What keeps me going is hope.',\n",
       " 'I definitely see your point about Bioshock, maybe more of a rare holiday that makes you appreciate life as it is :P   Great choices!!',\n",
       " \"I have a feeling that INFP personality times may be drawn to games, after all they provide a lot of escapism and are great for when we don't feel like talking to people.\",\n",
       " 'These are some of the things i do that people might relate to :)   1.']"
      ]
     },
     "execution_count": 13,
     "metadata": {},
     "output_type": "execute_result"
    }
   ],
   "source": [
    "df_dict['INFP'].post_split.iloc[0]"
   ]
  },
  {
   "cell_type": "code",
   "execution_count": 32,
   "metadata": {},
   "outputs": [
    {
     "data": {
      "text/html": [
       "<div>\n",
       "<style scoped>\n",
       "    .dataframe tbody tr th:only-of-type {\n",
       "        vertical-align: middle;\n",
       "    }\n",
       "\n",
       "    .dataframe tbody tr th {\n",
       "        vertical-align: top;\n",
       "    }\n",
       "\n",
       "    .dataframe thead th {\n",
       "        text-align: right;\n",
       "    }\n",
       "</style>\n",
       "<table border=\"1\" class=\"dataframe\">\n",
       "  <thead>\n",
       "    <tr style=\"text-align: right;\">\n",
       "      <th></th>\n",
       "      <th>text</th>\n",
       "      <th>labels</th>\n",
       "    </tr>\n",
       "  </thead>\n",
       "  <tbody>\n",
       "  </tbody>\n",
       "</table>\n",
       "</div>"
      ],
      "text/plain": [
       "Empty DataFrame\n",
       "Columns: [text, labels]\n",
       "Index: []"
      ]
     },
     "execution_count": 32,
     "metadata": {},
     "output_type": "execute_result"
    }
   ],
   "source": [
    "df_final_train = pd.DataFrame(columns=[\"text\", \"labels\"])\n",
    "df_final_test = df_final_train.copy()\n",
    "df_final_train"
   ]
  },
  {
   "cell_type": "code",
   "execution_count": 33,
   "metadata": {},
   "outputs": [
    {
     "data": {
      "text/html": [
       "<div>\n",
       "<style scoped>\n",
       "    .dataframe tbody tr th:only-of-type {\n",
       "        vertical-align: middle;\n",
       "    }\n",
       "\n",
       "    .dataframe tbody tr th {\n",
       "        vertical-align: top;\n",
       "    }\n",
       "\n",
       "    .dataframe thead th {\n",
       "        text-align: right;\n",
       "    }\n",
       "</style>\n",
       "<table border=\"1\" class=\"dataframe\">\n",
       "  <thead>\n",
       "    <tr style=\"text-align: right;\">\n",
       "      <th></th>\n",
       "      <th>text</th>\n",
       "      <th>labels</th>\n",
       "    </tr>\n",
       "  </thead>\n",
       "  <tbody>\n",
       "  </tbody>\n",
       "</table>\n",
       "</div>"
      ],
      "text/plain": [
       "Empty DataFrame\n",
       "Columns: [text, labels]\n",
       "Index: []"
      ]
     },
     "execution_count": 33,
     "metadata": {},
     "output_type": "execute_result"
    }
   ],
   "source": [
    "df_final_test"
   ]
  },
  {
   "cell_type": "code",
   "execution_count": 30,
   "metadata": {},
   "outputs": [],
   "source": [
    "for mbti in df_split.keys():\n",
    "    test, train = train_test_split(pd.DataFrame(df_split[mbti], columns=[\"text\", \"labels\"]), test_size=0.9)\n",
    "    df_final_train = pd.concat([df_final_train, train])\n",
    "    df_final_test = pd.concat([df_final_test, test])"
   ]
  },
  {
   "cell_type": "code",
   "execution_count": 31,
   "metadata": {},
   "outputs": [
    {
     "data": {
      "text/html": [
       "<div>\n",
       "<style scoped>\n",
       "    .dataframe tbody tr th:only-of-type {\n",
       "        vertical-align: middle;\n",
       "    }\n",
       "\n",
       "    .dataframe tbody tr th {\n",
       "        vertical-align: top;\n",
       "    }\n",
       "\n",
       "    .dataframe thead th {\n",
       "        text-align: right;\n",
       "    }\n",
       "</style>\n",
       "<table border=\"1\" class=\"dataframe\">\n",
       "  <thead>\n",
       "    <tr style=\"text-align: right;\">\n",
       "      <th></th>\n",
       "      <th>text</th>\n",
       "      <th>labels</th>\n",
       "    </tr>\n",
       "  </thead>\n",
       "  <tbody>\n",
       "    <tr>\n",
       "      <th>3996</th>\n",
       "      <td>No.  ENFPs and INTJs supposedly go well togeth...</td>\n",
       "      <td>0</td>\n",
       "    </tr>\n",
       "    <tr>\n",
       "      <th>1650</th>\n",
       "      <td>Logic is not necessarily the same as math.  Ju...</td>\n",
       "      <td>0</td>\n",
       "    </tr>\n",
       "    <tr>\n",
       "      <th>2665</th>\n",
       "      <td>I have to admit it. to myself at least... I li...</td>\n",
       "      <td>0</td>\n",
       "    </tr>\n",
       "    <tr>\n",
       "      <th>1358</th>\n",
       "      <td>No, not repeatedly. Maybe for another person, ...</td>\n",
       "      <td>0</td>\n",
       "    </tr>\n",
       "    <tr>\n",
       "      <th>3276</th>\n",
       "      <td>My mom is an INFJ. She would drive people who ...</td>\n",
       "      <td>0</td>\n",
       "    </tr>\n",
       "    <tr>\n",
       "      <th>...</th>\n",
       "      <td>...</td>\n",
       "      <td>...</td>\n",
       "    </tr>\n",
       "    <tr>\n",
       "      <th>389</th>\n",
       "      <td>I just love men who read. Cannot deal with som...</td>\n",
       "      <td>ESFP</td>\n",
       "    </tr>\n",
       "    <tr>\n",
       "      <th>595</th>\n",
       "      <td>How do you exactly become a fitness or persona...</td>\n",
       "      <td>ESFP</td>\n",
       "    </tr>\n",
       "    <tr>\n",
       "      <th>833</th>\n",
       "      <td>Thanks everybody :). Was nice to know. :happy:...</td>\n",
       "      <td>ESFP</td>\n",
       "    </tr>\n",
       "    <tr>\n",
       "      <th>892</th>\n",
       "      <td>$250 for 3 months actually sounds like a prett...</td>\n",
       "      <td>ESFP</td>\n",
       "    </tr>\n",
       "    <tr>\n",
       "      <th>677</th>\n",
       "      <td>For some months I have always thought I was an...</td>\n",
       "      <td>ESFP</td>\n",
       "    </tr>\n",
       "  </tbody>\n",
       "</table>\n",
       "<p>13406 rows × 2 columns</p>\n",
       "</div>"
      ],
      "text/plain": [
       "                                                   text labels\n",
       "3996  No.  ENFPs and INTJs supposedly go well togeth...      0\n",
       "1650  Logic is not necessarily the same as math.  Ju...      0\n",
       "2665  I have to admit it. to myself at least... I li...      0\n",
       "1358  No, not repeatedly. Maybe for another person, ...      0\n",
       "3276  My mom is an INFJ. She would drive people who ...      0\n",
       "...                                                 ...    ...\n",
       "389   I just love men who read. Cannot deal with som...   ESFP\n",
       "595   How do you exactly become a fitness or persona...   ESFP\n",
       "833   Thanks everybody :). Was nice to know. :happy:...   ESFP\n",
       "892   $250 for 3 months actually sounds like a prett...   ESFP\n",
       "677   For some months I have always thought I was an...   ESFP\n",
       "\n",
       "[13406 rows x 2 columns]"
      ]
     },
     "execution_count": 31,
     "metadata": {},
     "output_type": "execute_result"
    }
   ],
   "source": [
    "df_final_test"
   ]
  },
  {
   "cell_type": "code",
   "execution_count": 18,
   "metadata": {},
   "outputs": [
    {
     "data": {
      "text/html": [
       "<div>\n",
       "<style scoped>\n",
       "    .dataframe tbody tr th:only-of-type {\n",
       "        vertical-align: middle;\n",
       "    }\n",
       "\n",
       "    .dataframe tbody tr th {\n",
       "        vertical-align: top;\n",
       "    }\n",
       "\n",
       "    .dataframe thead th {\n",
       "        text-align: right;\n",
       "    }\n",
       "</style>\n",
       "<table border=\"1\" class=\"dataframe\">\n",
       "  <thead>\n",
       "    <tr style=\"text-align: right;\">\n",
       "      <th></th>\n",
       "      <th>text</th>\n",
       "      <th>labels</th>\n",
       "    </tr>\n",
       "  </thead>\n",
       "  <tbody>\n",
       "    <tr>\n",
       "      <th>2278</th>\n",
       "      <td>Sgt Pepper  Their later albums were excellent ...</td>\n",
       "      <td>INTJ</td>\n",
       "    </tr>\n",
       "    <tr>\n",
       "      <th>3324</th>\n",
       "      <td>Perhaps asking the OP for clarification/expans...</td>\n",
       "      <td>INTJ</td>\n",
       "    </tr>\n",
       "    <tr>\n",
       "      <th>519</th>\n",
       "      <td>1 is more about imposition - IFP is more often...</td>\n",
       "      <td>INTJ</td>\n",
       "    </tr>\n",
       "    <tr>\n",
       "      <th>3229</th>\n",
       "      <td>you were first to request credit for being wis...</td>\n",
       "      <td>INTJ</td>\n",
       "    </tr>\n",
       "    <tr>\n",
       "      <th>4535</th>\n",
       "      <td>Do you ever ask him what's on his mind or what...</td>\n",
       "      <td>INTJ</td>\n",
       "    </tr>\n",
       "    <tr>\n",
       "      <th>...</th>\n",
       "      <td>...</td>\n",
       "      <td>...</td>\n",
       "    </tr>\n",
       "    <tr>\n",
       "      <th>398</th>\n",
       "      <td>A lot of people misunderstand the term 'valida...</td>\n",
       "      <td>ESFP</td>\n",
       "    </tr>\n",
       "    <tr>\n",
       "      <th>401</th>\n",
       "      <td>dealing with emotions is one big problem with ...</td>\n",
       "      <td>ESFP</td>\n",
       "    </tr>\n",
       "    <tr>\n",
       "      <th>761</th>\n",
       "      <td>im more for savoury foods than sweet. i can ea...</td>\n",
       "      <td>ESFP</td>\n",
       "    </tr>\n",
       "    <tr>\n",
       "      <th>740</th>\n",
       "      <td>The song Banshee Beat by Animal Collective has...</td>\n",
       "      <td>ESFP</td>\n",
       "    </tr>\n",
       "    <tr>\n",
       "      <th>158</th>\n",
       "      <td>To my 7 year old self: 1.don't be so shy. Take...</td>\n",
       "      <td>ESFP</td>\n",
       "    </tr>\n",
       "  </tbody>\n",
       "</table>\n",
       "<p>60389 rows × 2 columns</p>\n",
       "</div>"
      ],
      "text/plain": [
       "                                                   text labels\n",
       "2278  Sgt Pepper  Their later albums were excellent ...   INTJ\n",
       "3324  Perhaps asking the OP for clarification/expans...   INTJ\n",
       "519   1 is more about imposition - IFP is more often...   INTJ\n",
       "3229  you were first to request credit for being wis...   INTJ\n",
       "4535  Do you ever ask him what's on his mind or what...   INTJ\n",
       "...                                                 ...    ...\n",
       "398   A lot of people misunderstand the term 'valida...   ESFP\n",
       "401   dealing with emotions is one big problem with ...   ESFP\n",
       "761   im more for savoury foods than sweet. i can ea...   ESFP\n",
       "740   The song Banshee Beat by Animal Collective has...   ESFP\n",
       "158   To my 7 year old self: 1.don't be so shy. Take...   ESFP\n",
       "\n",
       "[60389 rows x 2 columns]"
      ]
     },
     "execution_count": 18,
     "metadata": {},
     "output_type": "execute_result"
    }
   ],
   "source": [
    "df_final_train"
   ]
  },
  {
   "cell_type": "code",
   "execution_count": 28,
   "metadata": {},
   "outputs": [],
   "source": [
    "df_final = pd.concat([df_final_train, df_final_test])"
   ]
  },
  {
   "cell_type": "code",
   "execution_count": 29,
   "metadata": {},
   "outputs": [
    {
     "data": {
      "text/html": [
       "<div>\n",
       "<style scoped>\n",
       "    .dataframe tbody tr th:only-of-type {\n",
       "        vertical-align: middle;\n",
       "    }\n",
       "\n",
       "    .dataframe tbody tr th {\n",
       "        vertical-align: top;\n",
       "    }\n",
       "\n",
       "    .dataframe thead th {\n",
       "        text-align: right;\n",
       "    }\n",
       "</style>\n",
       "<table border=\"1\" class=\"dataframe\">\n",
       "  <thead>\n",
       "    <tr style=\"text-align: right;\">\n",
       "      <th></th>\n",
       "      <th>text</th>\n",
       "      <th>labels</th>\n",
       "    </tr>\n",
       "  </thead>\n",
       "  <tbody>\n",
       "    <tr>\n",
       "      <th>2278</th>\n",
       "      <td>Sgt Pepper  Their later albums were excellent ...</td>\n",
       "      <td>0</td>\n",
       "    </tr>\n",
       "    <tr>\n",
       "      <th>3324</th>\n",
       "      <td>Perhaps asking the OP for clarification/expans...</td>\n",
       "      <td>0</td>\n",
       "    </tr>\n",
       "    <tr>\n",
       "      <th>519</th>\n",
       "      <td>1 is more about imposition - IFP is more often...</td>\n",
       "      <td>0</td>\n",
       "    </tr>\n",
       "    <tr>\n",
       "      <th>3229</th>\n",
       "      <td>you were first to request credit for being wis...</td>\n",
       "      <td>0</td>\n",
       "    </tr>\n",
       "    <tr>\n",
       "      <th>4535</th>\n",
       "      <td>Do you ever ask him what's on his mind or what...</td>\n",
       "      <td>0</td>\n",
       "    </tr>\n",
       "    <tr>\n",
       "      <th>...</th>\n",
       "      <td>...</td>\n",
       "      <td>...</td>\n",
       "    </tr>\n",
       "    <tr>\n",
       "      <th>403</th>\n",
       "      <td>I agree anyone who can take this shit (aka me)...</td>\n",
       "      <td>3</td>\n",
       "    </tr>\n",
       "    <tr>\n",
       "      <th>631</th>\n",
       "      <td>Thanks, my dear. Personnally speaking, I am at...</td>\n",
       "      <td>3</td>\n",
       "    </tr>\n",
       "    <tr>\n",
       "      <th>461</th>\n",
       "      <td>I definitely prefer cute women to sexy.  I've ...</td>\n",
       "      <td>3</td>\n",
       "    </tr>\n",
       "    <tr>\n",
       "      <th>325</th>\n",
       "      <td>If you meet anyone in real life who knows even...</td>\n",
       "      <td>3</td>\n",
       "    </tr>\n",
       "    <tr>\n",
       "      <th>412</th>\n",
       "      <td>HEY!!! be nice!!! &gt;.&lt;  about the trial period.</td>\n",
       "      <td>3</td>\n",
       "    </tr>\n",
       "  </tbody>\n",
       "</table>\n",
       "<p>67092 rows × 2 columns</p>\n",
       "</div>"
      ],
      "text/plain": [
       "                                                   text  labels\n",
       "2278  Sgt Pepper  Their later albums were excellent ...       0\n",
       "3324  Perhaps asking the OP for clarification/expans...       0\n",
       "519   1 is more about imposition - IFP is more often...       0\n",
       "3229  you were first to request credit for being wis...       0\n",
       "4535  Do you ever ask him what's on his mind or what...       0\n",
       "...                                                 ...     ...\n",
       "403   I agree anyone who can take this shit (aka me)...       3\n",
       "631   Thanks, my dear. Personnally speaking, I am at...       3\n",
       "461   I definitely prefer cute women to sexy.  I've ...       3\n",
       "325   If you meet anyone in real life who knows even...       3\n",
       "412      HEY!!! be nice!!! >.<  about the trial period.       3\n",
       "\n",
       "[67092 rows x 2 columns]"
      ]
     },
     "execution_count": 29,
     "metadata": {},
     "output_type": "execute_result"
    }
   ],
   "source": [
    "df_final"
   ]
  },
  {
   "cell_type": "code",
   "execution_count": 19,
   "metadata": {},
   "outputs": [],
   "source": [
    "def four_labels(type_):\n",
    "#     analysts = ['INTJ', 'INTP', 'ENTJ', 'ENTP']\n",
    "#     diplomats = ['INFJ', 'INFP', 'ENFJ', 'ENFP']\n",
    "#     sentinels = ['ISTJ', 'ISFJ', 'ESTJ', 'ESFJ']\n",
    "#     explorers = ['ISTP', 'ISFP', 'ESTP', 'ESFP']\n",
    "    types = {'INTJ':0, 'INTP':0, 'ENTJ':0, 'ENTP':0, \n",
    "             'INFJ':1, 'INFP':1, 'ENFJ':1, 'ENFP':1, \n",
    "             'ISTJ':2, 'ISFJ':2, 'ESTJ':2, 'ESFJ':2, \n",
    "             'ISTP':3, 'ISFP':3, 'ESTP':3, 'ESFP':3}\n",
    "    \n",
    "    return types[type_]"
   ]
  },
  {
   "cell_type": "code",
   "execution_count": 20,
   "metadata": {},
   "outputs": [],
   "source": [
    "df_final_train.labels = df_final_train.labels.apply(four_labels)"
   ]
  },
  {
   "cell_type": "code",
   "execution_count": 21,
   "metadata": {},
   "outputs": [],
   "source": [
    "df_final_test.labels = df_final_test.labels.apply(four_labels)"
   ]
  },
  {
   "cell_type": "code",
   "execution_count": 22,
   "metadata": {},
   "outputs": [
    {
     "data": {
      "text/html": [
       "<div>\n",
       "<style scoped>\n",
       "    .dataframe tbody tr th:only-of-type {\n",
       "        vertical-align: middle;\n",
       "    }\n",
       "\n",
       "    .dataframe tbody tr th {\n",
       "        vertical-align: top;\n",
       "    }\n",
       "\n",
       "    .dataframe thead th {\n",
       "        text-align: right;\n",
       "    }\n",
       "</style>\n",
       "<table border=\"1\" class=\"dataframe\">\n",
       "  <thead>\n",
       "    <tr style=\"text-align: right;\">\n",
       "      <th></th>\n",
       "      <th>text</th>\n",
       "      <th>labels</th>\n",
       "    </tr>\n",
       "  </thead>\n",
       "  <tbody>\n",
       "    <tr>\n",
       "      <th>3996</th>\n",
       "      <td>No.  ENFPs and INTJs supposedly go well togeth...</td>\n",
       "      <td>0</td>\n",
       "    </tr>\n",
       "    <tr>\n",
       "      <th>1650</th>\n",
       "      <td>Logic is not necessarily the same as math.  Ju...</td>\n",
       "      <td>0</td>\n",
       "    </tr>\n",
       "  </tbody>\n",
       "</table>\n",
       "</div>"
      ],
      "text/plain": [
       "                                                   text  labels\n",
       "3996  No.  ENFPs and INTJs supposedly go well togeth...       0\n",
       "1650  Logic is not necessarily the same as math.  Ju...       0"
      ]
     },
     "execution_count": 22,
     "metadata": {},
     "output_type": "execute_result"
    }
   ],
   "source": [
    "df_final_test.head(2)"
   ]
  },
  {
   "cell_type": "code",
   "execution_count": 25,
   "metadata": {},
   "outputs": [
    {
     "name": "stderr",
     "output_type": "stream",
     "text": [
      "Some weights of the model checkpoint at distilbert-base-uncased were not used when initializing DistilBertForSequenceClassification: ['vocab_transform.weight', 'vocab_transform.bias', 'vocab_layer_norm.weight', 'vocab_layer_norm.bias', 'vocab_projector.weight', 'vocab_projector.bias']\n",
      "- This IS expected if you are initializing DistilBertForSequenceClassification from the checkpoint of a model trained on another task or with another architecture (e.g. initializing a BertForSequenceClassification model from a BertForPreTraining model).\n",
      "- This IS NOT expected if you are initializing DistilBertForSequenceClassification from the checkpoint of a model that you expect to be exactly identical (initializing a BertForSequenceClassification model from a BertForSequenceClassification model).\n",
      "Some weights of DistilBertForSequenceClassification were not initialized from the model checkpoint at distilbert-base-uncased and are newly initialized: ['pre_classifier.weight', 'pre_classifier.bias', 'classifier.weight', 'classifier.bias']\n",
      "You should probably TRAIN this model on a down-stream task to be able to use it for predictions and inference.\n"
     ]
    }
   ],
   "source": [
    "model_args = ClassificationArgs(num_train_epochs=1)\n",
    "\n",
    "model = ClassificationModel(\n",
    "    'distilbert',\n",
    "    'distilbert-base-uncased',\n",
    "    num_labels=4,\n",
    "    args=model_args,\n",
    "    use_cuda=False\n",
    ") "
   ]
  },
  {
   "cell_type": "code",
   "execution_count": 26,
   "metadata": {},
   "outputs": [
    {
     "data": {
      "application/vnd.jupyter.widget-view+json": {
       "model_id": "cd43eef16d014159a600a4bdf7a21006",
       "version_major": 2,
       "version_minor": 0
      },
      "text/plain": [
       "HBox(children=(HTML(value=''), FloatProgress(value=0.0, max=60389.0), HTML(value='')))"
      ]
     },
     "metadata": {},
     "output_type": "display_data"
    },
    {
     "name": "stdout",
     "output_type": "stream",
     "text": [
      "\n"
     ]
    },
    {
     "data": {
      "application/vnd.jupyter.widget-view+json": {
       "model_id": "096201b344754dadbb3275dadb61ffc9",
       "version_major": 2,
       "version_minor": 0
      },
      "text/plain": [
       "HBox(children=(HTML(value='Epoch'), FloatProgress(value=0.0, max=1.0), HTML(value='')))"
      ]
     },
     "metadata": {},
     "output_type": "display_data"
    },
    {
     "data": {
      "application/vnd.jupyter.widget-view+json": {
       "model_id": "d0d588ea77ac44d9978a2e9fd8374158",
       "version_major": 2,
       "version_minor": 0
      },
      "text/plain": [
       "HBox(children=(HTML(value='Running Epoch 0 of 1'), FloatProgress(value=0.0, max=7549.0), HTML(value='')))"
      ]
     },
     "metadata": {},
     "output_type": "display_data"
    },
    {
     "name": "stdout",
     "output_type": "stream",
     "text": [
      "\n",
      "\n"
     ]
    },
    {
     "data": {
      "text/plain": [
       "(7549, 1.3297366781935247)"
      ]
     },
     "execution_count": 26,
     "metadata": {},
     "output_type": "execute_result"
    }
   ],
   "source": [
    "model.train_model(df_final_train, output_dir=\"4_cat_2.0_BERT_model/\")"
   ]
  },
  {
   "cell_type": "code",
   "execution_count": 27,
   "metadata": {},
   "outputs": [
    {
     "data": {
      "application/vnd.jupyter.widget-view+json": {
       "model_id": "014239923c094ec2986229cdb6cf8b86",
       "version_major": 2,
       "version_minor": 0
      },
      "text/plain": [
       "HBox(children=(HTML(value=''), FloatProgress(value=0.0, max=6703.0), HTML(value='')))"
      ]
     },
     "metadata": {},
     "output_type": "display_data"
    },
    {
     "name": "stdout",
     "output_type": "stream",
     "text": [
      "\n"
     ]
    },
    {
     "data": {
      "application/vnd.jupyter.widget-view+json": {
       "model_id": "845858b74cde485582cf859d2dd04a98",
       "version_major": 2,
       "version_minor": 0
      },
      "text/plain": [
       "HBox(children=(HTML(value='Running Evaluation'), FloatProgress(value=0.0, max=838.0), HTML(value='')))"
      ]
     },
     "metadata": {},
     "output_type": "display_data"
    },
    {
     "name": "stdout",
     "output_type": "stream",
     "text": [
      "\n"
     ]
    }
   ],
   "source": [
    "result, model_outputs, wrong_predictions = model.eval_model(df_final_test)"
   ]
  },
  {
   "cell_type": "code",
   "execution_count": 164,
   "metadata": {},
   "outputs": [
    {
     "data": {
      "text/plain": [
       "{'mcc': 0.05235541569984611, 'eval_loss': 2.6152040983798237}"
      ]
     },
     "execution_count": 164,
     "metadata": {},
     "output_type": "execute_result"
    }
   ],
   "source": [
    "result"
   ]
  },
  {
   "cell_type": "code",
   "execution_count": 157,
   "metadata": {},
   "outputs": [],
   "source": [
    "pred_sent = \"I was always bullied by my family for being small and small-minded, but I don't think I ever took it too seriously. I don't ever think I would have considered trying to be an independent thinker if I'd still been able to be an independent thinker about my own life.\""
   ]
  },
  {
   "cell_type": "code",
   "execution_count": 161,
   "metadata": {},
   "outputs": [],
   "source": [
    "pred_sent1 = \"I was always bullied by my family for being small, though.I am not sure what that means. I am not in love or I am lonely...just sad.  How are people feeling when they know something is wrong?It was not always like that. I was the only one who was really happy, and it made me feel a little better. I do not agree with those types.  They have no right to complain and everyone else just seems cool to each other. It is not fair.You're making me sound like a pussy and you're going to be very harsh, especially when you know what it is like to have my ass drilled deep into your body.\""
   ]
  },
  {
   "cell_type": "code",
   "execution_count": 162,
   "metadata": {},
   "outputs": [
    {
     "data": {
      "application/vnd.jupyter.widget-view+json": {
       "model_id": "58cb91103c1e49b6bdb988a22f2de2dd",
       "version_major": 2,
       "version_minor": 0
      },
      "text/plain": [
       "HBox(children=(HTML(value=''), FloatProgress(value=0.0, max=2.0), HTML(value='')))"
      ]
     },
     "metadata": {},
     "output_type": "display_data"
    },
    {
     "name": "stdout",
     "output_type": "stream",
     "text": [
      "\n"
     ]
    },
    {
     "data": {
      "application/vnd.jupyter.widget-view+json": {
       "model_id": "d5c92540d8ab47388a04b055f364243c",
       "version_major": 2,
       "version_minor": 0
      },
      "text/plain": [
       "HBox(children=(HTML(value=''), FloatProgress(value=0.0, max=1.0), HTML(value='')))"
      ]
     },
     "metadata": {},
     "output_type": "display_data"
    },
    {
     "name": "stdout",
     "output_type": "stream",
     "text": [
      "\n"
     ]
    }
   ],
   "source": [
    "predictions, raw_outputs = model.predict([pred_sent, pred_sent1])"
   ]
  },
  {
   "cell_type": "code",
   "execution_count": 163,
   "metadata": {},
   "outputs": [
    {
     "data": {
      "text/plain": [
       "array(['INTJ', 'ENFJ'], dtype=object)"
      ]
     },
     "execution_count": 163,
     "metadata": {},
     "output_type": "execute_result"
    }
   ],
   "source": [
    "le.inverse_transform(predictions)"
   ]
  }
 ],
 "metadata": {
  "kernelspec": {
   "display_name": "Python 3",
   "language": "python",
   "name": "python3"
  },
  "language_info": {
   "codemirror_mode": {
    "name": "ipython",
    "version": 3
   },
   "file_extension": ".py",
   "mimetype": "text/x-python",
   "name": "python",
   "nbconvert_exporter": "python",
   "pygments_lexer": "ipython3",
   "version": "3.7.7"
  }
 },
 "nbformat": 4,
 "nbformat_minor": 4
}
