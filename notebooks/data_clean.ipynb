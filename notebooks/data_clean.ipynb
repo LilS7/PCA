{
 "cells": [
  {
   "cell_type": "code",
   "execution_count": 68,
   "metadata": {},
   "outputs": [],
   "source": [
    "import pandas as pd\n",
    "import numpy as np\n",
    "import requests\n",
    "import re\n",
    "import json\n",
    "import string \n",
    "from bs4 import BeautifulSoup\n",
    "from nltk.corpus import stopwords\n",
    "from nltk.tokenize import word_tokenize\n",
    "from nltk.stem import WordNetLemmatizer"
   ]
  },
  {
   "cell_type": "code",
   "execution_count": 69,
   "metadata": {},
   "outputs": [],
   "source": [
    "data = pd.read_csv('../data/mbti_1.csv')"
   ]
  },
  {
   "cell_type": "code",
   "execution_count": 70,
   "metadata": {},
   "outputs": [
    {
     "data": {
      "text/html": [
       "<div>\n",
       "<style scoped>\n",
       "    .dataframe tbody tr th:only-of-type {\n",
       "        vertical-align: middle;\n",
       "    }\n",
       "\n",
       "    .dataframe tbody tr th {\n",
       "        vertical-align: top;\n",
       "    }\n",
       "\n",
       "    .dataframe thead th {\n",
       "        text-align: right;\n",
       "    }\n",
       "</style>\n",
       "<table border=\"1\" class=\"dataframe\">\n",
       "  <thead>\n",
       "    <tr style=\"text-align: right;\">\n",
       "      <th></th>\n",
       "      <th>type</th>\n",
       "      <th>posts</th>\n",
       "    </tr>\n",
       "  </thead>\n",
       "  <tbody>\n",
       "    <tr>\n",
       "      <th>0</th>\n",
       "      <td>INFJ</td>\n",
       "      <td>'http://www.youtube.com/watch?v=qsXHcwe3krw|||...</td>\n",
       "    </tr>\n",
       "    <tr>\n",
       "      <th>1</th>\n",
       "      <td>ENTP</td>\n",
       "      <td>'I'm finding the lack of me in these posts ver...</td>\n",
       "    </tr>\n",
       "    <tr>\n",
       "      <th>2</th>\n",
       "      <td>INTP</td>\n",
       "      <td>'Good one  _____   https://www.youtube.com/wat...</td>\n",
       "    </tr>\n",
       "    <tr>\n",
       "      <th>3</th>\n",
       "      <td>INTJ</td>\n",
       "      <td>'Dear INTP,   I enjoyed our conversation the o...</td>\n",
       "    </tr>\n",
       "    <tr>\n",
       "      <th>4</th>\n",
       "      <td>ENTJ</td>\n",
       "      <td>'You're fired.|||That's another silly misconce...</td>\n",
       "    </tr>\n",
       "  </tbody>\n",
       "</table>\n",
       "</div>"
      ],
      "text/plain": [
       "   type                                              posts\n",
       "0  INFJ  'http://www.youtube.com/watch?v=qsXHcwe3krw|||...\n",
       "1  ENTP  'I'm finding the lack of me in these posts ver...\n",
       "2  INTP  'Good one  _____   https://www.youtube.com/wat...\n",
       "3  INTJ  'Dear INTP,   I enjoyed our conversation the o...\n",
       "4  ENTJ  'You're fired.|||That's another silly misconce..."
      ]
     },
     "execution_count": 70,
     "metadata": {},
     "output_type": "execute_result"
    }
   ],
   "source": [
    "data.head()"
   ]
  },
  {
   "cell_type": "code",
   "execution_count": 71,
   "metadata": {},
   "outputs": [
    {
     "data": {
      "text/plain": [
       "50"
      ]
     },
     "execution_count": 71,
     "metadata": {},
     "output_type": "execute_result"
    }
   ],
   "source": [
    "item_0 = data.posts.iloc[0].split('|||')\n",
    "len(item_0)"
   ]
  },
  {
   "cell_type": "code",
   "execution_count": 72,
   "metadata": {},
   "outputs": [
    {
     "data": {
      "text/plain": [
       "[\"'http://www.youtube.com/watch?v=qsXHcwe3krw\",\n",
       " 'http://41.media.tumblr.com/tumblr_lfouy03PMA1qa1rooo1_500.jpg',\n",
       " 'enfp and intj moments  https://www.youtube.com/watch?v=iz7lE1g4XM4  sportscenter not top ten plays  https://www.youtube.com/watch?v=uCdfze1etec  pranks']"
      ]
     },
     "execution_count": 72,
     "metadata": {},
     "output_type": "execute_result"
    }
   ],
   "source": [
    "item_0[:3]"
   ]
  },
  {
   "cell_type": "code",
   "execution_count": 73,
   "metadata": {},
   "outputs": [],
   "source": [
    "def split_post(post):\n",
    "    # split the kaggle data set posts by |||\n",
    "    return post.split('|||')"
   ]
  },
  {
   "cell_type": "code",
   "execution_count": 75,
   "metadata": {},
   "outputs": [],
   "source": [
    "# clean youtube links\n",
    "def clean_yt_link(link):\n",
    "    # so far just remove ' and \" from youtube links because we saw that as an issue\n",
    "    link = link.replace(\"\\'\", '')\n",
    "    link = link.replace('\\\"', '')\n",
    "    return link"
   ]
  },
  {
   "cell_type": "code",
   "execution_count": 76,
   "metadata": {},
   "outputs": [],
   "source": [
    "# scrape youtube title\n",
    "def get_yt_title(url, add_description=False):\n",
    "    ret_string = ''\n",
    "    response = requests.get(url)\n",
    "    soup = BeautifulSoup(response.content, \"html.parser\")\n",
    "    \n",
    "    if not soup:\n",
    "        return ret_string\n",
    "    \n",
    "    if soup.find('title'):\n",
    "        # get title from the <title> tag\n",
    "        ret_string += soup.find('title').string\n",
    "\n",
    "    if add_description:\n",
    "        # use regex to find the description from a text version of the html\n",
    "        html = response.text\n",
    "        # description seems to be between \"shortDescription\": and ,\"isCrawlable\"\n",
    "        # so we use regex to get the text between those two strings\n",
    "        desc = re.findall(r'\"shortDescription\":(.+),\"isCrawlable\"', html, re.DOTALL)\n",
    "        if desc:\n",
    "            desc = desc[0].replace('\\\\n', ' ')\n",
    "            ret_string += desc\n",
    "            \n",
    "    return ret_string"
   ]
  },
  {
   "cell_type": "code",
   "execution_count": 77,
   "metadata": {},
   "outputs": [],
   "source": [
    "def replace_youtube(post_split, add_description=False):\n",
    "    # split each of the 50 posts into a list of its words/URL links\n",
    "    # so we have a list of 50 posts and each post is a list of the words/URL links\n",
    "    post_split_split = [x.split(' ') for x in post_split]\n",
    "    \n",
    "    # loop through each word/URL link in and replace youtube links with youtube video titles\n",
    "    return_list = []\n",
    "    for item in post_split_split:\n",
    "        sentence = []\n",
    "        for word in item:\n",
    "            if 'http://www.youtube.com/watch?v=' in word or 'https://www.youtube.com/watch?v=' in word:\n",
    "                sentence.append(get_yt_title(clean_yt_link(word), add_description))\n",
    "            else:\n",
    "                sentence.append(word)\n",
    "        return_list.append(sentence)\n",
    "        \n",
    "    # join the words/youtube titles of each post so we are back to a list with 50 posts\n",
    "    # this is necessary because otherwise some items are multiple words (the titles),\n",
    "    # while the other items are still just single words\n",
    "    return_list = [' '.join(thing) for thing in return_list]\n",
    "    \n",
    "    return return_list"
   ]
  },
  {
   "cell_type": "code",
   "execution_count": 78,
   "metadata": {},
   "outputs": [],
   "source": [
    "def remove_links(post_split):\n",
    "    # split each post into a list of individual words\n",
    "    post_split_split = [x.split(' ') for x in post_split]\n",
    "    \n",
    "    # removes any 'words' that have http:// or https:// in them\n",
    "    return_list = [[item for item in sentence if ('http://' not in item and 'https://' not in item)] for sentence in post_split_split]\n",
    "    \n",
    "    # returns a list of posts if they are not empty after removing the links\n",
    "    return [' '.join(sentence) for sentence in return_list if sentence]"
   ]
  },
  {
   "cell_type": "code",
   "execution_count": 79,
   "metadata": {},
   "outputs": [],
   "source": [
    "def combine_text(post_split_split):\n",
    "    #takes in a list of sentences where each sentence is a list of its words\n",
    "    #and returns the one string where each word is seperated by a space and each sentence separated by |||\n",
    "    return '|||'.join([' '.join(sentence) for sentence in post_split_split])"
   ]
  },
  {
   "cell_type": "code",
   "execution_count": 80,
   "metadata": {},
   "outputs": [],
   "source": [
    "def preprocess(post_split, get_youtube=False, add_description=False):\n",
    "    #replace youtube links with youtube title\n",
    "    #return list of 50 posts\n",
    "    if get_youtube:\n",
    "        post_split = replace_youtube(post_split, add_description)\n",
    "    \n",
    "    #removes any 'words' that have http:// or https:// in them\n",
    "    #returns a list of posts if they are not empty after removing the links\n",
    "    #return list of <= 50 posts\n",
    "    post_split = remove_links(post_split)\n",
    "    \n",
    "    remove_punc = string.punctuation + '►•'\n",
    "    #remove punc and lower\n",
    "    for punctuation in remove_punc:\n",
    "        for i, item in enumerate(post_split):\n",
    "            post_split[i] = item.replace(punctuation, '').lower()\n",
    "            \n",
    "    #remove soft hyphens       \n",
    "    for i, item in enumerate(post_split):\n",
    "        post_split[i] = item.replace('\\xad', '').lower()\n",
    "        \n",
    "    #remove numbers\n",
    "    for i, item in enumerate(post_split):\n",
    "        post_split[i] = ''.join(word for word in item if not word.isdigit())\n",
    "    \n",
    "    #remove stop words\n",
    "    stop_words = set(stopwords.words('english'))\n",
    "    word_tokens = [word_tokenize(item) for item in post_split]\n",
    "    post_split = [[word for word in sentence if word not in stop_words] for sentence in word_tokens]\n",
    "    \n",
    "    #lemmatize if not empty sentence\n",
    "    lemmatizer = WordNetLemmatizer()\n",
    "    post_split_split = [[lemmatizer.lemmatize(word) for word in sentence] for sentence in post_split if sentence]\n",
    "    \n",
    "    #combine text into one string where each word is seperated by a space and each sentence separated by |||\n",
    "    return combine_text(post_split_split)"
   ]
  },
  {
   "cell_type": "code",
   "execution_count": 84,
   "metadata": {},
   "outputs": [
    {
     "data": {
      "text/plain": [
       "'enfp intj moment sportscenter top ten play prank|||lifechanging experience life|||repeat today|||may perc experience immerse|||last thing infj friend posted facebook committing suicide next day rest peace|||hello enfj sorry hear distress natural relationship perfection time every moment existence try figure hard time time growth|||welcome stuff|||game set match|||prozac wellbrutin least thirty minute moving leg dont mean moving sitting desk chair weed moderation maybe try edible healthier alternative|||basically come three item youve determined type whichever type want would likely use given type cognitive function whatnot left|||thing moderation sims indeed video game good one note good one somewhat subjective completely promoting death given sim|||dear enfp favorite video game growing current favorite video game cool|||appears late sad|||there someone everyone|||wait thought confidence good thing|||cherish time solitude bc revel within inner world whereas time id workin enjoy time dont worry people always around|||yo entp lady youre complimentary personalitywell hey|||main social outlet xbox live conversation even verbally fatigue quickly|||really dig part|||banned thread requires|||get high backyard roast eat marshmellows backyard conversing something intellectual followed massage kiss|||banned many b sentence could think b|||banned watching movie corner dunce|||banned health class clearly taught nothing peer pressure|||banned whole host reason|||two baby deer left right munching beetle middle using blood two caveman diary today latest happening designated cave diary wall see|||pokemon world infj society everyone becomes optimist|||artist artist draw idea count forming something like signature|||welcome robot rank person downed selfesteem cuz im avid signature artist like proud|||banned taking room bed ya got ta learn share roach|||banned much thundering grumbling kind storm yep|||ahh old high school music havent heard age|||failed public speaking class year ago ive sort learned could better position big part failure overloading|||like person mentality he confirmed intj way|||move denver area start new life'"
      ]
     },
     "execution_count": 84,
     "metadata": {},
     "output_type": "execute_result"
    }
   ],
   "source": [
    "preprocess(data.posts.iloc[0].split('|||'))"
   ]
  },
  {
   "cell_type": "code",
   "execution_count": 85,
   "metadata": {},
   "outputs": [],
   "source": [
    "data['posts_split'] = data.posts.apply(split_post)"
   ]
  },
  {
   "cell_type": "code",
   "execution_count": 88,
   "metadata": {},
   "outputs": [],
   "source": [
    "data['linkfree_combined'] = data.posts_split.apply(preprocess)"
   ]
  },
  {
   "cell_type": "code",
   "execution_count": 90,
   "metadata": {},
   "outputs": [
    {
     "data": {
      "text/html": [
       "<div>\n",
       "<style scoped>\n",
       "    .dataframe tbody tr th:only-of-type {\n",
       "        vertical-align: middle;\n",
       "    }\n",
       "\n",
       "    .dataframe tbody tr th {\n",
       "        vertical-align: top;\n",
       "    }\n",
       "\n",
       "    .dataframe thead th {\n",
       "        text-align: right;\n",
       "    }\n",
       "</style>\n",
       "<table border=\"1\" class=\"dataframe\">\n",
       "  <thead>\n",
       "    <tr style=\"text-align: right;\">\n",
       "      <th></th>\n",
       "      <th>type</th>\n",
       "      <th>posts</th>\n",
       "      <th>posts_split</th>\n",
       "      <th>linkfree_combined</th>\n",
       "    </tr>\n",
       "  </thead>\n",
       "  <tbody>\n",
       "    <tr>\n",
       "      <th>0</th>\n",
       "      <td>INFJ</td>\n",
       "      <td>'http://www.youtube.com/watch?v=qsXHcwe3krw|||...</td>\n",
       "      <td>['http://www.youtube.com/watch?v=qsXHcwe3krw, ...</td>\n",
       "      <td>enfp intj moment sportscenter top ten play pra...</td>\n",
       "    </tr>\n",
       "    <tr>\n",
       "      <th>1</th>\n",
       "      <td>ENTP</td>\n",
       "      <td>'I'm finding the lack of me in these posts ver...</td>\n",
       "      <td>['I'm finding the lack of me in these posts ve...</td>\n",
       "      <td>im finding lack post alarming|||sex boring pos...</td>\n",
       "    </tr>\n",
       "    <tr>\n",
       "      <th>2</th>\n",
       "      <td>INTP</td>\n",
       "      <td>'Good one  _____   https://www.youtube.com/wat...</td>\n",
       "      <td>['Good one  _____   https://www.youtube.com/wa...</td>\n",
       "      <td>good one|||course say know thats blessing curs...</td>\n",
       "    </tr>\n",
       "    <tr>\n",
       "      <th>3</th>\n",
       "      <td>INTJ</td>\n",
       "      <td>'Dear INTP,   I enjoyed our conversation the o...</td>\n",
       "      <td>['Dear INTP,   I enjoyed our conversation the ...</td>\n",
       "      <td>dear intp enjoyed conversation day esoteric ga...</td>\n",
       "    </tr>\n",
       "    <tr>\n",
       "      <th>4</th>\n",
       "      <td>ENTJ</td>\n",
       "      <td>'You're fired.|||That's another silly misconce...</td>\n",
       "      <td>['You're fired., That's another silly misconce...</td>\n",
       "      <td>youre fired|||thats another silly misconceptio...</td>\n",
       "    </tr>\n",
       "  </tbody>\n",
       "</table>\n",
       "</div>"
      ],
      "text/plain": [
       "   type                                              posts  \\\n",
       "0  INFJ  'http://www.youtube.com/watch?v=qsXHcwe3krw|||...   \n",
       "1  ENTP  'I'm finding the lack of me in these posts ver...   \n",
       "2  INTP  'Good one  _____   https://www.youtube.com/wat...   \n",
       "3  INTJ  'Dear INTP,   I enjoyed our conversation the o...   \n",
       "4  ENTJ  'You're fired.|||That's another silly misconce...   \n",
       "\n",
       "                                         posts_split  \\\n",
       "0  ['http://www.youtube.com/watch?v=qsXHcwe3krw, ...   \n",
       "1  ['I'm finding the lack of me in these posts ve...   \n",
       "2  ['Good one  _____   https://www.youtube.com/wa...   \n",
       "3  ['Dear INTP,   I enjoyed our conversation the ...   \n",
       "4  ['You're fired., That's another silly misconce...   \n",
       "\n",
       "                                   linkfree_combined  \n",
       "0  enfp intj moment sportscenter top ten play pra...  \n",
       "1  im finding lack post alarming|||sex boring pos...  \n",
       "2  good one|||course say know thats blessing curs...  \n",
       "3  dear intp enjoyed conversation day esoteric ga...  \n",
       "4  youre fired|||thats another silly misconceptio...  "
      ]
     },
     "execution_count": 90,
     "metadata": {},
     "output_type": "execute_result"
    }
   ],
   "source": [
    "data.head()"
   ]
  },
  {
   "cell_type": "code",
   "execution_count": 91,
   "metadata": {},
   "outputs": [],
   "source": [
    "df = data[['type', 'linkfree_combined']]"
   ]
  },
  {
   "cell_type": "code",
   "execution_count": 92,
   "metadata": {},
   "outputs": [
    {
     "data": {
      "text/html": [
       "<div>\n",
       "<style scoped>\n",
       "    .dataframe tbody tr th:only-of-type {\n",
       "        vertical-align: middle;\n",
       "    }\n",
       "\n",
       "    .dataframe tbody tr th {\n",
       "        vertical-align: top;\n",
       "    }\n",
       "\n",
       "    .dataframe thead th {\n",
       "        text-align: right;\n",
       "    }\n",
       "</style>\n",
       "<table border=\"1\" class=\"dataframe\">\n",
       "  <thead>\n",
       "    <tr style=\"text-align: right;\">\n",
       "      <th></th>\n",
       "      <th>type</th>\n",
       "      <th>linkfree_combined</th>\n",
       "    </tr>\n",
       "  </thead>\n",
       "  <tbody>\n",
       "    <tr>\n",
       "      <th>0</th>\n",
       "      <td>INFJ</td>\n",
       "      <td>enfp intj moment sportscenter top ten play pra...</td>\n",
       "    </tr>\n",
       "    <tr>\n",
       "      <th>1</th>\n",
       "      <td>ENTP</td>\n",
       "      <td>im finding lack post alarming|||sex boring pos...</td>\n",
       "    </tr>\n",
       "    <tr>\n",
       "      <th>2</th>\n",
       "      <td>INTP</td>\n",
       "      <td>good one|||course say know thats blessing curs...</td>\n",
       "    </tr>\n",
       "    <tr>\n",
       "      <th>3</th>\n",
       "      <td>INTJ</td>\n",
       "      <td>dear intp enjoyed conversation day esoteric ga...</td>\n",
       "    </tr>\n",
       "    <tr>\n",
       "      <th>4</th>\n",
       "      <td>ENTJ</td>\n",
       "      <td>youre fired|||thats another silly misconceptio...</td>\n",
       "    </tr>\n",
       "  </tbody>\n",
       "</table>\n",
       "</div>"
      ],
      "text/plain": [
       "   type                                  linkfree_combined\n",
       "0  INFJ  enfp intj moment sportscenter top ten play pra...\n",
       "1  ENTP  im finding lack post alarming|||sex boring pos...\n",
       "2  INTP  good one|||course say know thats blessing curs...\n",
       "3  INTJ  dear intp enjoyed conversation day esoteric ga...\n",
       "4  ENTJ  youre fired|||thats another silly misconceptio..."
      ]
     },
     "execution_count": 92,
     "metadata": {},
     "output_type": "execute_result"
    }
   ],
   "source": [
    "df.head()"
   ]
  },
  {
   "cell_type": "code",
   "execution_count": 95,
   "metadata": {},
   "outputs": [
    {
     "name": "stdout",
     "output_type": "stream",
     "text": [
      "<class 'pandas.core.frame.DataFrame'>\n",
      "RangeIndex: 8675 entries, 0 to 8674\n",
      "Data columns (total 2 columns):\n",
      " #   Column             Non-Null Count  Dtype \n",
      "---  ------             --------------  ----- \n",
      " 0   type               8675 non-null   object\n",
      " 1   linkfree_combined  8675 non-null   object\n",
      "dtypes: object(2)\n",
      "memory usage: 135.7+ KB\n"
     ]
    }
   ],
   "source": [
    "df.info()"
   ]
  },
  {
   "cell_type": "code",
   "execution_count": 96,
   "metadata": {},
   "outputs": [],
   "source": [
    "df.to_csv('../data/linkfree_combined.csv', index=False)"
   ]
  }
 ],
 "metadata": {
  "kernelspec": {
   "display_name": "Python 3",
   "language": "python",
   "name": "python3"
  },
  "language_info": {
   "codemirror_mode": {
    "name": "ipython",
    "version": 3
   },
   "file_extension": ".py",
   "mimetype": "text/x-python",
   "name": "python",
   "nbconvert_exporter": "python",
   "pygments_lexer": "ipython3",
   "version": "3.7.7"
  }
 },
 "nbformat": 4,
 "nbformat_minor": 4
}
