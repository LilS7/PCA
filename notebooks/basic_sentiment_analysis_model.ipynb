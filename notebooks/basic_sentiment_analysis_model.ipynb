{
 "cells": [
  {
   "cell_type": "code",
   "execution_count": 47,
   "metadata": {},
   "outputs": [],
   "source": [
    "from textblob import TextBlob\n",
    "import pandas as pd\n",
    "import pandas as pd\n",
    "\n",
    "# Matplot\n",
    "import matplotlib.pyplot as plt\n",
    "%matplotlib inline\n",
    "\n",
    "# Scikit-learn\n",
    "from sklearn.model_selection import train_test_split\n",
    "from sklearn.preprocessing import LabelEncoder\n",
    "from sklearn.metrics import confusion_matrix, classification_report, accuracy_score\n",
    "from sklearn.manifold import TSNE\n",
    "from sklearn.feature_extraction.text import TfidfVectorizer\n",
    "\n",
    "\n",
    "\n",
    "# nltk\n",
    "import nltk\n",
    "from nltk.corpus import stopwords\n",
    "from  nltk.stem import SnowballStemmer\n",
    "\n",
    "# Word2vec\n",
    "import gensim\n",
    "\n",
    "# Utility\n",
    "import re\n",
    "import numpy as np\n",
    "import os\n",
    "from collections import Counter\n",
    "import logging\n",
    "import time\n",
    "import pickle\n",
    "import itertools\n"
   ]
  },
  {
   "cell_type": "markdown",
   "metadata": {},
   "source": [
    "# First try on TextBlob"
   ]
  },
  {
   "cell_type": "code",
   "execution_count": 61,
   "metadata": {},
   "outputs": [],
   "source": [
    "testimonial = TextBlob(\"Textblob is amazingly simple to use. What great fun!\")"
   ]
  },
  {
   "cell_type": "code",
   "execution_count": 62,
   "metadata": {},
   "outputs": [
    {
     "data": {
      "text/plain": [
       "[Sentence(\"Textblob is amazingly simple to use.\"), Sentence(\"What great fun!\")]"
      ]
     },
     "execution_count": 62,
     "metadata": {},
     "output_type": "execute_result"
    }
   ],
   "source": [
    "testimonial.sentences"
   ]
  },
  {
   "cell_type": "code",
   "execution_count": null,
   "metadata": {},
   "outputs": [],
   "source": []
  },
  {
   "cell_type": "code",
   "execution_count": 5,
   "metadata": {},
   "outputs": [],
   "source": [
    "df=pd.read_csv('../data/linkfree_combined.csv')"
   ]
  },
  {
   "cell_type": "code",
   "execution_count": 7,
   "metadata": {},
   "outputs": [
    {
     "data": {
      "text/plain": [
       "'enfp intj moment sportscenter top ten play prank|||lifechanging experience life|||repeat today|||may perc experience immerse|||last thing infj friend posted facebook committing suicide next day rest peace|||hello enfj sorry hear distress natural relationship perfection time every moment existence try figure hard time time growth|||welcome stuff|||game set match|||prozac wellbrutin least thirty minute moving leg dont mean moving sitting desk chair weed moderation maybe try edible healthier alternative|||basically come three item youve determined type whichever type want would likely use given type cognitive function whatnot left|||thing moderation sims indeed video game good one note good one somewhat subjective completely promoting death given sim|||dear enfp favorite video game growing current favorite video game cool|||appears late sad|||there someone everyone|||wait thought confidence good thing|||cherish time solitude bc revel within inner world whereas time id workin enjoy time dont worry people always around|||yo entp lady youre complimentary personalitywell hey|||main social outlet xbox live conversation even verbally fatigue quickly|||really dig part|||banned thread requires|||get high backyard roast eat marshmellows backyard conversing something intellectual followed massage kiss|||banned many b sentence could think b|||banned watching movie corner dunce|||banned health class clearly taught nothing peer pressure|||banned whole host reason|||two baby deer left right munching beetle middle using blood two caveman diary today latest happening designated cave diary wall see|||pokemon world infj society everyone becomes optimist|||artist artist draw idea count forming something like signature|||welcome robot rank person downed selfesteem cuz im avid signature artist like proud|||banned taking room bed ya got ta learn share roach|||banned much thundering grumbling kind storm yep|||ahh old high school music havent heard age|||failed public speaking class year ago ive sort learned could better position big part failure overloading|||like person mentality he confirmed intj way|||move denver area start new life'"
      ]
     },
     "execution_count": 7,
     "metadata": {},
     "output_type": "execute_result"
    }
   ],
   "source": [
    "df.linkfree_combined[0]"
   ]
  },
  {
   "cell_type": "code",
   "execution_count": 24,
   "metadata": {},
   "outputs": [],
   "source": [
    "def tokenize_for_countvec(post):\n",
    "    return post.replace('|||', ' ')"
   ]
  },
  {
   "cell_type": "code",
   "execution_count": 31,
   "metadata": {},
   "outputs": [],
   "source": [
    "X = df.linkfree_combined.apply(tokenize_for_countvec)"
   ]
  },
  {
   "cell_type": "code",
   "execution_count": 34,
   "metadata": {},
   "outputs": [],
   "source": [
    "blob=TextBlob(X[0])"
   ]
  },
  {
   "cell_type": "code",
   "execution_count": 35,
   "metadata": {},
   "outputs": [
    {
     "data": {
      "text/plain": [
       "Sentiment(polarity=0.11855453026505659, subjectivity=0.4953115743905216)"
      ]
     },
     "execution_count": 35,
     "metadata": {},
     "output_type": "execute_result"
    }
   ],
   "source": [
    "blob.sentences[0].sentiment"
   ]
  },
  {
   "cell_type": "markdown",
   "metadata": {},
   "source": [
    "# Sentiment analysis on tweeter text"
   ]
  },
  {
   "cell_type": "code",
   "execution_count": 16,
   "metadata": {},
   "outputs": [],
   "source": [
    "data=pd.read_csv('../large_data/training.1600000.processed.noemoticon.csv',header=None)\n",
    "\n",
    "data_sample1=data[:800000].sample(10000)\n",
    "\n",
    "data_sample2=data[800000:].sample(10000)\n",
    "\n",
    "data_sample=data_sample1.merge(data_sample2, how='outer')\n",
    "\n",
    "data_sample=data_sample.rename(columns={0: \"target\", 1: \"sentence\"})"
   ]
  },
  {
   "cell_type": "code",
   "execution_count": 60,
   "metadata": {},
   "outputs": [
    {
     "data": {
      "text/plain": [
       "Text(0.5, 1.0, 'Dataset labels distribuition')"
      ]
     },
     "execution_count": 60,
     "metadata": {},
     "output_type": "execute_result"
    },
    {
     "data": {
      "image/png": "[encoded data removed]",
      "text/plain": [
       "<Figure size 1152x576 with 1 Axes>"
      ]
     },
     "metadata": {
      "needs_background": "light"
     },
     "output_type": "display_data"
    }
   ],
   "source": [
    "target_cnt = Counter(data_sample.target)\n",
    "\n",
    "plt.figure(figsize=(16,8))\n",
    "plt.bar(target_cnt.keys(), target_cnt.values())\n",
    "plt.title(\"Dataset labels distribuition\")"
   ]
  },
  {
   "cell_type": "code",
   "execution_count": 95,
   "metadata": {},
   "outputs": [
    {
     "data": {
      "text/plain": [
       "\"@MeshaV I kinda my old gay buds that for whateva reason I don't chill wit no more. \""
      ]
     },
     "execution_count": 95,
     "metadata": {},
     "output_type": "execute_result"
    }
   ],
   "source": [
    "data_sample.sentence[0]"
   ]
  },
  {
   "cell_type": "code",
   "execution_count": 105,
   "metadata": {},
   "outputs": [],
   "source": [
    "blob1=TextBlob(data_sample.sentence[0])"
   ]
  },
  {
   "cell_type": "code",
   "execution_count": 106,
   "metadata": {},
   "outputs": [
    {
     "data": {
      "text/plain": [
       "Sentiment(polarity=0.0888888888888889, subjectivity=0.4277777777777778)"
      ]
     },
     "execution_count": 106,
     "metadata": {},
     "output_type": "execute_result"
    }
   ],
   "source": [
    "blob1.sentiment"
   ]
  },
  {
   "cell_type": "code",
   "execution_count": 118,
   "metadata": {},
   "outputs": [],
   "source": [
    "def change(num):\n",
    "    if num == 4:\n",
    "        return 1\n",
    "    return num"
   ]
  },
  {
   "cell_type": "code",
   "execution_count": 121,
   "metadata": {},
   "outputs": [],
   "source": [
    "X=data_sample.sentence\n",
    "y=data_sample.target.apply(change)"
   ]
  },
  {
   "cell_type": "code",
   "execution_count": 122,
   "metadata": {},
   "outputs": [],
   "source": [
    "from sklearn.model_selection import train_test_split\n",
    "\n",
    "X_train,X_test,y_train,y_test = train_test_split(X,y,test_size = 0.3, random_state = 1)"
   ]
  },
  {
   "cell_type": "code",
   "execution_count": 123,
   "metadata": {},
   "outputs": [],
   "source": [
    "from gensim.models import Word2Vec\n",
    "\n",
    "word2vec = Word2Vec(sentences=X_train)"
   ]
  },
  {
   "cell_type": "code",
   "execution_count": 124,
   "metadata": {},
   "outputs": [],
   "source": [
    "def embed_sentence(word2vec, sentence):\n",
    "    embedded_sentence = []\n",
    "    for word in sentence:\n",
    "        if word in word2vec.wv:\n",
    "            embedded_sentence.append(word2vec.wv[word])\n",
    "        \n",
    "    return np.array(embedded_sentence)"
   ]
  },
  {
   "cell_type": "code",
   "execution_count": 125,
   "metadata": {},
   "outputs": [],
   "source": [
    "def embedding(word2vec, sentences):\n",
    "    embed = []\n",
    "    \n",
    "    for sentence in sentences:\n",
    "        embedded_sentence = embed_sentence(word2vec, sentence)\n",
    "        embed.append(embedded_sentence)\n",
    "        \n",
    "    return embed\n",
    "\n",
    "\n",
    "X_train = embedding(word2vec, X_train)\n",
    "X_test = embedding(word2vec, X_test)"
   ]
  },
  {
   "cell_type": "code",
   "execution_count": 126,
   "metadata": {},
   "outputs": [],
   "source": [
    "from tensorflow.keras.preprocessing.sequence import pad_sequences\n",
    "\n",
    "X_train_pad = pad_sequences(X_train, dtype='float32', padding='post', value=-1000)\n",
    "X_test_pad = pad_sequences(X_test, dtype='float32', padding='post', value=-1000)"
   ]
  },
  {
   "cell_type": "code",
   "execution_count": 127,
   "metadata": {},
   "outputs": [
    {
     "data": {
      "text/plain": [
       "0.5006666666666667"
      ]
     },
     "execution_count": 127,
     "metadata": {},
     "output_type": "execute_result"
    }
   ],
   "source": [
    "from sklearn.dummy import DummyClassifier\n",
    "from sklearn.metrics import accuracy_score\n",
    "dumb=DummyClassifier()\n",
    "dumb.fit(X_train_pad,y_train)\n",
    "y_pred=dumb.predict(X_test)\n",
    "accuracy_score(y_pred,y_test)"
   ]
  },
  {
   "cell_type": "code",
   "execution_count": 133,
   "metadata": {},
   "outputs": [],
   "source": [
    "from tensorflow.keras import Sequential, layers\n",
    "from tensorflow.keras.callbacks import EarlyStopping\n",
    "def init_model(units=20):\n",
    "    ### YOUR CODE HERE\n",
    "    model_LSTM = Sequential()\n",
    "    model_LSTM.add(layers.Masking(mask_value=-1000))\n",
    "    model_LSTM.add(layers.LSTM(units=units, activation='tanh'))\n",
    "    model_LSTM.add(layers.Dense(10, activation='relu'))\n",
    "    model_LSTM.add(layers.Dense(1, activation='sigmoid'))\n",
    "    model_LSTM.compile(loss='binary_crossentropy', optimizer='rmsprop', metrics=['accuracy'])\n",
    "    return model_LSTM"
   ]
  },
  {
   "cell_type": "code",
   "execution_count": 136,
   "metadata": {},
   "outputs": [
    {
     "name": "stdout",
     "output_type": "stream",
     "text": [
      "Epoch 1/75\n",
      "350/350 [==============================] - 48s 137ms/step - loss: 0.6905 - accuracy: 0.5234 - val_loss: 0.6818 - val_accuracy: 0.5511\n",
      "Epoch 2/75\n",
      "350/350 [==============================] - 42s 121ms/step - loss: 0.6790 - accuracy: 0.5640 - val_loss: 0.6833 - val_accuracy: 0.5704\n",
      "Epoch 3/75\n",
      "350/350 [==============================] - 54s 154ms/step - loss: 0.6662 - accuracy: 0.5965 - val_loss: 0.6644 - val_accuracy: 0.6068\n",
      "Epoch 4/75\n",
      "350/350 [==============================] - 55s 158ms/step - loss: 0.6564 - accuracy: 0.6121 - val_loss: 0.6678 - val_accuracy: 0.6032\n",
      "Epoch 5/75\n",
      "350/350 [==============================] - 43s 122ms/step - loss: 0.6505 - accuracy: 0.6220 - val_loss: 0.6568 - val_accuracy: 0.6214\n",
      "Epoch 6/75\n",
      "350/350 [==============================] - 42s 121ms/step - loss: 0.6445 - accuracy: 0.6291 - val_loss: 0.6526 - val_accuracy: 0.6250\n",
      "Epoch 7/75\n",
      "350/350 [==============================] - 44s 126ms/step - loss: 0.6407 - accuracy: 0.6334 - val_loss: 0.6540 - val_accuracy: 0.6161\n",
      "Epoch 8/75\n",
      "350/350 [==============================] - 43s 124ms/step - loss: 0.6331 - accuracy: 0.6450 - val_loss: 0.6557 - val_accuracy: 0.6175\n",
      "Epoch 9/75\n",
      "350/350 [==============================] - 43s 123ms/step - loss: 0.6252 - accuracy: 0.6486 - val_loss: 0.6552 - val_accuracy: 0.6193\n",
      "Epoch 10/75\n",
      "350/350 [==============================] - 43s 123ms/step - loss: 0.6211 - accuracy: 0.6532 - val_loss: 0.6692 - val_accuracy: 0.6193\n",
      "Epoch 11/75\n",
      "350/350 [==============================] - 43s 122ms/step - loss: 0.6124 - accuracy: 0.6602 - val_loss: 0.6597 - val_accuracy: 0.6218\n"
     ]
    },
    {
     "data": {
      "text/plain": [
       "<tensorflow.python.keras.callbacks.History at 0x118429110>"
      ]
     },
     "execution_count": 136,
     "metadata": {},
     "output_type": "execute_result"
    }
   ],
   "source": [
    "model_LSTM =init_model(100)\n",
    "es = EarlyStopping(patience=5, restore_best_weights=True)\n",
    "model_LSTM.fit(X_train_pad, y_train, \n",
    "              epochs=75, \n",
    "              batch_size=32, \n",
    "              verbose=1, \n",
    "              callbacks = [es],\n",
    "              validation_split=0.2)"
   ]
  },
  {
   "cell_type": "code",
   "execution_count": 137,
   "metadata": {},
   "outputs": [
    {
     "name": "stdout",
     "output_type": "stream",
     "text": [
      "188/188 [==============================] - 8s 43ms/step - loss: 0.6427 - accuracy: 0.6280\n"
     ]
    },
    {
     "data": {
      "text/plain": [
       "[0.6427074670791626, 0.628000020980835]"
      ]
     },
     "execution_count": 137,
     "metadata": {},
     "output_type": "execute_result"
    }
   ],
   "source": [
    "model_LSTM.evaluate(X_test_pad,y_test)"
   ]
  },
  {
   "cell_type": "code",
   "execution_count": 138,
   "metadata": {},
   "outputs": [
    {
     "name": "stdout",
     "output_type": "stream",
     "text": [
      "Epoch 1/75\n",
      "350/350 [==============================] - 30s 85ms/step - loss: 0.6853 - accuracy: 0.5461 - val_loss: 0.6758 - val_accuracy: 0.5757\n",
      "Epoch 2/75\n",
      "350/350 [==============================] - 27s 76ms/step - loss: 0.6735 - accuracy: 0.5850 - val_loss: 0.6882 - val_accuracy: 0.5354\n",
      "Epoch 3/75\n",
      "350/350 [==============================] - 27s 78ms/step - loss: 0.6709 - accuracy: 0.5873 - val_loss: 0.6781 - val_accuracy: 0.5561\n",
      "Epoch 4/75\n",
      "350/350 [==============================] - 27s 77ms/step - loss: 0.6631 - accuracy: 0.6013 - val_loss: 0.6639 - val_accuracy: 0.5993\n",
      "Epoch 5/75\n",
      "350/350 [==============================] - 27s 77ms/step - loss: 0.6554 - accuracy: 0.6140 - val_loss: 0.6601 - val_accuracy: 0.6114\n",
      "Epoch 6/75\n",
      "350/350 [==============================] - 29s 83ms/step - loss: 0.6497 - accuracy: 0.6202 - val_loss: 0.6575 - val_accuracy: 0.6096\n",
      "Epoch 7/75\n",
      "350/350 [==============================] - 26s 75ms/step - loss: 0.6470 - accuracy: 0.6257 - val_loss: 0.6613 - val_accuracy: 0.6150\n",
      "Epoch 8/75\n",
      "350/350 [==============================] - 26s 75ms/step - loss: 0.6419 - accuracy: 0.6303 - val_loss: 0.6561 - val_accuracy: 0.6182\n",
      "Epoch 9/75\n",
      "350/350 [==============================] - 26s 74ms/step - loss: 0.6403 - accuracy: 0.6313 - val_loss: 0.6588 - val_accuracy: 0.6096\n",
      "Epoch 10/75\n",
      "350/350 [==============================] - 26s 74ms/step - loss: 0.6362 - accuracy: 0.6409 - val_loss: 0.6576 - val_accuracy: 0.6200\n",
      "Epoch 11/75\n",
      "350/350 [==============================] - 26s 74ms/step - loss: 0.6314 - accuracy: 0.6415 - val_loss: 0.6467 - val_accuracy: 0.6168\n",
      "Epoch 12/75\n",
      "350/350 [==============================] - 26s 75ms/step - loss: 0.6270 - accuracy: 0.6471 - val_loss: 0.6483 - val_accuracy: 0.6307\n",
      "Epoch 13/75\n",
      "350/350 [==============================] - 26s 74ms/step - loss: 0.6232 - accuracy: 0.6449 - val_loss: 0.6504 - val_accuracy: 0.6307\n",
      "Epoch 14/75\n",
      "350/350 [==============================] - 26s 74ms/step - loss: 0.6167 - accuracy: 0.6600 - val_loss: 0.6458 - val_accuracy: 0.6261\n",
      "Epoch 15/75\n",
      "350/350 [==============================] - 26s 74ms/step - loss: 0.6116 - accuracy: 0.6628 - val_loss: 0.6642 - val_accuracy: 0.6257\n",
      "Epoch 16/75\n",
      "350/350 [==============================] - 26s 74ms/step - loss: 0.6097 - accuracy: 0.6624 - val_loss: 0.6469 - val_accuracy: 0.6286\n",
      "Epoch 17/75\n",
      "350/350 [==============================] - 26s 74ms/step - loss: 0.6051 - accuracy: 0.6680 - val_loss: 0.6479 - val_accuracy: 0.6175\n",
      "Epoch 18/75\n",
      "350/350 [==============================] - 26s 74ms/step - loss: 0.5996 - accuracy: 0.6689 - val_loss: 0.6731 - val_accuracy: 0.6232\n",
      "Epoch 19/75\n",
      "350/350 [==============================] - 27s 76ms/step - loss: 0.5921 - accuracy: 0.6811 - val_loss: 0.6531 - val_accuracy: 0.6200\n"
     ]
    },
    {
     "data": {
      "text/plain": [
       "<tensorflow.python.keras.callbacks.History at 0x12a873910>"
      ]
     },
     "execution_count": 138,
     "metadata": {},
     "output_type": "execute_result"
    }
   ],
   "source": [
    "def init_model2(units=30):\n",
    "    ### YOUR CODE HERE\n",
    "    model_LSTM = Sequential()\n",
    "    model_LSTM.add(layers.Masking(mask_value=-1000))\n",
    "    model_LSTM.add(layers.LSTM(units=units, activation='tanh'))\n",
    "    model_LSTM.add(layers.Dense(20, activation='relu'))\n",
    "    model_LSTM.add(layers.Dense(10, activation='relu'))\n",
    "    model_LSTM.add(layers.Dense(1, activation='sigmoid'))\n",
    "    model_LSTM.compile(loss='binary_crossentropy', optimizer='rmsprop', metrics=['accuracy'])\n",
    "    return model_LSTM\n",
    "model_LSTM2 =init_model2()\n",
    "es = EarlyStopping(patience=5, restore_best_weights=True)\n",
    "model_LSTM2.fit(X_train_pad, y_train, \n",
    "              epochs=75, \n",
    "              batch_size=32, \n",
    "              verbose=1, \n",
    "              callbacks = [es],\n",
    "              validation_split=0.2)"
   ]
  },
  {
   "cell_type": "code",
   "execution_count": null,
   "metadata": {},
   "outputs": [],
   "source": []
  }
 ],
 "metadata": {
  "kernelspec": {
   "display_name": "Python 3",
   "language": "python",
   "name": "python3"
  },
  "language_info": {
   "codemirror_mode": {
    "name": "ipython",
    "version": 3
   },
   "file_extension": ".py",
   "mimetype": "text/x-python",
   "name": "python",
   "nbconvert_exporter": "python",
   "pygments_lexer": "ipython3",
   "version": "3.7.7"
  }
 },
 "nbformat": 4,
 "nbformat_minor": 4
}
