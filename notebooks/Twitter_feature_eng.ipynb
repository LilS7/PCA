{
 "cells": [
  {
   "cell_type": "markdown",
   "metadata": {},
   "source": [
    "# Tweets Data Clean"
   ]
  },
  {
   "cell_type": "code",
   "execution_count": 40,
   "metadata": {},
   "outputs": [],
   "source": [
    "import pandas as pd"
   ]
  },
  {
   "cell_type": "code",
   "execution_count": 41,
   "metadata": {},
   "outputs": [],
   "source": [
    "tweet = pd.read_csv('../data/twitter_match_mbti.csv')"
   ]
  },
  {
   "cell_type": "code",
   "execution_count": 42,
   "metadata": {},
   "outputs": [],
   "source": [
    "tweet.drop(columns = 'Unnamed: 0',inplace = True)"
   ]
  },
  {
   "cell_type": "code",
   "execution_count": 43,
   "metadata": {},
   "outputs": [],
   "source": [
    "tweet.rename(columns = {'Unnamed: 0.1':'name'},inplace = True)"
   ]
  },
  {
   "cell_type": "code",
   "execution_count": 44,
   "metadata": {},
   "outputs": [],
   "source": [
    "cols = tweet.columns.tolist()\n",
    "cols = cols[-1:] + cols[:-1]"
   ]
  },
  {
   "cell_type": "code",
   "execution_count": 45,
   "metadata": {},
   "outputs": [],
   "source": [
    "tweet = tweet[cols]"
   ]
  },
  {
   "cell_type": "code",
   "execution_count": 46,
   "metadata": {},
   "outputs": [],
   "source": [
    "tweet['posts'] = tweet.iloc[:,2:].fillna('%^&').apply(' ||| '.join, axis =1)"
   ]
  },
  {
   "cell_type": "code",
   "execution_count": 47,
   "metadata": {},
   "outputs": [],
   "source": [
    "# x=tweet['posts'][0]\n",
    "# x.replace('||| %^&','')"
   ]
  },
  {
   "cell_type": "code",
   "execution_count": 48,
   "metadata": {},
   "outputs": [],
   "source": [
    "tweet.posts = tweet.posts.apply(lambda x: x.replace('||| %^&',''))"
   ]
  },
  {
   "cell_type": "code",
   "execution_count": 129,
   "metadata": {},
   "outputs": [
    {
     "data": {
      "text/plain": [
       "\"RT @TMobile: We're throwing the ultimate New Year's Eve celebration with @JustinBieber 🙌\\nGet your #BieberNYE livestream access today! ||| See you on New Year’s Eve. #BieberNYE on sale globally now. Free for @tmobile customers in the US. Buy access at https://t.co/G6hpTIPnbO https://t.co/cWa4kajLF0 ||| Doing a little something with @tmobile on 12.31.20 https://t.co/r5iaCnY2rW #BieberNYE https://t.co/5pSRmD2rLF ||| That time of year... \\nhttps://t.co/uMJKBWwLbc https://t.co/suIB5DEFZY           \""
      ]
     },
     "execution_count": 129,
     "metadata": {},
     "output_type": "execute_result"
    }
   ],
   "source": [
    "tweet['posts'][1]"
   ]
  },
  {
   "cell_type": "markdown",
   "metadata": {},
   "source": [
    "### remove emoji"
   ]
  },
  {
   "cell_type": "code",
   "execution_count": 127,
   "metadata": {},
   "outputs": [
    {
     "name": "stdout",
     "output_type": "stream",
     "text": [
      "This is a smiley face 😂\n"
     ]
    }
   ],
   "source": [
    "import re\n",
    "\n",
    "text = u'This is a smiley face \\U0001f602'\n",
    "print(text) # with emoji\n",
    "\n",
    "def deEmojify(text):\n",
    "    regrex_pattern = re.compile(pattern = \"[\"\n",
    "        u\"\\U0001F600-\\U0001F64F\"  # emoticons\n",
    "        u\"\\U0001F300-\\U0001F5FF\"  # symbols & pictographs\n",
    "        u\"\\U0001F680-\\U0001F6FF\"  # transport & map symbols\n",
    "        u\"\\U0001F1E0-\\U0001F1FF\"  # flags (iOS)\n",
    "                           \"]+\", flags = re.UNICODE)\n",
    "    return regrex_pattern.sub(r'',text)\n"
   ]
  },
  {
   "cell_type": "code",
   "execution_count": 137,
   "metadata": {},
   "outputs": [],
   "source": [
    "tweet['deEmojify'] = tweet['posts'].apply(deEmojify)"
   ]
  },
  {
   "cell_type": "markdown",
   "metadata": {},
   "source": [
    "# Feature Engineering"
   ]
  },
  {
   "cell_type": "code",
   "execution_count": 52,
   "metadata": {},
   "outputs": [],
   "source": [
    "def posts_split(posts):\n",
    "    # split the posts column into 50 separate posts in a list\n",
    "    posts_split = posts.split('|||')\n",
    "    # split each of the 50 posts into a list of its words/URL links\n",
    "    # so we have a list of 50 posts and each post is a list of the words/URL links\n",
    "                \n",
    "    return posts_split"
   ]
  },
  {
   "cell_type": "code",
   "execution_count": 53,
   "metadata": {},
   "outputs": [],
   "source": [
    "tweet['posts_split'] = tweet['posts'].apply(posts_split)"
   ]
  },
  {
   "cell_type": "code",
   "execution_count": 138,
   "metadata": {},
   "outputs": [],
   "source": [
    "tweet['deEmojify'] = tweet['deEmojify'].apply(posts_split)"
   ]
  },
  {
   "cell_type": "code",
   "execution_count": 140,
   "metadata": {},
   "outputs": [],
   "source": [
    "tweet_clean = tweet.drop(columns = cols[2:17])"
   ]
  },
  {
   "cell_type": "code",
   "execution_count": 87,
   "metadata": {},
   "outputs": [],
   "source": [
    "def remove_links(post_split):\n",
    "    # split each post into a list of individual words\n",
    "    post_split_split = [x.split(' ') for x in post_split]\n",
    "    \n",
    "    # removes any 'words' that have http:// or https:// in them\n",
    "    return_list = [[item for item in sentence if ('http://' not in item and 'https://' not in item)] for sentence in post_split_split]\n",
    "    \n",
    "    # returns a list of posts if they are not empty after removing the links\n",
    "    return [' '.join(sentence) for sentence in return_list if sentence]"
   ]
  },
  {
   "cell_type": "code",
   "execution_count": 143,
   "metadata": {},
   "outputs": [],
   "source": [
    "tweet_clean['link_free'] = tweet_clean['deEmojify'].apply(remove_links)"
   ]
  },
  {
   "cell_type": "markdown",
   "metadata": {},
   "source": [
    "## 1. Readability"
   ]
  },
  {
   "cell_type": "code",
   "execution_count": 145,
   "metadata": {},
   "outputs": [],
   "source": [
    "import syllables\n",
    "def sentence_count(post):\n",
    "    return len(post)\n",
    "\n",
    "def word_count(post):\n",
    "    count = 0\n",
    "    for sentence in post:\n",
    "        count += len(sentence.split())\n",
    "    return count\n",
    "\n",
    "def syll_count(X):\n",
    "    count_syll = 0\n",
    "    syll_count_ls = []\n",
    "    for sentence in X:\n",
    "        sentence = sentence.split()\n",
    "        for word in sentence:\n",
    "            count_syll +=  syllables.estimate(word)\n",
    "        syll_count_ls.append(count_syll)\n",
    "    return count_syll"
   ]
  },
  {
   "cell_type": "code",
   "execution_count": 146,
   "metadata": {},
   "outputs": [],
   "source": [
    "tweet_clean['sentence_count'] = tweet_clean['link_free'].apply(sentence_count)"
   ]
  },
  {
   "cell_type": "code",
   "execution_count": 147,
   "metadata": {},
   "outputs": [],
   "source": [
    "tweet_clean['syll_count'] = tweet_clean['link_free'].apply(syll_count)"
   ]
  },
  {
   "cell_type": "code",
   "execution_count": 148,
   "metadata": {},
   "outputs": [],
   "source": [
    "tweet_clean['word_count'] = tweet_clean['link_free'].apply(word_count)"
   ]
  },
  {
   "cell_type": "code",
   "execution_count": 176,
   "metadata": {},
   "outputs": [],
   "source": [
    "tweet_clean.rename(columns = {'link_free':'link_free_without_emoji'},inplace = True)"
   ]
  },
  {
   "cell_type": "code",
   "execution_count": 119,
   "metadata": {},
   "outputs": [
    {
     "data": {
      "text/html": [
       "<div>\n",
       "<style scoped>\n",
       "    .dataframe tbody tr th:only-of-type {\n",
       "        vertical-align: middle;\n",
       "    }\n",
       "\n",
       "    .dataframe tbody tr th {\n",
       "        vertical-align: top;\n",
       "    }\n",
       "\n",
       "    .dataframe thead th {\n",
       "        text-align: right;\n",
       "    }\n",
       "</style>\n",
       "<table border=\"1\" class=\"dataframe\">\n",
       "  <thead>\n",
       "    <tr style=\"text-align: right;\">\n",
       "      <th></th>\n",
       "      <th>sentence_count</th>\n",
       "      <th>word_count</th>\n",
       "      <th>syll_count</th>\n",
       "    </tr>\n",
       "    <tr>\n",
       "      <th>MBTI</th>\n",
       "      <th></th>\n",
       "      <th></th>\n",
       "      <th></th>\n",
       "    </tr>\n",
       "  </thead>\n",
       "  <tbody>\n",
       "    <tr>\n",
       "      <th>ENFJ</th>\n",
       "      <td>218</td>\n",
       "      <td>4386</td>\n",
       "      <td>7278</td>\n",
       "    </tr>\n",
       "    <tr>\n",
       "      <th>ENFP</th>\n",
       "      <td>409</td>\n",
       "      <td>5803</td>\n",
       "      <td>9478</td>\n",
       "    </tr>\n",
       "    <tr>\n",
       "      <th>ENTJ</th>\n",
       "      <td>118</td>\n",
       "      <td>1756</td>\n",
       "      <td>2718</td>\n",
       "    </tr>\n",
       "    <tr>\n",
       "      <th>ENTP</th>\n",
       "      <td>379</td>\n",
       "      <td>6040</td>\n",
       "      <td>10035</td>\n",
       "    </tr>\n",
       "    <tr>\n",
       "      <th>ESFJ</th>\n",
       "      <td>445</td>\n",
       "      <td>9251</td>\n",
       "      <td>14882</td>\n",
       "    </tr>\n",
       "    <tr>\n",
       "      <th>ESFP</th>\n",
       "      <td>588</td>\n",
       "      <td>9109</td>\n",
       "      <td>15281</td>\n",
       "    </tr>\n",
       "    <tr>\n",
       "      <th>ESTJ</th>\n",
       "      <td>242</td>\n",
       "      <td>4823</td>\n",
       "      <td>7831</td>\n",
       "    </tr>\n",
       "    <tr>\n",
       "      <th>ESTP</th>\n",
       "      <td>242</td>\n",
       "      <td>3652</td>\n",
       "      <td>6155</td>\n",
       "    </tr>\n",
       "    <tr>\n",
       "      <th>INFJ</th>\n",
       "      <td>143</td>\n",
       "      <td>2946</td>\n",
       "      <td>4216</td>\n",
       "    </tr>\n",
       "    <tr>\n",
       "      <th>INFP</th>\n",
       "      <td>174</td>\n",
       "      <td>3300</td>\n",
       "      <td>5435</td>\n",
       "    </tr>\n",
       "    <tr>\n",
       "      <th>INTJ</th>\n",
       "      <td>150</td>\n",
       "      <td>3069</td>\n",
       "      <td>4909</td>\n",
       "    </tr>\n",
       "    <tr>\n",
       "      <th>INTP</th>\n",
       "      <td>164</td>\n",
       "      <td>2731</td>\n",
       "      <td>4748</td>\n",
       "    </tr>\n",
       "    <tr>\n",
       "      <th>ISFJ</th>\n",
       "      <td>274</td>\n",
       "      <td>4964</td>\n",
       "      <td>8968</td>\n",
       "    </tr>\n",
       "    <tr>\n",
       "      <th>ISFP</th>\n",
       "      <td>349</td>\n",
       "      <td>6061</td>\n",
       "      <td>9735</td>\n",
       "    </tr>\n",
       "    <tr>\n",
       "      <th>ISTJ</th>\n",
       "      <td>76</td>\n",
       "      <td>1924</td>\n",
       "      <td>2581</td>\n",
       "    </tr>\n",
       "    <tr>\n",
       "      <th>ISTP</th>\n",
       "      <td>265</td>\n",
       "      <td>4733</td>\n",
       "      <td>7464</td>\n",
       "    </tr>\n",
       "  </tbody>\n",
       "</table>\n",
       "</div>"
      ],
      "text/plain": [
       "      sentence_count  word_count  syll_count\n",
       "MBTI                                        \n",
       "ENFJ             218        4386        7278\n",
       "ENFP             409        5803        9478\n",
       "ENTJ             118        1756        2718\n",
       "ENTP             379        6040       10035\n",
       "ESFJ             445        9251       14882\n",
       "ESFP             588        9109       15281\n",
       "ESTJ             242        4823        7831\n",
       "ESTP             242        3652        6155\n",
       "INFJ             143        2946        4216\n",
       "INFP             174        3300        5435\n",
       "INTJ             150        3069        4909\n",
       "INTP             164        2731        4748\n",
       "ISFJ             274        4964        8968\n",
       "ISFP             349        6061        9735\n",
       "ISTJ              76        1924        2581\n",
       "ISTP             265        4733        7464"
      ]
     },
     "execution_count": 119,
     "metadata": {},
     "output_type": "execute_result"
    }
   ],
   "source": [
    "tweet_sum = tweet_clean.groupby(['MBTI']).sum()\n",
    "tweet_sum "
   ]
  },
  {
   "cell_type": "code",
   "execution_count": 120,
   "metadata": {},
   "outputs": [],
   "source": [
    "def readability(X):\n",
    "    X['readability'] = 206.835 - 1.015*(X['word_count']/X['sentence_count']) -84.6*(X['syll_count']/X['word_count'])\n",
    "    return X"
   ]
  },
  {
   "cell_type": "code",
   "execution_count": 150,
   "metadata": {},
   "outputs": [],
   "source": [
    "tweet_sum = tweet_sum.apply(lambda x: readability(x), axis = 1)"
   ]
  },
  {
   "cell_type": "code",
   "execution_count": 156,
   "metadata": {},
   "outputs": [],
   "source": [
    "tweet_sum.sort_values(by = ['readability'],inplace = True)"
   ]
  },
  {
   "cell_type": "code",
   "execution_count": 152,
   "metadata": {},
   "outputs": [],
   "source": [
    "import matplotlib.pyplot as plt"
   ]
  },
  {
   "cell_type": "code",
   "execution_count": 162,
   "metadata": {},
   "outputs": [
    {
     "data": {
      "text/plain": [
       "<BarContainer object of 16 artists>"
      ]
     },
     "execution_count": 162,
     "metadata": {},
     "output_type": "execute_result"
    },
    {
     "data": {
      "image/png": "[encoded data removed]",
      "text/plain": [
       "<Figure size 720x360 with 1 Axes>"
      ]
     },
     "metadata": {
      "needs_background": "light"
     },
     "output_type": "display_data"
    }
   ],
   "source": [
    "plt.figure(figsize = (10,5))\n",
    "plt.bar(tweet_sum.index, height =tweet_sum['readability'])"
   ]
  },
  {
   "cell_type": "markdown",
   "metadata": {},
   "source": [
    "## 2. Average Word per Sentence"
   ]
  },
  {
   "cell_type": "code",
   "execution_count": 165,
   "metadata": {},
   "outputs": [],
   "source": [
    "tweet_sum ['word_per_sentence'] = tweet_sum ['word_count']/tweet_sum['sentence_count']"
   ]
  },
  {
   "cell_type": "code",
   "execution_count": 170,
   "metadata": {},
   "outputs": [],
   "source": [
    "tweet_sum.sort_values(by = ['word_per_sentence'],inplace = True)"
   ]
  },
  {
   "cell_type": "code",
   "execution_count": 171,
   "metadata": {},
   "outputs": [
    {
     "data": {
      "text/plain": [
       "<BarContainer object of 16 artists>"
      ]
     },
     "execution_count": 171,
     "metadata": {},
     "output_type": "execute_result"
    },
    {
     "data": {
      "image/png": "[encoded data removed]",
      "text/plain": [
       "<Figure size 720x360 with 1 Axes>"
      ]
     },
     "metadata": {
      "needs_background": "light"
     },
     "output_type": "display_data"
    }
   ],
   "source": [
    "plt.figure(figsize = (10,5))\n",
    "plt.bar(tweet_sum.index, height = tweet_sum ['word_per_sentence'])"
   ]
  },
  {
   "cell_type": "markdown",
   "metadata": {},
   "source": [
    "## 3. Average Word Length"
   ]
  },
  {
   "cell_type": "code",
   "execution_count": 173,
   "metadata": {},
   "outputs": [],
   "source": [
    "def avg_word_length(posts_split):\n",
    "    word_length_count = []\n",
    "    count = 0\n",
    "    for post in posts_split:\n",
    "        count += len(post)  \n",
    "    return count"
   ]
  },
  {
   "cell_type": "code",
   "execution_count": 181,
   "metadata": {},
   "outputs": [],
   "source": [
    "tweet_clean['word_length']=tweet_clean['link_free_without_emoji'].apply(avg_word_length)"
   ]
  },
  {
   "cell_type": "code",
   "execution_count": 184,
   "metadata": {},
   "outputs": [],
   "source": [
    "tweet_sum = tweet_clean.groupby(['MBTI']).sum()"
   ]
  },
  {
   "cell_type": "code",
   "execution_count": 186,
   "metadata": {},
   "outputs": [
    {
     "data": {
      "text/html": [
       "<div>\n",
       "<style scoped>\n",
       "    .dataframe tbody tr th:only-of-type {\n",
       "        vertical-align: middle;\n",
       "    }\n",
       "\n",
       "    .dataframe tbody tr th {\n",
       "        vertical-align: top;\n",
       "    }\n",
       "\n",
       "    .dataframe thead th {\n",
       "        text-align: right;\n",
       "    }\n",
       "</style>\n",
       "<table border=\"1\" class=\"dataframe\">\n",
       "  <thead>\n",
       "    <tr style=\"text-align: right;\">\n",
       "      <th></th>\n",
       "      <th>sentence_count</th>\n",
       "      <th>syll_count</th>\n",
       "      <th>word_count</th>\n",
       "      <th>word_length</th>\n",
       "    </tr>\n",
       "    <tr>\n",
       "      <th>MBTI</th>\n",
       "      <th></th>\n",
       "      <th></th>\n",
       "      <th></th>\n",
       "      <th></th>\n",
       "    </tr>\n",
       "  </thead>\n",
       "  <tbody>\n",
       "    <tr>\n",
       "      <th>ENFJ</th>\n",
       "      <td>218</td>\n",
       "      <td>7244</td>\n",
       "      <td>4352</td>\n",
       "      <td>26603</td>\n",
       "    </tr>\n",
       "    <tr>\n",
       "      <th>ENFP</th>\n",
       "      <td>409</td>\n",
       "      <td>9351</td>\n",
       "      <td>5676</td>\n",
       "      <td>35406</td>\n",
       "    </tr>\n",
       "    <tr>\n",
       "      <th>ENTJ</th>\n",
       "      <td>118</td>\n",
       "      <td>2690</td>\n",
       "      <td>1728</td>\n",
       "      <td>10878</td>\n",
       "    </tr>\n",
       "    <tr>\n",
       "      <th>ENTP</th>\n",
       "      <td>379</td>\n",
       "      <td>9978</td>\n",
       "      <td>5983</td>\n",
       "      <td>37412</td>\n",
       "    </tr>\n",
       "    <tr>\n",
       "      <th>ESFJ</th>\n",
       "      <td>445</td>\n",
       "      <td>14807</td>\n",
       "      <td>9176</td>\n",
       "      <td>55480</td>\n",
       "    </tr>\n",
       "    <tr>\n",
       "      <th>ESFP</th>\n",
       "      <td>588</td>\n",
       "      <td>15056</td>\n",
       "      <td>8884</td>\n",
       "      <td>57314</td>\n",
       "    </tr>\n",
       "    <tr>\n",
       "      <th>ESTJ</th>\n",
       "      <td>242</td>\n",
       "      <td>7768</td>\n",
       "      <td>4760</td>\n",
       "      <td>30266</td>\n",
       "    </tr>\n",
       "    <tr>\n",
       "      <th>ESTP</th>\n",
       "      <td>242</td>\n",
       "      <td>6085</td>\n",
       "      <td>3582</td>\n",
       "      <td>23155</td>\n",
       "    </tr>\n",
       "    <tr>\n",
       "      <th>INFJ</th>\n",
       "      <td>143</td>\n",
       "      <td>4188</td>\n",
       "      <td>2918</td>\n",
       "      <td>17906</td>\n",
       "    </tr>\n",
       "    <tr>\n",
       "      <th>INFP</th>\n",
       "      <td>174</td>\n",
       "      <td>5392</td>\n",
       "      <td>3257</td>\n",
       "      <td>20660</td>\n",
       "    </tr>\n",
       "    <tr>\n",
       "      <th>INTJ</th>\n",
       "      <td>150</td>\n",
       "      <td>4891</td>\n",
       "      <td>3051</td>\n",
       "      <td>18613</td>\n",
       "    </tr>\n",
       "    <tr>\n",
       "      <th>INTP</th>\n",
       "      <td>164</td>\n",
       "      <td>4733</td>\n",
       "      <td>2717</td>\n",
       "      <td>17104</td>\n",
       "    </tr>\n",
       "    <tr>\n",
       "      <th>ISFJ</th>\n",
       "      <td>274</td>\n",
       "      <td>8928</td>\n",
       "      <td>4924</td>\n",
       "      <td>32206</td>\n",
       "    </tr>\n",
       "    <tr>\n",
       "      <th>ISFP</th>\n",
       "      <td>349</td>\n",
       "      <td>9618</td>\n",
       "      <td>5944</td>\n",
       "      <td>37105</td>\n",
       "    </tr>\n",
       "    <tr>\n",
       "      <th>ISTJ</th>\n",
       "      <td>76</td>\n",
       "      <td>2571</td>\n",
       "      <td>1914</td>\n",
       "      <td>11493</td>\n",
       "    </tr>\n",
       "    <tr>\n",
       "      <th>ISTP</th>\n",
       "      <td>265</td>\n",
       "      <td>7398</td>\n",
       "      <td>4667</td>\n",
       "      <td>29492</td>\n",
       "    </tr>\n",
       "  </tbody>\n",
       "</table>\n",
       "</div>"
      ],
      "text/plain": [
       "      sentence_count  syll_count  word_count  word_length\n",
       "MBTI                                                     \n",
       "ENFJ             218        7244        4352        26603\n",
       "ENFP             409        9351        5676        35406\n",
       "ENTJ             118        2690        1728        10878\n",
       "ENTP             379        9978        5983        37412\n",
       "ESFJ             445       14807        9176        55480\n",
       "ESFP             588       15056        8884        57314\n",
       "ESTJ             242        7768        4760        30266\n",
       "ESTP             242        6085        3582        23155\n",
       "INFJ             143        4188        2918        17906\n",
       "INFP             174        5392        3257        20660\n",
       "INTJ             150        4891        3051        18613\n",
       "INTP             164        4733        2717        17104\n",
       "ISFJ             274        8928        4924        32206\n",
       "ISFP             349        9618        5944        37105\n",
       "ISTJ              76        2571        1914        11493\n",
       "ISTP             265        7398        4667        29492"
      ]
     },
     "execution_count": 186,
     "metadata": {},
     "output_type": "execute_result"
    }
   ],
   "source": [
    "tweet_sum"
   ]
  },
  {
   "cell_type": "code",
   "execution_count": 187,
   "metadata": {},
   "outputs": [],
   "source": [
    "tweet_sum['avg_word_length'] = tweet_sum['word_length']/tweet_sum['word_count']"
   ]
  },
  {
   "cell_type": "code",
   "execution_count": 190,
   "metadata": {},
   "outputs": [
    {
     "data": {
      "text/plain": [
       "<BarContainer object of 16 artists>"
      ]
     },
     "execution_count": 190,
     "metadata": {},
     "output_type": "execute_result"
    },
    {
     "data": {
      "image/png": "[encoded data removed]",
      "text/plain": [
       "<Figure size 720x360 with 1 Axes>"
      ]
     },
     "metadata": {
      "needs_background": "light"
     },
     "output_type": "display_data"
    }
   ],
   "source": [
    "plt.figure(figsize = (10,5))\n",
    "plt.bar(tweet_sum.index, height = tweet_sum ['avg_word_length'])"
   ]
  },
  {
   "cell_type": "markdown",
   "metadata": {},
   "source": [
    "## 4. Type to token ratio\n",
    "> A type-token ratio (TTR) is the total number of UNIQUE words (types) divided by the total number of words (tokens/word_count) in a given segment of language.<br>\n",
    "> __The closer the TTR ratio is to 1, the greater the lexical richness of the segment.__ <br>\n",
    "> link: https://carla.umn.edu/learnerlanguage/spn/comp/activity4.html#:~:text=A%20type%2Dtoken%20ratio%20(TTR,a%20given%20segment%20of%20language.&text=The%20closer%20the%20TTR%20ratio,lexical%20richness%20of%20the%20segment."
   ]
  },
  {
   "cell_type": "code",
   "execution_count": 209,
   "metadata": {},
   "outputs": [],
   "source": [
    "from collections import Counter"
   ]
  },
  {
   "cell_type": "code",
   "execution_count": 210,
   "metadata": {},
   "outputs": [],
   "source": [
    "def count_unique_word(posts):\n",
    "    count_unique = len(Counter(posts))\n",
    "    return count_unique"
   ]
  },
  {
   "cell_type": "code",
   "execution_count": 211,
   "metadata": {},
   "outputs": [],
   "source": [
    "tweet_clean['count_unique_word'] = tweet_clean['link_free_without_emoji'].apply(count_unique_word)"
   ]
  },
  {
   "cell_type": "code",
   "execution_count": 213,
   "metadata": {},
   "outputs": [
    {
     "data": {
      "text/html": [
       "<div>\n",
       "<style scoped>\n",
       "    .dataframe tbody tr th:only-of-type {\n",
       "        vertical-align: middle;\n",
       "    }\n",
       "\n",
       "    .dataframe tbody tr th {\n",
       "        vertical-align: top;\n",
       "    }\n",
       "\n",
       "    .dataframe thead th {\n",
       "        text-align: right;\n",
       "    }\n",
       "</style>\n",
       "<table border=\"1\" class=\"dataframe\">\n",
       "  <thead>\n",
       "    <tr style=\"text-align: right;\">\n",
       "      <th></th>\n",
       "      <th>MBTI</th>\n",
       "      <th>name</th>\n",
       "      <th>posts</th>\n",
       "      <th>posts_split</th>\n",
       "      <th>punc_free</th>\n",
       "      <th>deEmojify</th>\n",
       "      <th>link_free_without_emoji</th>\n",
       "      <th>sentence_count</th>\n",
       "      <th>syll_count</th>\n",
       "      <th>word_count</th>\n",
       "      <th>word_length</th>\n",
       "      <th>count_unique_word</th>\n",
       "    </tr>\n",
       "  </thead>\n",
       "  <tbody>\n",
       "    <tr>\n",
       "      <th>0</th>\n",
       "      <td>ENTP</td>\n",
       "      <td>BarackObama</td>\n",
       "      <td>In A Promised Land, I talk about the decisions...</td>\n",
       "      <td>[In A Promised Land, I talk about the decision...</td>\n",
       "      <td>[In A Promised Land  I talk about the decision...</td>\n",
       "      <td>[In A Promised Land, I talk about the decision...</td>\n",
       "      <td>[In A Promised Land, I talk about the decision...</td>\n",
       "      <td>7</td>\n",
       "      <td>303</td>\n",
       "      <td>201</td>\n",
       "      <td>1119</td>\n",
       "      <td>7</td>\n",
       "    </tr>\n",
       "    <tr>\n",
       "      <th>1</th>\n",
       "      <td>ESFP</td>\n",
       "      <td>justinbieber</td>\n",
       "      <td>RT @TMobile: We're throwing the ultimate New Y...</td>\n",
       "      <td>[RT @TMobile: We're throwing the ultimate New ...</td>\n",
       "      <td>[RT  TMobile  We re throwing the ultimate New ...</td>\n",
       "      <td>[RT @TMobile: We're throwing the ultimate New ...</td>\n",
       "      <td>[RT @TMobile: We're throwing the ultimate New ...</td>\n",
       "      <td>4</td>\n",
       "      <td>84</td>\n",
       "      <td>52</td>\n",
       "      <td>342</td>\n",
       "      <td>4</td>\n",
       "    </tr>\n",
       "    <tr>\n",
       "      <th>2</th>\n",
       "      <td>ESFP</td>\n",
       "      <td>katyperry</td>\n",
       "      <td>🎶I don’t need diamonds, no sparkly things, cau...</td>\n",
       "      <td>[🎶I don’t need diamonds, no sparkly things, ca...</td>\n",
       "      <td>[🎶I don’t need diamonds  no sparkly things  ca...</td>\n",
       "      <td>[I don’t need diamonds, no sparkly things, cau...</td>\n",
       "      <td>[I don’t need diamonds, no sparkly things, cau...</td>\n",
       "      <td>8</td>\n",
       "      <td>133</td>\n",
       "      <td>91</td>\n",
       "      <td>529</td>\n",
       "      <td>8</td>\n",
       "    </tr>\n",
       "    <tr>\n",
       "      <th>3</th>\n",
       "      <td>ISFP</td>\n",
       "      <td>rihanna</td>\n",
       "      <td>Just me pullin up to Sephora to make sure @fen...</td>\n",
       "      <td>[Just me pullin up to Sephora to make sure @fe...</td>\n",
       "      <td>[Just me pullin up to Sephora to make sure  fe...</td>\n",
       "      <td>[Just me pullin up to Sephora to make sure @fe...</td>\n",
       "      <td>[Just me pullin up to Sephora to make sure @fe...</td>\n",
       "      <td>1</td>\n",
       "      <td>50</td>\n",
       "      <td>34</td>\n",
       "      <td>211</td>\n",
       "      <td>1</td>\n",
       "    </tr>\n",
       "    <tr>\n",
       "      <th>4</th>\n",
       "      <td>ESFP</td>\n",
       "      <td>Cristiano</td>\n",
       "      <td>We all miss the supporters in the stadiums and...</td>\n",
       "      <td>[We all miss the supporters in the stadiums an...</td>\n",
       "      <td>[We all miss the supporters in the stadiums an...</td>\n",
       "      <td>[We all miss the supporters in the stadiums an...</td>\n",
       "      <td>[We all miss the supporters in the stadiums an...</td>\n",
       "      <td>4</td>\n",
       "      <td>182</td>\n",
       "      <td>126</td>\n",
       "      <td>712</td>\n",
       "      <td>4</td>\n",
       "    </tr>\n",
       "    <tr>\n",
       "      <th>...</th>\n",
       "      <td>...</td>\n",
       "      <td>...</td>\n",
       "      <td>...</td>\n",
       "      <td>...</td>\n",
       "      <td>...</td>\n",
       "      <td>...</td>\n",
       "      <td>...</td>\n",
       "      <td>...</td>\n",
       "      <td>...</td>\n",
       "      <td>...</td>\n",
       "      <td>...</td>\n",
       "      <td>...</td>\n",
       "    </tr>\n",
       "    <tr>\n",
       "      <th>418</th>\n",
       "      <td>ENFP</td>\n",
       "      <td>WillyrexYT</td>\n",
       "      <td>Empezamos CYBERPUNK en DIRECTO!! https://t.co/...</td>\n",
       "      <td>[Empezamos CYBERPUNK en DIRECTO!! https://t.co...</td>\n",
       "      <td>[Empezamos CYBERPUNK en DIRECTO   https   t co...</td>\n",
       "      <td>[Empezamos CYBERPUNK en DIRECTO!! https://t.co...</td>\n",
       "      <td>[Empezamos CYBERPUNK en DIRECTO!! ,  en 5h el ...</td>\n",
       "      <td>15</td>\n",
       "      <td>332</td>\n",
       "      <td>183</td>\n",
       "      <td>1105</td>\n",
       "      <td>15</td>\n",
       "    </tr>\n",
       "    <tr>\n",
       "      <th>419</th>\n",
       "      <td>ISTP</td>\n",
       "      <td>1future</td>\n",
       "      <td>Juice still dropping classics til this day. Le...</td>\n",
       "      <td>[Juice still dropping classics til this day. L...</td>\n",
       "      <td>[Juice still dropping classics til this day  L...</td>\n",
       "      <td>[Juice still dropping classics til this day. L...</td>\n",
       "      <td>[Juice still dropping classics til this day. L...</td>\n",
       "      <td>4</td>\n",
       "      <td>60</td>\n",
       "      <td>38</td>\n",
       "      <td>251</td>\n",
       "      <td>4</td>\n",
       "    </tr>\n",
       "    <tr>\n",
       "      <th>420</th>\n",
       "      <td>INFJ</td>\n",
       "      <td>NASAHubble</td>\n",
       "      <td>Explore the Crab Nebula...but make it musical!...</td>\n",
       "      <td>[Explore the Crab Nebula...but make it musical...</td>\n",
       "      <td>[Explore the Crab Nebula   but make it musical...</td>\n",
       "      <td>[Explore the Crab Nebula...but make it musical...</td>\n",
       "      <td>[Explore the Crab Nebula...but make it musical...</td>\n",
       "      <td>8</td>\n",
       "      <td>307</td>\n",
       "      <td>172</td>\n",
       "      <td>1113</td>\n",
       "      <td>7</td>\n",
       "    </tr>\n",
       "    <tr>\n",
       "      <th>421</th>\n",
       "      <td>ENTJ</td>\n",
       "      <td>jimmycarr</td>\n",
       "      <td>@mrschappers67 https://t.co/KVRUhmFAH4 ||| I’m...</td>\n",
       "      <td>[@mrschappers67 https://t.co/KVRUhmFAH4 ,  I’m...</td>\n",
       "      <td>[ mrschappers67 https   t co KVRUhmFAH4 ,  I’m...</td>\n",
       "      <td>[@mrschappers67 https://t.co/KVRUhmFAH4 ,  I’m...</td>\n",
       "      <td>[@mrschappers67 ,  I’m performing a couple of ...</td>\n",
       "      <td>3</td>\n",
       "      <td>55</td>\n",
       "      <td>32</td>\n",
       "      <td>235</td>\n",
       "      <td>3</td>\n",
       "    </tr>\n",
       "    <tr>\n",
       "      <th>422</th>\n",
       "      <td>ESFP</td>\n",
       "      <td>CherLloyd</td>\n",
       "      <td>Heyyyyy 💕\\nhttps://t.co/UCvRCojTnb https://t.c...</td>\n",
       "      <td>[Heyyyyy 💕\\nhttps://t.co/UCvRCojTnb https://t....</td>\n",
       "      <td>[Heyyyyy 💕\\nhttps   t co UCvRCojTnb https   t ...</td>\n",
       "      <td>[Heyyyyy \\nhttps://t.co/UCvRCojTnb https://t.c...</td>\n",
       "      <td>[Heyyyyy ,              ]</td>\n",
       "      <td>2</td>\n",
       "      <td>1</td>\n",
       "      <td>1</td>\n",
       "      <td>21</td>\n",
       "      <td>2</td>\n",
       "    </tr>\n",
       "  </tbody>\n",
       "</table>\n",
       "<p>423 rows × 12 columns</p>\n",
       "</div>"
      ],
      "text/plain": [
       "     MBTI          name                                              posts  \\\n",
       "0    ENTP   BarackObama  In A Promised Land, I talk about the decisions...   \n",
       "1    ESFP  justinbieber  RT @TMobile: We're throwing the ultimate New Y...   \n",
       "2    ESFP     katyperry  🎶I don’t need diamonds, no sparkly things, cau...   \n",
       "3    ISFP       rihanna  Just me pullin up to Sephora to make sure @fen...   \n",
       "4    ESFP     Cristiano  We all miss the supporters in the stadiums and...   \n",
       "..    ...           ...                                                ...   \n",
       "418  ENFP    WillyrexYT  Empezamos CYBERPUNK en DIRECTO!! https://t.co/...   \n",
       "419  ISTP       1future  Juice still dropping classics til this day. Le...   \n",
       "420  INFJ    NASAHubble  Explore the Crab Nebula...but make it musical!...   \n",
       "421  ENTJ     jimmycarr  @mrschappers67 https://t.co/KVRUhmFAH4 ||| I’m...   \n",
       "422  ESFP     CherLloyd  Heyyyyy 💕\\nhttps://t.co/UCvRCojTnb https://t.c...   \n",
       "\n",
       "                                           posts_split  \\\n",
       "0    [In A Promised Land, I talk about the decision...   \n",
       "1    [RT @TMobile: We're throwing the ultimate New ...   \n",
       "2    [🎶I don’t need diamonds, no sparkly things, ca...   \n",
       "3    [Just me pullin up to Sephora to make sure @fe...   \n",
       "4    [We all miss the supporters in the stadiums an...   \n",
       "..                                                 ...   \n",
       "418  [Empezamos CYBERPUNK en DIRECTO!! https://t.co...   \n",
       "419  [Juice still dropping classics til this day. L...   \n",
       "420  [Explore the Crab Nebula...but make it musical...   \n",
       "421  [@mrschappers67 https://t.co/KVRUhmFAH4 ,  I’m...   \n",
       "422  [Heyyyyy 💕\\nhttps://t.co/UCvRCojTnb https://t....   \n",
       "\n",
       "                                             punc_free  \\\n",
       "0    [In A Promised Land  I talk about the decision...   \n",
       "1    [RT  TMobile  We re throwing the ultimate New ...   \n",
       "2    [🎶I don’t need diamonds  no sparkly things  ca...   \n",
       "3    [Just me pullin up to Sephora to make sure  fe...   \n",
       "4    [We all miss the supporters in the stadiums an...   \n",
       "..                                                 ...   \n",
       "418  [Empezamos CYBERPUNK en DIRECTO   https   t co...   \n",
       "419  [Juice still dropping classics til this day  L...   \n",
       "420  [Explore the Crab Nebula   but make it musical...   \n",
       "421  [ mrschappers67 https   t co KVRUhmFAH4 ,  I’m...   \n",
       "422  [Heyyyyy 💕\\nhttps   t co UCvRCojTnb https   t ...   \n",
       "\n",
       "                                             deEmojify  \\\n",
       "0    [In A Promised Land, I talk about the decision...   \n",
       "1    [RT @TMobile: We're throwing the ultimate New ...   \n",
       "2    [I don’t need diamonds, no sparkly things, cau...   \n",
       "3    [Just me pullin up to Sephora to make sure @fe...   \n",
       "4    [We all miss the supporters in the stadiums an...   \n",
       "..                                                 ...   \n",
       "418  [Empezamos CYBERPUNK en DIRECTO!! https://t.co...   \n",
       "419  [Juice still dropping classics til this day. L...   \n",
       "420  [Explore the Crab Nebula...but make it musical...   \n",
       "421  [@mrschappers67 https://t.co/KVRUhmFAH4 ,  I’m...   \n",
       "422  [Heyyyyy \\nhttps://t.co/UCvRCojTnb https://t.c...   \n",
       "\n",
       "                               link_free_without_emoji  sentence_count  \\\n",
       "0    [In A Promised Land, I talk about the decision...               7   \n",
       "1    [RT @TMobile: We're throwing the ultimate New ...               4   \n",
       "2    [I don’t need diamonds, no sparkly things, cau...               8   \n",
       "3    [Just me pullin up to Sephora to make sure @fe...               1   \n",
       "4    [We all miss the supporters in the stadiums an...               4   \n",
       "..                                                 ...             ...   \n",
       "418  [Empezamos CYBERPUNK en DIRECTO!! ,  en 5h el ...              15   \n",
       "419  [Juice still dropping classics til this day. L...               4   \n",
       "420  [Explore the Crab Nebula...but make it musical...               8   \n",
       "421  [@mrschappers67 ,  I’m performing a couple of ...               3   \n",
       "422                          [Heyyyyy ,              ]               2   \n",
       "\n",
       "     syll_count  word_count  word_length  count_unique_word  \n",
       "0           303         201         1119                  7  \n",
       "1            84          52          342                  4  \n",
       "2           133          91          529                  8  \n",
       "3            50          34          211                  1  \n",
       "4           182         126          712                  4  \n",
       "..          ...         ...          ...                ...  \n",
       "418         332         183         1105                 15  \n",
       "419          60          38          251                  4  \n",
       "420         307         172         1113                  7  \n",
       "421          55          32          235                  3  \n",
       "422           1           1           21                  2  \n",
       "\n",
       "[423 rows x 12 columns]"
      ]
     },
     "execution_count": 213,
     "metadata": {},
     "output_type": "execute_result"
    }
   ],
   "source": [
    "tweet_clean"
   ]
  },
  {
   "cell_type": "code",
   "execution_count": 214,
   "metadata": {},
   "outputs": [],
   "source": [
    "tweet_clean['TTR']=tweet_clean['count_unique_word']/tweet_clean['word_count']"
   ]
  },
  {
   "cell_type": "code",
   "execution_count": 235,
   "metadata": {},
   "outputs": [],
   "source": [
    "import math\n",
    "tweet_mean = tweet_clean[tweet_clean['TTR'] != math.inf].groupby(['MBTI']).mean()\n",
    "tweet_mean.sort_values(by = ['TTR'],inplace = True)"
   ]
  },
  {
   "cell_type": "code",
   "execution_count": 236,
   "metadata": {},
   "outputs": [
    {
     "data": {
      "text/plain": [
       "<BarContainer object of 16 artists>"
      ]
     },
     "execution_count": 236,
     "metadata": {},
     "output_type": "execute_result"
    },
    {
     "data": {
      "image/png": "[encoded data removed]",
      "text/plain": [
       "<Figure size 720x360 with 1 Axes>"
      ]
     },
     "metadata": {
      "needs_background": "light"
     },
     "output_type": "display_data"
    }
   ],
   "source": [
    "plt.figure(figsize = (10,5))\n",
    "plt.bar(tweet_sum.index, height = tweet_mean ['TTR'])"
   ]
  },
  {
   "cell_type": "markdown",
   "metadata": {},
   "source": [
    "## 5. VAD sentiment analysis"
   ]
  },
  {
   "cell_type": "code",
   "execution_count": 237,
   "metadata": {},
   "outputs": [],
   "source": [
    "from nltk.sentiment.vader import SentimentIntensityAnalyzer"
   ]
  },
  {
   "cell_type": "code",
   "execution_count": 238,
   "metadata": {},
   "outputs": [],
   "source": [
    "def VAD(posts):\n",
    "    analyzer = SentimentIntensityAnalyzer()\n",
    "    return analyzer.polarity_scores(posts)"
   ]
  },
  {
   "cell_type": "code",
   "execution_count": 292,
   "metadata": {},
   "outputs": [],
   "source": [
    "tweet_clean['join_t'] = tweet_clean.link_free_without_emoji.apply(''.join)"
   ]
  },
  {
   "cell_type": "code",
   "execution_count": 293,
   "metadata": {},
   "outputs": [],
   "source": [
    "tweet_clean['VAD'] = tweet_clean['join_t'].apply(VAD)"
   ]
  },
  {
   "cell_type": "code",
   "execution_count": 294,
   "metadata": {},
   "outputs": [
    {
     "data": {
      "text/plain": [
       "[{'neg': 0.007, 'neu': 0.799, 'pos': 0.194, 'compound': 0.9889},\n",
       " {'neg': 0.0, 'neu': 0.933, 'pos': 0.067, 'compound': 0.5562},\n",
       " {'neg': 0.051, 'neu': 0.68, 'pos': 0.269, 'compound': 0.9812},\n",
       " {'neg': 0.0, 'neu': 0.798, 'pos': 0.202, 'compound': 0.7825},\n",
       " {'neg': 0.033, 'neu': 0.647, 'pos': 0.32, 'compound': 0.9924}]"
      ]
     },
     "execution_count": 294,
     "metadata": {},
     "output_type": "execute_result"
    }
   ],
   "source": [
    "tweet_clean['VAD'][:5].tolist()"
   ]
  },
  {
   "cell_type": "markdown",
   "metadata": {},
   "source": [
    "# 6. NRC emotion"
   ]
  },
  {
   "cell_type": "code",
   "execution_count": 283,
   "metadata": {},
   "outputs": [],
   "source": [
    "from nrclex import NRCLex"
   ]
  },
  {
   "cell_type": "code",
   "execution_count": 284,
   "metadata": {},
   "outputs": [],
   "source": [
    "def NRC_emotion(posts):\n",
    "    emotion = NRCLex(posts)\n",
    "    return emotion.affect_frequencies"
   ]
  },
  {
   "cell_type": "code",
   "execution_count": 285,
   "metadata": {},
   "outputs": [],
   "source": [
    "def top_emotions (posts):\n",
    "    emotion = NRCLex(posts)\n",
    "    return emotion.top_emotions"
   ]
  },
  {
   "cell_type": "code",
   "execution_count": 287,
   "metadata": {},
   "outputs": [],
   "source": [
    "tweet_clean['NRC_emotion'] = tweet_clean['join_t'].apply(NRC_emotion)\n",
    "tweet_clean['top_emotion'] = tweet_clean['join_t'].apply(top_emotions)"
   ]
  },
  {
   "cell_type": "code",
   "execution_count": 290,
   "metadata": {},
   "outputs": [],
   "source": [
    "tweet_sentiment_feature = tweet_clean[['MBTI','name','VAD','NRC_emotion','top_emotion']]"
   ]
  },
  {
   "cell_type": "code",
   "execution_count": 291,
   "metadata": {},
   "outputs": [
    {
     "data": {
      "text/html": [
       "<div>\n",
       "<style scoped>\n",
       "    .dataframe tbody tr th:only-of-type {\n",
       "        vertical-align: middle;\n",
       "    }\n",
       "\n",
       "    .dataframe tbody tr th {\n",
       "        vertical-align: top;\n",
       "    }\n",
       "\n",
       "    .dataframe thead th {\n",
       "        text-align: right;\n",
       "    }\n",
       "</style>\n",
       "<table border=\"1\" class=\"dataframe\">\n",
       "  <thead>\n",
       "    <tr style=\"text-align: right;\">\n",
       "      <th></th>\n",
       "      <th>MBTI</th>\n",
       "      <th>name</th>\n",
       "      <th>VAD</th>\n",
       "      <th>NRC_emotion</th>\n",
       "      <th>top_emotion</th>\n",
       "    </tr>\n",
       "  </thead>\n",
       "  <tbody>\n",
       "    <tr>\n",
       "      <th>0</th>\n",
       "      <td>ENTP</td>\n",
       "      <td>BarackObama</td>\n",
       "      <td>{'neg': 0.007, 'neu': 0.799, 'pos': 0.194, 'co...</td>\n",
       "      <td>{'fear': 0.01639344262295082, 'anger': 0.06557...</td>\n",
       "      <td>[(positive, 0.19672131147540983)]</td>\n",
       "    </tr>\n",
       "    <tr>\n",
       "      <th>1</th>\n",
       "      <td>ESFP</td>\n",
       "      <td>justinbieber</td>\n",
       "      <td>{'neg': 0.0, 'neu': 0.933, 'pos': 0.067, 'comp...</td>\n",
       "      <td>{'fear': 0.0, 'anger': 0.0, 'anticip': 0.0, 't...</td>\n",
       "      <td>[(anticipation, 0.375)]</td>\n",
       "    </tr>\n",
       "    <tr>\n",
       "      <th>2</th>\n",
       "      <td>ESFP</td>\n",
       "      <td>katyperry</td>\n",
       "      <td>{'neg': 0.051, 'neu': 0.68, 'pos': 0.269, 'com...</td>\n",
       "      <td>{'fear': 0.07692307692307693, 'anger': 0.03846...</td>\n",
       "      <td>[(positive, 0.23076923076923078)]</td>\n",
       "    </tr>\n",
       "    <tr>\n",
       "      <th>3</th>\n",
       "      <td>ISFP</td>\n",
       "      <td>rihanna</td>\n",
       "      <td>{'neg': 0.0, 'neu': 0.798, 'pos': 0.202, 'comp...</td>\n",
       "      <td>{'fear': 0.0, 'anger': 0.0, 'anticip': 0.0, 't...</td>\n",
       "      <td>[(fear, 0.0), (anger, 0.0), (anticip, 0.0), (t...</td>\n",
       "    </tr>\n",
       "    <tr>\n",
       "      <th>4</th>\n",
       "      <td>ESFP</td>\n",
       "      <td>Cristiano</td>\n",
       "      <td>{'neg': 0.033, 'neu': 0.647, 'pos': 0.32, 'com...</td>\n",
       "      <td>{'fear': 0.16666666666666666, 'anger': 0.08333...</td>\n",
       "      <td>[(trust, 0.3333333333333333)]</td>\n",
       "    </tr>\n",
       "    <tr>\n",
       "      <th>...</th>\n",
       "      <td>...</td>\n",
       "      <td>...</td>\n",
       "      <td>...</td>\n",
       "      <td>...</td>\n",
       "      <td>...</td>\n",
       "    </tr>\n",
       "    <tr>\n",
       "      <th>418</th>\n",
       "      <td>ENFP</td>\n",
       "      <td>WillyrexYT</td>\n",
       "      <td>{'neg': 0.056, 'neu': 0.897, 'pos': 0.047, 'co...</td>\n",
       "      <td>{'fear': 0.3333333333333333, 'anger': 0.333333...</td>\n",
       "      <td>[(fear, 0.3333333333333333), (anger, 0.3333333...</td>\n",
       "    </tr>\n",
       "    <tr>\n",
       "      <th>419</th>\n",
       "      <td>ISTP</td>\n",
       "      <td>1future</td>\n",
       "      <td>{'neg': 0.0, 'neu': 0.613, 'pos': 0.387, 'comp...</td>\n",
       "      <td>{'fear': 0.0, 'anger': 0.0, 'anticip': 0.0, 't...</td>\n",
       "      <td>[(positive, 0.42857142857142855), (joy, 0.4285...</td>\n",
       "    </tr>\n",
       "    <tr>\n",
       "      <th>420</th>\n",
       "      <td>INFJ</td>\n",
       "      <td>NASAHubble</td>\n",
       "      <td>{'neg': 0.013, 'neu': 0.942, 'pos': 0.044, 'co...</td>\n",
       "      <td>{'fear': 0.034482758620689655, 'anger': 0.0689...</td>\n",
       "      <td>[(positive, 0.27586206896551724)]</td>\n",
       "    </tr>\n",
       "    <tr>\n",
       "      <th>421</th>\n",
       "      <td>ENTJ</td>\n",
       "      <td>jimmycarr</td>\n",
       "      <td>{'neg': 0.0, 'neu': 0.853, 'pos': 0.147, 'comp...</td>\n",
       "      <td>{'fear': 0.2, 'anger': 0.2, 'anticip': 0.0, 't...</td>\n",
       "      <td>[(fear, 0.2), (anger, 0.2), (negative, 0.2), (...</td>\n",
       "    </tr>\n",
       "    <tr>\n",
       "      <th>422</th>\n",
       "      <td>ESFP</td>\n",
       "      <td>CherLloyd</td>\n",
       "      <td>{'neg': 0.0, 'neu': 1.0, 'pos': 0.0, 'compound...</td>\n",
       "      <td>{'fear': 0.0, 'anger': 0.0, 'anticip': 0.0, 't...</td>\n",
       "      <td>[(fear, 0.0), (anger, 0.0), (anticip, 0.0), (t...</td>\n",
       "    </tr>\n",
       "  </tbody>\n",
       "</table>\n",
       "<p>423 rows × 5 columns</p>\n",
       "</div>"
      ],
      "text/plain": [
       "     MBTI          name                                                VAD  \\\n",
       "0    ENTP   BarackObama  {'neg': 0.007, 'neu': 0.799, 'pos': 0.194, 'co...   \n",
       "1    ESFP  justinbieber  {'neg': 0.0, 'neu': 0.933, 'pos': 0.067, 'comp...   \n",
       "2    ESFP     katyperry  {'neg': 0.051, 'neu': 0.68, 'pos': 0.269, 'com...   \n",
       "3    ISFP       rihanna  {'neg': 0.0, 'neu': 0.798, 'pos': 0.202, 'comp...   \n",
       "4    ESFP     Cristiano  {'neg': 0.033, 'neu': 0.647, 'pos': 0.32, 'com...   \n",
       "..    ...           ...                                                ...   \n",
       "418  ENFP    WillyrexYT  {'neg': 0.056, 'neu': 0.897, 'pos': 0.047, 'co...   \n",
       "419  ISTP       1future  {'neg': 0.0, 'neu': 0.613, 'pos': 0.387, 'comp...   \n",
       "420  INFJ    NASAHubble  {'neg': 0.013, 'neu': 0.942, 'pos': 0.044, 'co...   \n",
       "421  ENTJ     jimmycarr  {'neg': 0.0, 'neu': 0.853, 'pos': 0.147, 'comp...   \n",
       "422  ESFP     CherLloyd  {'neg': 0.0, 'neu': 1.0, 'pos': 0.0, 'compound...   \n",
       "\n",
       "                                           NRC_emotion  \\\n",
       "0    {'fear': 0.01639344262295082, 'anger': 0.06557...   \n",
       "1    {'fear': 0.0, 'anger': 0.0, 'anticip': 0.0, 't...   \n",
       "2    {'fear': 0.07692307692307693, 'anger': 0.03846...   \n",
       "3    {'fear': 0.0, 'anger': 0.0, 'anticip': 0.0, 't...   \n",
       "4    {'fear': 0.16666666666666666, 'anger': 0.08333...   \n",
       "..                                                 ...   \n",
       "418  {'fear': 0.3333333333333333, 'anger': 0.333333...   \n",
       "419  {'fear': 0.0, 'anger': 0.0, 'anticip': 0.0, 't...   \n",
       "420  {'fear': 0.034482758620689655, 'anger': 0.0689...   \n",
       "421  {'fear': 0.2, 'anger': 0.2, 'anticip': 0.0, 't...   \n",
       "422  {'fear': 0.0, 'anger': 0.0, 'anticip': 0.0, 't...   \n",
       "\n",
       "                                           top_emotion  \n",
       "0                    [(positive, 0.19672131147540983)]  \n",
       "1                              [(anticipation, 0.375)]  \n",
       "2                    [(positive, 0.23076923076923078)]  \n",
       "3    [(fear, 0.0), (anger, 0.0), (anticip, 0.0), (t...  \n",
       "4                        [(trust, 0.3333333333333333)]  \n",
       "..                                                 ...  \n",
       "418  [(fear, 0.3333333333333333), (anger, 0.3333333...  \n",
       "419  [(positive, 0.42857142857142855), (joy, 0.4285...  \n",
       "420                  [(positive, 0.27586206896551724)]  \n",
       "421  [(fear, 0.2), (anger, 0.2), (negative, 0.2), (...  \n",
       "422  [(fear, 0.0), (anger, 0.0), (anticip, 0.0), (t...  \n",
       "\n",
       "[423 rows x 5 columns]"
      ]
     },
     "execution_count": 291,
     "metadata": {},
     "output_type": "execute_result"
    }
   ],
   "source": [
    "tweet_sentiment_feature"
   ]
  },
  {
   "cell_type": "code",
   "execution_count": null,
   "metadata": {},
   "outputs": [],
   "source": []
  }
 ],
 "metadata": {
  "kernelspec": {
   "display_name": "Python 3",
   "language": "python",
   "name": "python3"
  },
  "language_info": {
   "codemirror_mode": {
    "name": "ipython",
    "version": 3
   },
   "file_extension": ".py",
   "mimetype": "text/x-python",
   "name": "python",
   "nbconvert_exporter": "python",
   "pygments_lexer": "ipython3",
   "version": "3.7.7"
  }
 },
 "nbformat": 4,
 "nbformat_minor": 4
}
