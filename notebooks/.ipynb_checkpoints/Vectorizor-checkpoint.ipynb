{
 "cells": [
  {
   "cell_type": "markdown",
   "metadata": {},
   "source": [
    "# Vectorizor function"
   ]
  },
  {
   "cell_type": "code",
   "execution_count": null,
   "metadata": {},
   "outputs": [],
   "source": [
    "def vectorizor(df):\n",
    "    import numpy as np\n",
    "    from ast import literal_eval\n",
    "    from sklearn.preprocessing import LabelEncoder\n",
    "    from sklearn.model_selection import train_test_split\n",
    "    from gensim.models import Word2Vec\n",
    "    from tensorflow.keras.preprocessing.sequence import pad_sequences\n",
    "    def tokenize_for_w2v(linkfree_post):\n",
    "        linkfree_post.replace('|||', ' ')\n",
    "        return linkfree_post.split()\n",
    "    df['tokenized'] = df.linkfree_combined.apply(tokenize_for_w2v)\n",
    "    X = df.tokenized.tolist()\n",
    "    le = LabelEncoder()\n",
    "    y = df['type']\n",
    "    y = le.fit_transform(y)\n",
    "    X_train,X_test,y_train,y_test = train_test_split(X,y,test_size = 0.3, random_state = 1)\n",
    "    word2vec = Word2Vec(sentences=X_train)\n",
    "    def embed_sentence(word2vec, sentence):\n",
    "        embedded_sentence = []\n",
    "        for word in sentence:\n",
    "            if word in word2vec.wv:\n",
    "                embedded_sentence.append(word2vec.wv[word])\n",
    "\n",
    "        return np.array(embedded_sentence)\n",
    "    def embedding(word2vec, sentences):\n",
    "        embed = []\n",
    "\n",
    "        for sentence in sentences:\n",
    "            embedded_sentence = embed_sentence(word2vec, sentence)\n",
    "            embed.append(embedded_sentence)\n",
    "\n",
    "        return embed\n",
    "\n",
    "\n",
    "    X_train = embedding(word2vec, X_train)\n",
    "    X_test = embedding(word2vec, X_test)\n",
    "    X_train_pad = pad_sequences(X_train, dtype='float32', padding='post')\n",
    "    X_test_pad = pad_sequences(X_test, dtype='float32', padding='post')\n",
    "    return {'X_train_pad':X_train_pad,'X_test_pad':X_test_pad}\n",
    "\n",
    "import pandas as pd\n",
    "\n",
    "df = pd.read_csv('../data/linkfree_combined.csv')\n",
    "vectorizor(df)"
   ]
  },
  {
   "cell_type": "code",
   "execution_count": null,
   "metadata": {},
   "outputs": [],
   "source": []
  }
 ],
 "metadata": {
  "kernelspec": {
   "display_name": "Python 3",
   "language": "python",
   "name": "python3"
  },
  "language_info": {
   "codemirror_mode": {
    "name": "ipython",
    "version": 3
   },
   "file_extension": ".py",
   "mimetype": "text/x-python",
   "name": "python",
   "nbconvert_exporter": "python",
   "pygments_lexer": "ipython3",
   "version": "3.7.7"
  }
 },
 "nbformat": 4,
 "nbformat_minor": 4
}
